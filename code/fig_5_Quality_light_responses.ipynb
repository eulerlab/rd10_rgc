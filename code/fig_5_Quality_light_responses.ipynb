{
 "cells": [
  {
   "cell_type": "markdown",
   "id": "199a8390-3bce-43ae-8337-518f7d6b3f5b",
   "metadata": {},
   "source": [
    "# Figure 5: Quality of the ligth-evoked responses"
   ]
  },
  {
   "cell_type": "markdown",
   "id": "fba1ba41-042a-4235-912a-0217bce72540",
   "metadata": {
    "tags": []
   },
   "source": [
    "\n",
    "# Imports"
   ]
  },
  {
   "cell_type": "code",
   "execution_count": 1,
   "id": "3194f92b-4be1-4184-b642-b260ec621c00",
   "metadata": {
    "ExecuteTime": {
     "end_time": "2025-01-30T14:30:39.286917Z",
     "start_time": "2025-01-30T14:30:39.255324Z"
    }
   },
   "outputs": [],
   "source": [
    "import matplotlib.pyplot as plt\n",
    "import numpy as np\n",
    "import pandas as pd\n",
    "import seaborn as sns\n",
    "from statannotations.Annotator import Annotator\n",
    "import data_plots"
   ]
  },
  {
   "cell_type": "markdown",
   "id": "2a3a1743-0d02-4269-b3f4-091eb270a2ab",
   "metadata": {},
   "source": [
    "# --------------------------------------------------------------------"
   ]
  },
  {
   "cell_type": "markdown",
   "id": "f5242d5f-e407-4ac3-9a69-fe2adc551947",
   "metadata": {},
   "source": [
    "# Load data"
   ]
  },
  {
   "cell_type": "code",
   "execution_count": 84,
   "id": "8b785b4d-9d64-4e27-8124-69527f5b6d5d",
   "metadata": {
    "ExecuteTime": {
     "end_time": "2025-01-30T14:42:10.556012Z",
     "start_time": "2025-01-30T14:42:09.188070Z"
    }
   },
   "outputs": [],
   "source": [
    "file_path = '../data'  # Adjust path to file if necessary\n",
    "file_name = 'rd10_all_data.h5'\n",
    "joined_path = os.path.join(file_path, file_name)\n",
    "rd10_df = pd.read_hdf(joined_path, key='df')"
   ]
  },
  {
   "cell_type": "code",
   "execution_count": 3,
   "id": "93b348c6-75ea-49fb-b218-dc7410891426",
   "metadata": {
    "ExecuteTime": {
     "end_time": "2025-01-30T14:30:40.555358Z",
     "start_time": "2025-01-30T14:30:40.539806Z"
    }
   },
   "outputs": [
    {
     "data": {
      "text/plain": [
       "Index(['experimenter', 'date', 'exp_num', 'field', 'roi_id', 'preproc_chirp',\n",
       "       'preproc_bar', 'animgender', 'celltype', 'max_confidence',\n",
       "       'roi_size_um2', 'gchirp_on_off_index', 'gchirp_transience_index',\n",
       "       'bar_ds_index', 'bar_ds_pvalue', 'bar_pref_dir', 'bar_os_index',\n",
       "       'bar_os_pvalue', 'bar_pref_or', 'bar_d_qi', 'gchirp_qidx', 'animrem',\n",
       "       'genline'],\n",
       "      dtype='object')"
      ]
     },
     "execution_count": 3,
     "metadata": {},
     "output_type": "execute_result"
    }
   ],
   "source": [
    "rd10_df.keys()"
   ]
  },
  {
   "cell_type": "markdown",
   "id": "f3bacaa4-7199-4bc8-91ac-5649c95efca2",
   "metadata": {
    "jp-MarkdownHeadingCollapsed": true
   },
   "source": [
    "# --------------------------------------------------------------------"
   ]
  },
  {
   "cell_type": "markdown",
   "id": "20428b5d-5606-480b-9dc6-b3be45477e2f",
   "metadata": {},
   "source": [
    "# Helper functions\n",
    "\n"
   ]
  },
  {
   "cell_type": "code",
   "execution_count": 4,
   "id": "4e424cb7-5ef1-4a6a-b249-5d17b8bfbf33",
   "metadata": {
    "ExecuteTime": {
     "end_time": "2025-01-30T14:30:40.657132Z",
     "start_time": "2025-01-30T14:30:40.643679Z"
    }
   },
   "outputs": [],
   "source": [
    "def plot_test(ax, df, x, y, order, pairs, test=\"mann-whitney\", hue=None, hue_order=None, palette=None, marker=None,\n",
    "              ylabel=None):\n",
    "    sns.boxplot(ax=ax, data=df, x=x, y=y, fliersize=0, palette=palette, order=order, hue=hue, hue_order=hue_order)\n",
    "\n",
    "    annotator = Annotator(ax=ax, pairs=pairs, plot='boxplot', data=df, x=x, y=y, order=order, hue=hue,\n",
    "                          hue_order=hue_order)\n",
    "    annotator.configure(test=test, comparisons_correction=\"BH\" if len(order) > 2 else None,\n",
    "                        text_format='star', loc='outside', verbose=2,\n",
    "                        text_offset=-0.1, fontsize=9, line_height=0.02, line_offset=0.0, line_width=1)\n",
    "    annotator.apply_test().annotate(line_offset_to_group=0.02, line_offset=0.01)\n",
    "\n",
    "    if ylabel is not None:\n",
    "        ax.set_ylabel(ylabel)"
   ]
  },
  {
   "cell_type": "markdown",
   "id": "1ca96760-f589-4c91-af20-0f4b4fd3d394",
   "metadata": {},
   "source": [
    "# --------------------------------------------------------------------"
   ]
  },
  {
   "cell_type": "markdown",
   "id": "c190030f-31cb-4cc1-8037-b0b9b2d1ce88",
   "metadata": {},
   "source": [
    "# Percent of cells exceeding QI thresholds"
   ]
  },
  {
   "cell_type": "code",
   "execution_count": 5,
   "id": "168ad870-9e1c-47fa-9ed7-1603886c9313",
   "metadata": {
    "ExecuteTime": {
     "end_time": "2025-01-30T14:30:40.761171Z",
     "start_time": "2025-01-30T14:30:40.690276Z"
    }
   },
   "outputs": [
    {
     "name": "stdout",
     "output_type": "stream",
     "text": [
      "36.41 41.92 35.55 49.86\n"
     ]
    }
   ],
   "source": [
    "# CHIRP WT\n",
    "## exceeding threshold\n",
    "wt_p30_qi = rd10_df[(rd10_df['genline'] == 'Bl6') & (rd10_df['animrem'] == 'P30') & (rd10_df['gchirp_qidx'] >= 0.35)][\n",
    "    'gchirp_qidx'].tolist()\n",
    "wt_p30_qi = (len(wt_p30_qi))\n",
    "wt_p45_qi = rd10_df[(rd10_df['genline'] == 'Bl6') & (rd10_df['animrem'] == 'P45') & (rd10_df['gchirp_qidx'] >= 0.35)][\n",
    "    'gchirp_qidx'].tolist()\n",
    "wt_p45_qi = (len(wt_p45_qi))\n",
    "wt_p90_qi = rd10_df[(rd10_df['genline'] == 'Bl6') & (rd10_df['animrem'] == 'P90') & (rd10_df['gchirp_qidx'] >= 0.35)][\n",
    "    'gchirp_qidx'].tolist()\n",
    "wt_p90_qi = (len(wt_p90_qi))\n",
    "wt_p180_qi = rd10_df[(rd10_df['genline'] == 'Bl6') & (rd10_df['animrem'] == 'P180') & (rd10_df['gchirp_qidx'] >= 0.35)][\n",
    "    'gchirp_qidx'].tolist()\n",
    "wt_p180_qi = (len(wt_p180_qi))\n",
    "\n",
    "## all cells\n",
    "wt_p30 = rd10_df[(rd10_df['genline'] == 'Bl6') & (rd10_df['animrem'] == 'P30')]['gchirp_qidx'].tolist()\n",
    "wt_p30 = (len(wt_p30))\n",
    "wt_p45 = rd10_df[(rd10_df['genline'] == 'Bl6') & (rd10_df['animrem'] == 'P45')]['gchirp_qidx'].tolist()\n",
    "wt_p45 = (len(wt_p45))\n",
    "wt_p90 = rd10_df[(rd10_df['genline'] == 'Bl6') & (rd10_df['animrem'] == 'P90')]['gchirp_qidx'].tolist()\n",
    "wt_p90 = (len(wt_p90))\n",
    "wt_p180 = rd10_df[(rd10_df['genline'] == 'Bl6') & (rd10_df['animrem'] == 'P180')]['gchirp_qidx'].tolist()\n",
    "wt_p180 = (len(wt_p180))\n",
    "\n",
    "## percent\n",
    "wt_p30_percent = np.round((wt_p30_qi / wt_p30) * 100, 2)\n",
    "wt_p45_percent = np.round((wt_p45_qi / wt_p45) * 100, 2)\n",
    "wt_p90_percent = np.round((wt_p90_qi / wt_p90) * 100, 2)\n",
    "wt_p180_percent = np.round((wt_p180_qi / wt_p180) * 100, 2)\n",
    "\n",
    "#print\n",
    "print(wt_p30_percent, wt_p45_percent, wt_p90_percent, wt_p180_percent)"
   ]
  },
  {
   "cell_type": "code",
   "execution_count": 6,
   "id": "73b87303-5931-4f32-a8f5-10312b63866f",
   "metadata": {
    "ExecuteTime": {
     "end_time": "2025-01-30T14:30:40.849067Z",
     "start_time": "2025-01-30T14:30:40.776797Z"
    }
   },
   "outputs": [
    {
     "name": "stdout",
     "output_type": "stream",
     "text": [
      "46.31 31.34 15.93 0.41\n"
     ]
    }
   ],
   "source": [
    "# CHIRP RD\n",
    "## exceeding threshold\n",
    "rd_p30_qi = rd10_df[(rd10_df['genline'] == 'rd10') & (rd10_df['animrem'] == 'P30') & (rd10_df['gchirp_qidx'] >= 0.35)][\n",
    "    'gchirp_qidx'].tolist()\n",
    "rd_p30_qi = (len(rd_p30_qi))\n",
    "rd_p45_qi = rd10_df[(rd10_df['genline'] == 'rd10') & (rd10_df['animrem'] == 'P45') & (rd10_df['gchirp_qidx'] >= 0.35)][\n",
    "    'gchirp_qidx'].tolist()\n",
    "rd_p45_qi = (len(rd_p45_qi))\n",
    "rd_p90_qi = rd10_df[(rd10_df['genline'] == 'rd10') & (rd10_df['animrem'] == 'P90') & (rd10_df['gchirp_qidx'] >= 0.35)][\n",
    "    'gchirp_qidx'].tolist()\n",
    "rd_p90_qi = (len(rd_p90_qi))\n",
    "rd_p180_qi = \\\n",
    "    rd10_df[(rd10_df['genline'] == 'rd10') & (rd10_df['animrem'] == 'P180') & (rd10_df['gchirp_qidx'] >= 0.35)][\n",
    "        'gchirp_qidx'].tolist()\n",
    "rd_p180_qi = (len(rd_p180_qi))\n",
    "\n",
    "## all cells\n",
    "rd_p30 = rd10_df[(rd10_df['genline'] == 'rd10') & (rd10_df['animrem'] == 'P30')]['gchirp_qidx'].tolist()\n",
    "rd_p30 = (len(rd_p30))\n",
    "rd_p45 = rd10_df[(rd10_df['genline'] == 'rd10') & (rd10_df['animrem'] == 'P45')]['gchirp_qidx'].tolist()\n",
    "rd_p45 = (len(rd_p45))\n",
    "rd_p90 = rd10_df[(rd10_df['genline'] == 'rd10') & (rd10_df['animrem'] == 'P90')]['gchirp_qidx'].tolist()\n",
    "rd_p90 = (len(rd_p90))\n",
    "rd_p180 = rd10_df[(rd10_df['genline'] == 'rd10') & (rd10_df['animrem'] == 'P180')]['gchirp_qidx'].tolist()\n",
    "rd_p180 = (len(rd_p180))\n",
    "\n",
    "## percent\n",
    "rd_p30_percent = np.round((rd_p30_qi / rd_p30) * 100, 2)\n",
    "rd_p45_percent = np.round((rd_p45_qi / rd_p45) * 100, 2)\n",
    "rd_p90_percent = np.round((rd_p90_qi / rd_p90) * 100, 2)\n",
    "rd_p180_percent = np.round((rd_p180_qi / rd_p180) * 100, 2)\n",
    "\n",
    "#print\n",
    "print(rd_p30_percent, rd_p45_percent, rd_p90_percent, rd_p180_percent)"
   ]
  },
  {
   "cell_type": "code",
   "execution_count": 7,
   "id": "4ef3ddc4-9910-45c8-95ff-b9bd5f92d30a",
   "metadata": {
    "ExecuteTime": {
     "end_time": "2025-01-30T14:30:40.943195Z",
     "start_time": "2025-01-30T14:30:40.880255Z"
    }
   },
   "outputs": [],
   "source": [
    "# MB WT\n",
    "## exceeding threshold\n",
    "wt_p30_qi = rd10_df[(rd10_df['genline'] == 'Bl6') & (rd10_df['animrem'] == 'P30') & (rd10_df['bar_d_qi'] >= 0.6)][\n",
    "    'bar_d_qi'].tolist()\n",
    "wt_p30_qi = (len(wt_p30_qi))\n",
    "wt_p45_qi = rd10_df[(rd10_df['genline'] == 'Bl6') & (rd10_df['animrem'] == 'P45') & (rd10_df['bar_d_qi'] >= 0.6)][\n",
    "    'bar_d_qi'].tolist()\n",
    "wt_p45_qi = (len(wt_p45_qi))\n",
    "wt_p90_qi = rd10_df[(rd10_df['genline'] == 'Bl6') & (rd10_df['animrem'] == 'P90') & (rd10_df['bar_d_qi'] >= 0.6)][\n",
    "    'bar_d_qi'].tolist()\n",
    "wt_p90_qi = (len(wt_p90_qi))\n",
    "wt_p180_qi = rd10_df[(rd10_df['genline'] == 'Bl6') & (rd10_df['animrem'] == 'P180') & (rd10_df['bar_d_qi'] >= 0.6)][\n",
    "    'bar_d_qi'].tolist()\n",
    "wt_p180_qi = (len(wt_p180_qi))\n",
    "\n",
    "## all cells\n",
    "wt_p30 = rd10_df[(rd10_df['genline'] == 'Bl6') & (rd10_df['animrem'] == 'P30')]['bar_d_qi'].tolist()\n",
    "wt_p30 = (len(wt_p30))\n",
    "wt_p45 = rd10_df[(rd10_df['genline'] == 'Bl6') & (rd10_df['animrem'] == 'P45')]['bar_d_qi'].tolist()\n",
    "wt_p45 = (len(wt_p45))\n",
    "wt_p90 = rd10_df[(rd10_df['genline'] == 'Bl6') & (rd10_df['animrem'] == 'P90')]['bar_d_qi'].tolist()\n",
    "wt_p90 = (len(wt_p90))\n",
    "wt_p180 = rd10_df[(rd10_df['genline'] == 'Bl6') & (rd10_df['animrem'] == 'P180')]['bar_d_qi'].tolist()\n",
    "wt_p180 = (len(wt_p180))\n",
    "\n",
    "## percent\n",
    "wt_p30_percent_mb = np.round((wt_p30_qi / wt_p30) * 100, 2)\n",
    "wt_p45_percent_mb = np.round((wt_p45_qi / wt_p45) * 100, 2)\n",
    "wt_p90_percent_mb = np.round((wt_p90_qi / wt_p90) * 100, 2)\n",
    "wt_p180_percent_mb = np.round((wt_p180_qi / wt_p180) * 100, 2)"
   ]
  },
  {
   "cell_type": "code",
   "execution_count": 8,
   "id": "ce1ab353-444e-4dbf-bdd7-60c733cc7a70",
   "metadata": {
    "ExecuteTime": {
     "end_time": "2025-01-30T14:30:41.034237Z",
     "start_time": "2025-01-30T14:30:40.961308Z"
    }
   },
   "outputs": [],
   "source": [
    "# MB RD\n",
    "## exceeding threshold\n",
    "rd_p30_qi = rd10_df[(rd10_df['genline'] == 'rd10') & (rd10_df['animrem'] == 'P30') & (rd10_df['bar_d_qi'] >= 0.6)][\n",
    "    'bar_d_qi'].tolist()\n",
    "rd_p30_qi = (len(rd_p30_qi))\n",
    "rd_p45_qi = rd10_df[(rd10_df['genline'] == 'rd10') & (rd10_df['animrem'] == 'P45') & (rd10_df['bar_d_qi'] >= 0.6)][\n",
    "    'bar_d_qi'].tolist()\n",
    "rd_p45_qi = (len(rd_p45_qi))\n",
    "rd_p90_qi = rd10_df[(rd10_df['genline'] == 'rd10') & (rd10_df['animrem'] == 'P90') & (rd10_df['bar_d_qi'] >= 0.6)][\n",
    "    'bar_d_qi'].tolist()\n",
    "rd_p90_qi = (len(rd_p90_qi))\n",
    "rd_p180_qi = rd10_df[(rd10_df['genline'] == 'rd10') & (rd10_df['animrem'] == 'P180') & (rd10_df['bar_d_qi'] >= 0.6)][\n",
    "    'bar_d_qi'].tolist()\n",
    "rd_p180_qi = (len(rd_p180_qi))\n",
    "\n",
    "## all cells\n",
    "rd_p30 = rd10_df[(rd10_df['genline'] == 'rd10') & (rd10_df['animrem'] == 'P30')]['bar_d_qi'].tolist()\n",
    "rd_p30 = (len(rd_p30))\n",
    "rd_p45 = rd10_df[(rd10_df['genline'] == 'rd10') & (rd10_df['animrem'] == 'P45')]['bar_d_qi'].tolist()\n",
    "rd_p45 = (len(rd_p45))\n",
    "rd_p90 = rd10_df[(rd10_df['genline'] == 'rd10') & (rd10_df['animrem'] == 'P90')]['bar_d_qi'].tolist()\n",
    "rd_p90 = (len(rd_p90))\n",
    "rd_p180 = rd10_df[(rd10_df['genline'] == 'rd10') & (rd10_df['animrem'] == 'P180')]['bar_d_qi'].tolist()\n",
    "rd_p180 = (len(rd_p180))\n",
    "\n",
    "## percent\n",
    "rd_p30_percent_mb = np.round((rd_p30_qi / rd_p30) * 100, 2)\n",
    "rd_p45_percent_mb = np.round((rd_p45_qi / rd_p45) * 100, 2)\n",
    "rd_p90_percent_mb = np.round((rd_p90_qi / rd_p90) * 100, 2)\n",
    "rd_p180_percent_mb = np.round((rd_p180_qi / rd_p180) * 100, 2)"
   ]
  },
  {
   "cell_type": "markdown",
   "id": "90727670-053c-4110-a0ad-bd9703ae9b03",
   "metadata": {
    "jp-MarkdownHeadingCollapsed": true
   },
   "source": [
    "# --------------------------------------------------------------------"
   ]
  },
  {
   "cell_type": "markdown",
   "id": "72369c8e-3a83-4ff6-8b99-4fe70f7590bf",
   "metadata": {},
   "source": [
    "# Plot Panel A and B"
   ]
  },
  {
   "cell_type": "code",
   "execution_count": null,
   "id": "362a875e689f5edf",
   "metadata": {},
   "outputs": [],
   "source": [
    "# Set context\n",
    "data_plots.set_rc_params(kind='paper', notebook_dpi=120)\n",
    "\n",
    "# Create plot\n",
    "fig, axs = plt.subplots(1, 4)\n",
    "\n",
    "# Set size\n",
    "data_plots.set_figsize(fig, 'full', height_ratio=0.22)\n",
    "data_plots.set_labs(axs, panel_nums='auto', panel_num_pad=10, panel_num_space=11)\n",
    "\n",
    "# Tweaking\n",
    "data_plots.move_xaxis_outward(axs)\n",
    "\n",
    "# Chirp QI distributions\n",
    "x_order = ['P30', 'P45', 'P90', 'P180']\n",
    "hue_order = ['Bl6', 'rd10']\n",
    "pairs = [[(xi, hi) for hi in hue_order] for xi in x_order]\n",
    "# Create the subplot before setting ylim\n",
    "axs[0].plot([])  # An empty plot to create the subplot\n",
    "axs[0].set_ylim(0, 1)  # Set the y-axis limits\n",
    "ax = plot_test(ax=axs[0], df=rd10_df, x='animrem', y='gchirp_qidx', hue='genline', order=x_order, pairs=pairs,\n",
    "               marker='o', test=\"Mann-Whitney\", palette={'Bl6': 'w', 'rd10': 'm'})\n",
    "axs[0].axhline(0.35, color='k', linestyle='--', linewidth=0.5)\n",
    "axs[0].set_ylabel(\"QI$_\\mathrm{Chirp}$\")\n",
    "axs[0].spines['bottom'].set_visible(False)\n",
    "axs[0].tick_params(axis='x', which='both', bottom=False)\n",
    "axs[0].set_xlabel('')\n",
    "\n",
    "# MB QI distributions\n",
    "x_order = ['P30', 'P45', 'P90', 'P180']\n",
    "hue_order = ['Bl6', 'rd10']\n",
    "pairs = [[(xi, hi) for hi in hue_order] for xi in x_order]\n",
    "# Create the subplot before setting ylim\n",
    "axs[1].plot([])  # An empty plot to create the subplot\n",
    "axs[1].set_ylim(0, 1)  # Set the y-axis limits\n",
    "ax = plot_test(ax=axs[1], df=rd10_df, x='animrem', y=\"bar_d_qi\", ylabel='QI$_\\mathrm{mb}$', order=x_order, pairs=pairs,\n",
    "               marker='o', test=\"Mann-Whitney\", hue='genline', palette={'Bl6': 'w', 'rd10': 'm'})\n",
    "axs[1].axhline(0.6, color='k', linestyle='--', linewidth=0.5)\n",
    "axs[1].set_ylabel(\"QI$_\\mathrm{MB}$\")\n",
    "axs[1].spines['bottom'].set_visible(False)\n",
    "axs[1].tick_params(axis='x', which='both', bottom=False)\n",
    "axs[1].set_xlabel('')\n",
    "\n",
    "# Percentage of cells exceeding chirp threshold\n",
    "axs[2].bar(np.arange(0, 4, 1) - 0.15, [wt_p30_percent, wt_p45_percent, wt_p90_percent, wt_p180_percent], width=0.3,\n",
    "           edgecolor='k', color='w', label='wt')\n",
    "axs[2].bar(np.arange(0, 4, 1) + 0.15, [rd_p30_percent, rd_p45_percent, rd_p90_percent, rd_p180_percent], width=0.3,\n",
    "           edgecolor='k', color='m', label='rd10')\n",
    "axs[2].set_ylabel('Exceeding QI$_\\mathrm{Chirp}$ [%]')\n",
    "axs[2].spines['bottom'].set_visible(False)\n",
    "axs[2].tick_params(axis='x', which='both', bottom=False)\n",
    "axs[2].xaxis.set_major_locator(plt.NullLocator())  # Remove major ticks from x-axis\n",
    "axs[2].spines['bottom'].set_color('white')  # Set x-axis color to white\n",
    "axs[2].set_xlabel('')\n",
    "# Set the xticks and labels\n",
    "axs[2].set_xticks(range(len(x_order)))\n",
    "axs[2].set_xticklabels(x_order)\n",
    "\n",
    "# Percentage of cells exceeding mb threshold\n",
    "axs[3].bar(np.arange(0, 4, 1) - 0.15, [wt_p30_percent_mb, wt_p45_percent_mb, wt_p90_percent_mb, wt_p180_percent_mb],\n",
    "           width=0.3, edgecolor='k', color='w', label='wt')\n",
    "axs[3].bar(np.arange(0, 4, 1) + 0.15, [rd_p30_percent_mb, rd_p45_percent_mb, rd_p90_percent_mb, rd_p180_percent_mb],\n",
    "           width=0.3, edgecolor='k', color='m', label='rd10')\n",
    "axs[3].set_ylabel('Exceeding QI$_\\mathrm{MB}$ [%]')\n",
    "axs[3].spines['bottom'].set_visible(False)\n",
    "axs[3].tick_params(axis='x', which='both', bottom=False)\n",
    "axs[3].xaxis.set_major_locator(plt.NullLocator())  # Remove major ticks from x-axis\n",
    "axs[3].spines['bottom'].set_color('white')  # Set x-axis color to white\n",
    "axs[3].set_xlabel('')\n",
    "# Set the xticks and labels\n",
    "axs[3].set_xticks(range(len(x_order)))\n",
    "axs[3].set_xticklabels(x_order)\n",
    "\n",
    "#legend\n",
    "axs[0].legend([], [], frameon=False, fontsize=8)\n",
    "axs[1].legend([], [], frameon=False, fontsize=8)\n",
    "axs[2].legend([], [], frameon=False, fontsize=8)\n",
    "axs[3].legend([], [], frameon=False, fontsize=8)\n",
    "\n",
    "# Similar to standard tight_layout, but relative to fontsize used\n",
    "data_plots.tight_layout(rect=(0.01, 0, 1, 1), w_pad=2.6, h_pad=1.5)\n",
    "\n",
    "#plt.savefig('Fig5_QI_responses.pdf')\n",
    "\n",
    "# Make sure nothing is cut off, when saving\n",
    "# Avoid using bbox_inches='tight', because it will resize the figure\n",
    "data_plots.show_saved_figure(fig)"
   ]
  },
  {
   "cell_type": "markdown",
   "id": "62956b3a-687c-4566-b932-f7a2ce184706",
   "metadata": {},
   "source": [
    "# --------------------------------------------------------------------"
   ]
  },
  {
   "cell_type": "markdown",
   "id": "59173e8b-7e18-4091-9c02-18f0d1983b92",
   "metadata": {},
   "source": [
    "# Plot Panel C - reliable RFs"
   ]
  },
  {
   "cell_type": "markdown",
   "id": "2263e457-c76d-45d7-9b67-470cbda26925",
   "metadata": {},
   "source": [
    "## load RF data frames"
   ]
  },
  {
   "cell_type": "code",
   "execution_count": 11,
   "id": "9001c702-1f89-483d-b2d4-c40e937f6cf0",
   "metadata": {
    "ExecuteTime": {
     "end_time": "2025-01-30T14:31:08.745706Z",
     "start_time": "2025-01-30T14:31:08.683063Z"
    }
   },
   "outputs": [],
   "source": [
    "file_path = '../data/rf_filtered_df.h5'  # Adjust path to file if necessary\n",
    "rf_filtered_df = pd.read_hdf(file_path, key='df')\n",
    "\n",
    "file_path = '../data/all_rf_df.h5'  # Adjust path to file if necessary\n",
    "all_rf_df = pd.read_hdf(file_path, key='df')"
   ]
  },
  {
   "cell_type": "code",
   "execution_count": 12,
   "id": "b0e3254c-5c48-4cab-9b52-44019142da3b",
   "metadata": {
    "ExecuteTime": {
     "end_time": "2025-01-30T14:31:09.799934Z",
     "start_time": "2025-01-30T14:31:09.768273Z"
    }
   },
   "outputs": [
    {
     "data": {
      "text/html": [
       "<div>\n",
       "<style scoped>\n",
       "    .dataframe tbody tr th:only-of-type {\n",
       "        vertical-align: middle;\n",
       "    }\n",
       "\n",
       "    .dataframe tbody tr th {\n",
       "        vertical-align: top;\n",
       "    }\n",
       "\n",
       "    .dataframe thead th {\n",
       "        text-align: right;\n",
       "    }\n",
       "</style>\n",
       "<table border=\"1\" class=\"dataframe\">\n",
       "  <thead>\n",
       "    <tr style=\"text-align: right;\">\n",
       "      <th></th>\n",
       "      <th>experimenter</th>\n",
       "      <th>date</th>\n",
       "      <th>exp_num</th>\n",
       "      <th>raw_id</th>\n",
       "      <th>field</th>\n",
       "      <th>region</th>\n",
       "      <th>shifty</th>\n",
       "      <th>cond1</th>\n",
       "      <th>roi_id</th>\n",
       "      <th>preprocess_id</th>\n",
       "      <th>dnoise_params_id</th>\n",
       "      <th>rf_glm_params_id</th>\n",
       "      <th>genline</th>\n",
       "      <th>animrem</th>\n",
       "    </tr>\n",
       "  </thead>\n",
       "  <tbody>\n",
       "    <tr>\n",
       "      <th>0</th>\n",
       "      <td>Dyszkant</td>\n",
       "      <td>2022-08-05</td>\n",
       "      <td>2</td>\n",
       "      <td>1</td>\n",
       "      <td>GCL0</td>\n",
       "      <td>RR</td>\n",
       "      <td>shifty</td>\n",
       "      <td>control</td>\n",
       "      <td>8</td>\n",
       "      <td>1</td>\n",
       "      <td>1</td>\n",
       "      <td>1</td>\n",
       "      <td>Bl6</td>\n",
       "      <td>P180</td>\n",
       "    </tr>\n",
       "    <tr>\n",
       "      <th>1</th>\n",
       "      <td>Dyszkant</td>\n",
       "      <td>2022-08-05</td>\n",
       "      <td>2</td>\n",
       "      <td>1</td>\n",
       "      <td>GCL0</td>\n",
       "      <td>RR</td>\n",
       "      <td>shifty</td>\n",
       "      <td>control</td>\n",
       "      <td>8</td>\n",
       "      <td>1</td>\n",
       "      <td>1</td>\n",
       "      <td>3</td>\n",
       "      <td>Bl6</td>\n",
       "      <td>P180</td>\n",
       "    </tr>\n",
       "    <tr>\n",
       "      <th>2</th>\n",
       "      <td>Dyszkant</td>\n",
       "      <td>2022-08-05</td>\n",
       "      <td>2</td>\n",
       "      <td>1</td>\n",
       "      <td>GCL0</td>\n",
       "      <td>RR</td>\n",
       "      <td>shifty</td>\n",
       "      <td>control</td>\n",
       "      <td>8</td>\n",
       "      <td>1</td>\n",
       "      <td>2</td>\n",
       "      <td>1</td>\n",
       "      <td>Bl6</td>\n",
       "      <td>P180</td>\n",
       "    </tr>\n",
       "    <tr>\n",
       "      <th>3</th>\n",
       "      <td>Dyszkant</td>\n",
       "      <td>2022-08-05</td>\n",
       "      <td>2</td>\n",
       "      <td>1</td>\n",
       "      <td>GCL0</td>\n",
       "      <td>RR</td>\n",
       "      <td>shifty</td>\n",
       "      <td>control</td>\n",
       "      <td>14</td>\n",
       "      <td>1</td>\n",
       "      <td>1</td>\n",
       "      <td>1</td>\n",
       "      <td>Bl6</td>\n",
       "      <td>P180</td>\n",
       "    </tr>\n",
       "    <tr>\n",
       "      <th>4</th>\n",
       "      <td>Dyszkant</td>\n",
       "      <td>2022-08-05</td>\n",
       "      <td>2</td>\n",
       "      <td>1</td>\n",
       "      <td>GCL0</td>\n",
       "      <td>RR</td>\n",
       "      <td>shifty</td>\n",
       "      <td>control</td>\n",
       "      <td>14</td>\n",
       "      <td>1</td>\n",
       "      <td>1</td>\n",
       "      <td>3</td>\n",
       "      <td>Bl6</td>\n",
       "      <td>P180</td>\n",
       "    </tr>\n",
       "    <tr>\n",
       "      <th>...</th>\n",
       "      <td>...</td>\n",
       "      <td>...</td>\n",
       "      <td>...</td>\n",
       "      <td>...</td>\n",
       "      <td>...</td>\n",
       "      <td>...</td>\n",
       "      <td>...</td>\n",
       "      <td>...</td>\n",
       "      <td>...</td>\n",
       "      <td>...</td>\n",
       "      <td>...</td>\n",
       "      <td>...</td>\n",
       "      <td>...</td>\n",
       "      <td>...</td>\n",
       "    </tr>\n",
       "    <tr>\n",
       "      <th>8316</th>\n",
       "      <td>Dyszkant</td>\n",
       "      <td>2024-01-25</td>\n",
       "      <td>2</td>\n",
       "      <td>1</td>\n",
       "      <td>GCL8</td>\n",
       "      <td>RR</td>\n",
       "      <td>shifty</td>\n",
       "      <td>control</td>\n",
       "      <td>88</td>\n",
       "      <td>1</td>\n",
       "      <td>2</td>\n",
       "      <td>1</td>\n",
       "      <td>rd10</td>\n",
       "      <td>P30</td>\n",
       "    </tr>\n",
       "    <tr>\n",
       "      <th>8317</th>\n",
       "      <td>Dyszkant</td>\n",
       "      <td>2024-01-25</td>\n",
       "      <td>2</td>\n",
       "      <td>1</td>\n",
       "      <td>GCL8</td>\n",
       "      <td>RR</td>\n",
       "      <td>shifty</td>\n",
       "      <td>control</td>\n",
       "      <td>93</td>\n",
       "      <td>1</td>\n",
       "      <td>1</td>\n",
       "      <td>1</td>\n",
       "      <td>rd10</td>\n",
       "      <td>P30</td>\n",
       "    </tr>\n",
       "    <tr>\n",
       "      <th>8318</th>\n",
       "      <td>Dyszkant</td>\n",
       "      <td>2024-01-25</td>\n",
       "      <td>2</td>\n",
       "      <td>1</td>\n",
       "      <td>GCL8</td>\n",
       "      <td>RR</td>\n",
       "      <td>shifty</td>\n",
       "      <td>control</td>\n",
       "      <td>93</td>\n",
       "      <td>1</td>\n",
       "      <td>2</td>\n",
       "      <td>1</td>\n",
       "      <td>rd10</td>\n",
       "      <td>P30</td>\n",
       "    </tr>\n",
       "    <tr>\n",
       "      <th>8319</th>\n",
       "      <td>Dyszkant</td>\n",
       "      <td>2024-01-25</td>\n",
       "      <td>2</td>\n",
       "      <td>1</td>\n",
       "      <td>GCL8</td>\n",
       "      <td>RR</td>\n",
       "      <td>shifty</td>\n",
       "      <td>control</td>\n",
       "      <td>95</td>\n",
       "      <td>1</td>\n",
       "      <td>1</td>\n",
       "      <td>1</td>\n",
       "      <td>rd10</td>\n",
       "      <td>P30</td>\n",
       "    </tr>\n",
       "    <tr>\n",
       "      <th>8320</th>\n",
       "      <td>Dyszkant</td>\n",
       "      <td>2024-01-25</td>\n",
       "      <td>2</td>\n",
       "      <td>1</td>\n",
       "      <td>GCL8</td>\n",
       "      <td>RR</td>\n",
       "      <td>shifty</td>\n",
       "      <td>control</td>\n",
       "      <td>95</td>\n",
       "      <td>1</td>\n",
       "      <td>2</td>\n",
       "      <td>1</td>\n",
       "      <td>rd10</td>\n",
       "      <td>P30</td>\n",
       "    </tr>\n",
       "  </tbody>\n",
       "</table>\n",
       "<p>8321 rows × 14 columns</p>\n",
       "</div>"
      ],
      "text/plain": [
       "     experimenter        date  exp_num  raw_id field region  shifty    cond1  \\\n",
       "0        Dyszkant  2022-08-05        2       1  GCL0     RR  shifty  control   \n",
       "1        Dyszkant  2022-08-05        2       1  GCL0     RR  shifty  control   \n",
       "2        Dyszkant  2022-08-05        2       1  GCL0     RR  shifty  control   \n",
       "3        Dyszkant  2022-08-05        2       1  GCL0     RR  shifty  control   \n",
       "4        Dyszkant  2022-08-05        2       1  GCL0     RR  shifty  control   \n",
       "...           ...         ...      ...     ...   ...    ...     ...      ...   \n",
       "8316     Dyszkant  2024-01-25        2       1  GCL8     RR  shifty  control   \n",
       "8317     Dyszkant  2024-01-25        2       1  GCL8     RR  shifty  control   \n",
       "8318     Dyszkant  2024-01-25        2       1  GCL8     RR  shifty  control   \n",
       "8319     Dyszkant  2024-01-25        2       1  GCL8     RR  shifty  control   \n",
       "8320     Dyszkant  2024-01-25        2       1  GCL8     RR  shifty  control   \n",
       "\n",
       "      roi_id  preprocess_id  dnoise_params_id  rf_glm_params_id genline  \\\n",
       "0          8              1                 1                 1     Bl6   \n",
       "1          8              1                 1                 3     Bl6   \n",
       "2          8              1                 2                 1     Bl6   \n",
       "3         14              1                 1                 1     Bl6   \n",
       "4         14              1                 1                 3     Bl6   \n",
       "...      ...            ...               ...               ...     ...   \n",
       "8316      88              1                 2                 1    rd10   \n",
       "8317      93              1                 1                 1    rd10   \n",
       "8318      93              1                 2                 1    rd10   \n",
       "8319      95              1                 1                 1    rd10   \n",
       "8320      95              1                 2                 1    rd10   \n",
       "\n",
       "     animrem  \n",
       "0       P180  \n",
       "1       P180  \n",
       "2       P180  \n",
       "3       P180  \n",
       "4       P180  \n",
       "...      ...  \n",
       "8316     P30  \n",
       "8317     P30  \n",
       "8318     P30  \n",
       "8319     P30  \n",
       "8320     P30  \n",
       "\n",
       "[8321 rows x 14 columns]"
      ]
     },
     "execution_count": 12,
     "metadata": {},
     "output_type": "execute_result"
    }
   ],
   "source": [
    "all_rf_df"
   ]
  },
  {
   "cell_type": "code",
   "execution_count": 13,
   "id": "da41297e-0493-4211-964e-217546267f30",
   "metadata": {
    "ExecuteTime": {
     "end_time": "2025-01-30T14:31:10.903720Z",
     "start_time": "2025-01-30T14:31:10.878884Z"
    }
   },
   "outputs": [
    {
     "data": {
      "text/html": [
       "<div>\n",
       "<style scoped>\n",
       "    .dataframe tbody tr th:only-of-type {\n",
       "        vertical-align: middle;\n",
       "    }\n",
       "\n",
       "    .dataframe tbody tr th {\n",
       "        vertical-align: top;\n",
       "    }\n",
       "\n",
       "    .dataframe thead th {\n",
       "        text-align: right;\n",
       "    }\n",
       "</style>\n",
       "<table border=\"1\" class=\"dataframe\">\n",
       "  <thead>\n",
       "    <tr style=\"text-align: right;\">\n",
       "      <th></th>\n",
       "      <th>experimenter</th>\n",
       "      <th>date</th>\n",
       "      <th>exp_num</th>\n",
       "      <th>raw_id</th>\n",
       "      <th>field</th>\n",
       "      <th>region</th>\n",
       "      <th>stim_name</th>\n",
       "      <th>cond1</th>\n",
       "      <th>roi_id</th>\n",
       "      <th>preprocess_id</th>\n",
       "      <th>dnoise_params_id</th>\n",
       "      <th>rf_glm_params_id</th>\n",
       "      <th>genline</th>\n",
       "      <th>animrem</th>\n",
       "    </tr>\n",
       "  </thead>\n",
       "  <tbody>\n",
       "    <tr>\n",
       "      <th>0</th>\n",
       "      <td>Dyszkant</td>\n",
       "      <td>2022-08-05</td>\n",
       "      <td>2</td>\n",
       "      <td>1</td>\n",
       "      <td>GCL0</td>\n",
       "      <td>RR</td>\n",
       "      <td>shifty</td>\n",
       "      <td>control</td>\n",
       "      <td>41</td>\n",
       "      <td>1</td>\n",
       "      <td>1</td>\n",
       "      <td>2</td>\n",
       "      <td>Bl6</td>\n",
       "      <td>P180</td>\n",
       "    </tr>\n",
       "    <tr>\n",
       "      <th>1</th>\n",
       "      <td>Dyszkant</td>\n",
       "      <td>2022-08-05</td>\n",
       "      <td>2</td>\n",
       "      <td>1</td>\n",
       "      <td>GCL0</td>\n",
       "      <td>RR</td>\n",
       "      <td>shifty</td>\n",
       "      <td>control</td>\n",
       "      <td>60</td>\n",
       "      <td>1</td>\n",
       "      <td>1</td>\n",
       "      <td>1</td>\n",
       "      <td>Bl6</td>\n",
       "      <td>P180</td>\n",
       "    </tr>\n",
       "    <tr>\n",
       "      <th>2</th>\n",
       "      <td>Dyszkant</td>\n",
       "      <td>2022-08-05</td>\n",
       "      <td>2</td>\n",
       "      <td>1</td>\n",
       "      <td>GCL0</td>\n",
       "      <td>RR</td>\n",
       "      <td>shifty</td>\n",
       "      <td>control</td>\n",
       "      <td>80</td>\n",
       "      <td>1</td>\n",
       "      <td>1</td>\n",
       "      <td>1</td>\n",
       "      <td>Bl6</td>\n",
       "      <td>P180</td>\n",
       "    </tr>\n",
       "    <tr>\n",
       "      <th>3</th>\n",
       "      <td>Dyszkant</td>\n",
       "      <td>2022-08-05</td>\n",
       "      <td>2</td>\n",
       "      <td>1</td>\n",
       "      <td>GCL0</td>\n",
       "      <td>RR</td>\n",
       "      <td>shifty</td>\n",
       "      <td>control</td>\n",
       "      <td>92</td>\n",
       "      <td>1</td>\n",
       "      <td>1</td>\n",
       "      <td>1</td>\n",
       "      <td>Bl6</td>\n",
       "      <td>P180</td>\n",
       "    </tr>\n",
       "    <tr>\n",
       "      <th>4</th>\n",
       "      <td>Dyszkant</td>\n",
       "      <td>2022-08-05</td>\n",
       "      <td>2</td>\n",
       "      <td>1</td>\n",
       "      <td>GCL0</td>\n",
       "      <td>RR</td>\n",
       "      <td>shifty</td>\n",
       "      <td>control</td>\n",
       "      <td>101</td>\n",
       "      <td>1</td>\n",
       "      <td>1</td>\n",
       "      <td>1</td>\n",
       "      <td>Bl6</td>\n",
       "      <td>P180</td>\n",
       "    </tr>\n",
       "    <tr>\n",
       "      <th>...</th>\n",
       "      <td>...</td>\n",
       "      <td>...</td>\n",
       "      <td>...</td>\n",
       "      <td>...</td>\n",
       "      <td>...</td>\n",
       "      <td>...</td>\n",
       "      <td>...</td>\n",
       "      <td>...</td>\n",
       "      <td>...</td>\n",
       "      <td>...</td>\n",
       "      <td>...</td>\n",
       "      <td>...</td>\n",
       "      <td>...</td>\n",
       "      <td>...</td>\n",
       "    </tr>\n",
       "    <tr>\n",
       "      <th>2004</th>\n",
       "      <td>Dyszkant</td>\n",
       "      <td>2024-01-25</td>\n",
       "      <td>2</td>\n",
       "      <td>1</td>\n",
       "      <td>GCL8</td>\n",
       "      <td>RR</td>\n",
       "      <td>shifty</td>\n",
       "      <td>control</td>\n",
       "      <td>82</td>\n",
       "      <td>1</td>\n",
       "      <td>1</td>\n",
       "      <td>1</td>\n",
       "      <td>rd10</td>\n",
       "      <td>P30</td>\n",
       "    </tr>\n",
       "    <tr>\n",
       "      <th>2005</th>\n",
       "      <td>Dyszkant</td>\n",
       "      <td>2024-01-25</td>\n",
       "      <td>2</td>\n",
       "      <td>1</td>\n",
       "      <td>GCL8</td>\n",
       "      <td>RR</td>\n",
       "      <td>shifty</td>\n",
       "      <td>control</td>\n",
       "      <td>85</td>\n",
       "      <td>1</td>\n",
       "      <td>1</td>\n",
       "      <td>1</td>\n",
       "      <td>rd10</td>\n",
       "      <td>P30</td>\n",
       "    </tr>\n",
       "    <tr>\n",
       "      <th>2006</th>\n",
       "      <td>Dyszkant</td>\n",
       "      <td>2024-01-25</td>\n",
       "      <td>2</td>\n",
       "      <td>1</td>\n",
       "      <td>GCL8</td>\n",
       "      <td>RR</td>\n",
       "      <td>shifty</td>\n",
       "      <td>control</td>\n",
       "      <td>86</td>\n",
       "      <td>1</td>\n",
       "      <td>1</td>\n",
       "      <td>1</td>\n",
       "      <td>rd10</td>\n",
       "      <td>P30</td>\n",
       "    </tr>\n",
       "    <tr>\n",
       "      <th>2007</th>\n",
       "      <td>Dyszkant</td>\n",
       "      <td>2024-01-25</td>\n",
       "      <td>2</td>\n",
       "      <td>1</td>\n",
       "      <td>GCL8</td>\n",
       "      <td>RR</td>\n",
       "      <td>shifty</td>\n",
       "      <td>control</td>\n",
       "      <td>88</td>\n",
       "      <td>1</td>\n",
       "      <td>1</td>\n",
       "      <td>1</td>\n",
       "      <td>rd10</td>\n",
       "      <td>P30</td>\n",
       "    </tr>\n",
       "    <tr>\n",
       "      <th>2008</th>\n",
       "      <td>Dyszkant</td>\n",
       "      <td>2024-01-25</td>\n",
       "      <td>2</td>\n",
       "      <td>1</td>\n",
       "      <td>GCL8</td>\n",
       "      <td>RR</td>\n",
       "      <td>shifty</td>\n",
       "      <td>control</td>\n",
       "      <td>95</td>\n",
       "      <td>1</td>\n",
       "      <td>1</td>\n",
       "      <td>1</td>\n",
       "      <td>rd10</td>\n",
       "      <td>P30</td>\n",
       "    </tr>\n",
       "  </tbody>\n",
       "</table>\n",
       "<p>2009 rows × 14 columns</p>\n",
       "</div>"
      ],
      "text/plain": [
       "     experimenter        date  exp_num  raw_id field region stim_name  \\\n",
       "0        Dyszkant  2022-08-05        2       1  GCL0     RR    shifty   \n",
       "1        Dyszkant  2022-08-05        2       1  GCL0     RR    shifty   \n",
       "2        Dyszkant  2022-08-05        2       1  GCL0     RR    shifty   \n",
       "3        Dyszkant  2022-08-05        2       1  GCL0     RR    shifty   \n",
       "4        Dyszkant  2022-08-05        2       1  GCL0     RR    shifty   \n",
       "...           ...         ...      ...     ...   ...    ...       ...   \n",
       "2004     Dyszkant  2024-01-25        2       1  GCL8     RR    shifty   \n",
       "2005     Dyszkant  2024-01-25        2       1  GCL8     RR    shifty   \n",
       "2006     Dyszkant  2024-01-25        2       1  GCL8     RR    shifty   \n",
       "2007     Dyszkant  2024-01-25        2       1  GCL8     RR    shifty   \n",
       "2008     Dyszkant  2024-01-25        2       1  GCL8     RR    shifty   \n",
       "\n",
       "        cond1  roi_id  preprocess_id  dnoise_params_id  rf_glm_params_id  \\\n",
       "0     control      41              1                 1                 2   \n",
       "1     control      60              1                 1                 1   \n",
       "2     control      80              1                 1                 1   \n",
       "3     control      92              1                 1                 1   \n",
       "4     control     101              1                 1                 1   \n",
       "...       ...     ...            ...               ...               ...   \n",
       "2004  control      82              1                 1                 1   \n",
       "2005  control      85              1                 1                 1   \n",
       "2006  control      86              1                 1                 1   \n",
       "2007  control      88              1                 1                 1   \n",
       "2008  control      95              1                 1                 1   \n",
       "\n",
       "     genline animrem  \n",
       "0        Bl6    P180  \n",
       "1        Bl6    P180  \n",
       "2        Bl6    P180  \n",
       "3        Bl6    P180  \n",
       "4        Bl6    P180  \n",
       "...      ...     ...  \n",
       "2004    rd10     P30  \n",
       "2005    rd10     P30  \n",
       "2006    rd10     P30  \n",
       "2007    rd10     P30  \n",
       "2008    rd10     P30  \n",
       "\n",
       "[2009 rows x 14 columns]"
      ]
     },
     "execution_count": 13,
     "metadata": {},
     "output_type": "execute_result"
    }
   ],
   "source": [
    "rf_filtered_df"
   ]
  },
  {
   "cell_type": "markdown",
   "id": "b139b9b4-eab6-4e57-adab-c07793a58891",
   "metadata": {},
   "source": [
    "# --------------------------------------------------------------------"
   ]
  },
  {
   "cell_type": "markdown",
   "id": "56a74938-6f97-4a34-92d0-5c0df00060e5",
   "metadata": {},
   "source": [
    "## Count all RFs"
   ]
  },
  {
   "cell_type": "code",
   "execution_count": 14,
   "id": "892a67fa-de2a-4cd8-8be8-5f6bfa7578e0",
   "metadata": {
    "ExecuteTime": {
     "end_time": "2025-01-30T14:31:12.949581Z",
     "start_time": "2025-01-30T14:31:12.922610Z"
    }
   },
   "outputs": [
    {
     "name": "stdout",
     "output_type": "stream",
     "text": [
      "Bl6 P30 count: 1534\n",
      "Bl6 P45 count: 1265\n",
      "Bl6 P90 count: 1016\n",
      "rd10 P30 count: 804\n",
      "rd10 P45 count: 2034\n",
      "rd10 P90 count: 1027\n"
     ]
    }
   ],
   "source": [
    "df_counts = all_rf_df.groupby(['genline', 'animrem']).size().reset_index(name='count')\n",
    "\n",
    "# Initialize variables to store counts\n",
    "bl6_p30_count = 0\n",
    "bl6_p45_count = 0\n",
    "bl6_p90_count = 0\n",
    "rd10_p30_count = 0\n",
    "rd10_p45_count = 0\n",
    "rd10_p90_count = 0\n",
    "\n",
    "# Populate counts for Bl6 and rd10\n",
    "for _, row in df_counts.iterrows():\n",
    "    genline = row['genline']\n",
    "    age = row['animrem']\n",
    "    count = row['count']\n",
    "\n",
    "    if genline == 'Bl6':\n",
    "        if age == 'P30':\n",
    "            bl6_p30_count = count\n",
    "        elif age == 'P45':\n",
    "            bl6_p45_count = count\n",
    "        elif age == 'P90':\n",
    "            bl6_p90_count = count\n",
    "    elif genline == 'rd10':\n",
    "        if age == 'P30':\n",
    "            rd10_p30_count = count\n",
    "        elif age == 'P45':\n",
    "            rd10_p45_count = count\n",
    "        elif age == 'P90':\n",
    "            rd10_p90_count = count\n",
    "\n",
    "# Print the counts in the desired format\n",
    "print(f\"Bl6 P30 count: {bl6_p30_count}\")\n",
    "print(f\"Bl6 P45 count: {bl6_p45_count}\")\n",
    "print(f\"Bl6 P90 count: {bl6_p90_count}\")\n",
    "print(f\"rd10 P30 count: {rd10_p30_count}\")\n",
    "print(f\"rd10 P45 count: {rd10_p45_count}\")\n",
    "print(f\"rd10 P90 count: {rd10_p90_count}\")"
   ]
  },
  {
   "cell_type": "markdown",
   "id": "450db25d-b221-4900-8f30-c1c199d1c756",
   "metadata": {},
   "source": [
    "## Count good quality (quality filtered) RFs "
   ]
  },
  {
   "cell_type": "code",
   "execution_count": 15,
   "id": "aab22fb1-d5d2-468e-9c39-314db5a840bb",
   "metadata": {
    "ExecuteTime": {
     "end_time": "2025-01-30T14:31:14.862055Z",
     "start_time": "2025-01-30T14:31:14.826025Z"
    }
   },
   "outputs": [
    {
     "name": "stdout",
     "output_type": "stream",
     "text": [
      "Bl6 P30 count: 391\n",
      "Bl6 P45 count: 394\n",
      "Bl6 P90 count: 276\n",
      "rd10 P30 count: 202\n",
      "rd10 P45 count: 543\n",
      "rd10 P90 count: 71\n"
     ]
    }
   ],
   "source": [
    "df_counts = rf_filtered_df.groupby(['genline', 'animrem']).size().reset_index(name='count')\n",
    "\n",
    "# Initialize variables to store counts\n",
    "bl6_p30_count_rf = 0\n",
    "bl6_p45_count_rf = 0\n",
    "bl6_p90_count_rf = 0\n",
    "rd10_p30_count_rf = 0\n",
    "rd10_p45_count_rf = 0\n",
    "rd10_p90_count_rf = 0\n",
    "\n",
    "# Populate counts for Bl6 and rd10\n",
    "for _, row in df_counts.iterrows():\n",
    "    genline = row['genline']\n",
    "    age = row['animrem']\n",
    "    count = row['count']\n",
    "\n",
    "    if genline == 'Bl6':\n",
    "        if age == 'P30':\n",
    "            bl6_p30_count_rf = count\n",
    "        elif age == 'P45':\n",
    "            bl6_p45_count_rf = count\n",
    "        elif age == 'P90':\n",
    "            bl6_p90_count_rf = count\n",
    "    elif genline == 'rd10':\n",
    "        if age == 'P30':\n",
    "            rd10_p30_count_rf = count\n",
    "        elif age == 'P45':\n",
    "            rd10_p45_count_rf = count\n",
    "        elif age == 'P90':\n",
    "            rd10_p90_count_rf = count\n",
    "\n",
    "# Print the counts in the desired format\n",
    "print(f\"Bl6 P30 count: {bl6_p30_count_rf}\")\n",
    "print(f\"Bl6 P45 count: {bl6_p45_count_rf}\")\n",
    "print(f\"Bl6 P90 count: {bl6_p90_count_rf}\")\n",
    "print(f\"rd10 P30 count: {rd10_p30_count_rf}\")\n",
    "print(f\"rd10 P45 count: {rd10_p45_count_rf}\")\n",
    "print(f\"rd10 P90 count: {rd10_p90_count_rf}\")"
   ]
  },
  {
   "cell_type": "markdown",
   "id": "6ce5af1c-ea9a-49a5-800c-cf65784a540b",
   "metadata": {},
   "source": [
    "# --------------------------------------------------------------------"
   ]
  },
  {
   "cell_type": "markdown",
   "id": "e5ff633d-96d5-49d6-943e-067f23eb4a49",
   "metadata": {},
   "source": [
    "### Calculate percent"
   ]
  },
  {
   "cell_type": "code",
   "execution_count": 16,
   "id": "b15d2e21-8729-4993-961c-9eba6f3a2550",
   "metadata": {
    "ExecuteTime": {
     "end_time": "2025-01-30T14:31:16.826191Z",
     "start_time": "2025-01-30T14:31:16.810033Z"
    }
   },
   "outputs": [],
   "source": [
    "wt_p30_percent = (bl6_p30_count_rf / bl6_p30_count) * 100\n",
    "wt_p45_percent = (bl6_p45_count_rf / bl6_p45_count) * 100\n",
    "wt_p90_percent = (bl6_p90_count_rf / bl6_p90_count) * 100\n",
    "\n",
    "rd_p30_percent = (rd10_p30_count_rf / rd10_p30_count) * 100\n",
    "rd_p45_percent = (rd10_p45_count_rf / rd10_p45_count) * 100\n",
    "rd_p90_percent = (rd10_p90_count_rf / rd10_p90_count) * 100"
   ]
  },
  {
   "cell_type": "code",
   "execution_count": 17,
   "id": "ed3e6ccc-e257-4422-af37-34b9e172df1f",
   "metadata": {
    "ExecuteTime": {
     "end_time": "2025-01-30T14:31:17.030540Z",
     "start_time": "2025-01-30T14:31:17.014448Z"
    }
   },
   "outputs": [],
   "source": [
    "import pandas as pd\n",
    "\n",
    "# Create a DataFrame with the calculated percentages\n",
    "percentages_df = pd.DataFrame({\n",
    "    'age': ['P30', 'P45', 'P90', 'P30', 'P45', 'P90'],\n",
    "    'percentage': [wt_p30_percent, wt_p45_percent, wt_p90_percent,\n",
    "                   rd_p30_percent, rd_p45_percent, rd_p90_percent],\n",
    "    'genline': ['Bl6'] * 3 + ['rd10'] * 3\n",
    "})"
   ]
  },
  {
   "cell_type": "markdown",
   "id": "943f4ece-d968-49c8-affe-4f8c09515262",
   "metadata": {},
   "source": [
    "# --------------------------------------------------------------------"
   ]
  },
  {
   "cell_type": "code",
   "execution_count": 18,
   "id": "abde29fc-3f00-401e-92aa-9aa601262bff",
   "metadata": {
    "ExecuteTime": {
     "end_time": "2025-01-30T14:31:18.075723Z",
     "start_time": "2025-01-30T14:31:17.809254Z"
    }
   },
   "outputs": [
    {
     "data": {
      "image/png": "[encoded data removed]",
      "text/plain": [
       "<Figure size 414.75x360 with 1 Axes>"
      ]
     },
     "metadata": {},
     "output_type": "display_data"
    }
   ],
   "source": [
    "# Set the font to Arial\n",
    "plt.rcParams['font.family'] = 'Arial'\n",
    "\n",
    "# Create the bar plot using seaborn\n",
    "g = sns.catplot(\n",
    "    data=percentages_df,\n",
    "    x='age',\n",
    "    y='percentage',\n",
    "    hue='genline',\n",
    "    kind='bar',\n",
    "    palette={'Bl6': 'white', 'rd10': 'magenta'},\n",
    "    edgecolor='black',\n",
    "    height=3,  # Adjust height for a better plot\n",
    "    aspect=1.0  # Adjust aspect ratio for a better plot\n",
    ")\n",
    "\n",
    "# Customizing the plot\n",
    "g.set_axis_labels('', 'Reliable RFs [%]')\n",
    "#g.fig.suptitle('Percentage of RF Sizes by Genline and Age (P30, P45, P90)', y=1.02)\n",
    "\n",
    "# Access the Axes object\n",
    "ax = g.ax\n",
    "ax.set_xticklabels(ax.get_xticklabels(), rotation=45)  # Rotate x-axis labels for readability\n",
    "\n",
    "# Adjust layout\n",
    "#plt.tight_layout()\n",
    "\n",
    "#plt.savefig('SupplFig_RFs_2024-09-03.pdf')\n",
    "\n",
    "# Show plot\n",
    "plt.show()"
   ]
  },
  {
   "cell_type": "markdown",
   "id": "e1d638bf-e537-4423-ae31-39bb83690363",
   "metadata": {},
   "source": [
    "# --------------------------------------------------------------------"
   ]
  },
  {
   "cell_type": "markdown",
   "id": "60dc6cb1-bf6d-48b2-8c20-0c7ccf79b410",
   "metadata": {},
   "source": [
    "# Plot Panel D - classified cells"
   ]
  },
  {
   "cell_type": "code",
   "execution_count": 19,
   "id": "a3dd9b51-9c53-4952-b653-3850013be5f2",
   "metadata": {},
   "outputs": [],
   "source": [
    "rd10_df_no_conf = rd10_df[rd10_df['max_confidence']>=0.0]\n",
    "rd10_df = rd10_df[rd10_df['max_confidence']>=0.25]"
   ]
  },
  {
   "cell_type": "code",
   "execution_count": 21,
   "id": "7da24536-1e84-42b1-b8a5-ce0f2034b03f",
   "metadata": {
    "tags": []
   },
   "outputs": [],
   "source": [
    "ncells_wt_p30 = rd10_df[(rd10_df['animrem']=='P30')&(rd10_df['genline']=='Bl6')]['preproc_chirp'].values.shape[0]\n",
    "ncells_wt_p45 = rd10_df[(rd10_df['animrem']=='P45')&(rd10_df['genline']=='Bl6')]['preproc_chirp'].values.shape[0]\n",
    "ncells_wt_p90 = rd10_df[(rd10_df['animrem']=='P90')&(rd10_df['genline']=='Bl6')]['preproc_chirp'].values.shape[0]\n",
    "\n",
    "ncells_rd_p30 = rd10_df[(rd10_df['animrem']=='P30')&(rd10_df['genline']=='rd10')]['preproc_chirp'].values.shape[0]\n",
    "ncells_rd_p45 = rd10_df[(rd10_df['animrem']=='P45')&(rd10_df['genline']=='rd10')]['preproc_chirp'].values.shape[0]\n",
    "ncells_rd_p90 = rd10_df[(rd10_df['animrem']=='P90')&(rd10_df['genline']=='rd10')]['preproc_chirp'].values.shape[0]"
   ]
  },
  {
   "cell_type": "code",
   "execution_count": 23,
   "id": "30af47ef-4526-44a1-978d-a35a2788a376",
   "metadata": {
    "tags": []
   },
   "outputs": [],
   "source": [
    "ncells_wt_p30_no_conf = rd10_df_no_conf[(rd10_df_no_conf['animrem']=='P30')&(rd10_df_no_conf['genline']=='Bl6')]['preproc_chirp'].values.shape[0]\n",
    "ncells_wt_p45_no_conf = rd10_df_no_conf[(rd10_df_no_conf['animrem']=='P45')&(rd10_df_no_conf['genline']=='Bl6')]['preproc_chirp'].values.shape[0]\n",
    "ncells_wt_p90_no_conf = rd10_df_no_conf[(rd10_df_no_conf['animrem']=='P90')&(rd10_df_no_conf['genline']=='Bl6')]['preproc_chirp'].values.shape[0]\n",
    "\n",
    "ncells_rd_p30_no_conf = rd10_df_no_conf[(rd10_df_no_conf['animrem']=='P30')&(rd10_df_no_conf['genline']=='rd10')]['preproc_chirp'].values.shape[0]\n",
    "ncells_rd_p45_no_conf = rd10_df_no_conf[(rd10_df_no_conf['animrem']=='P45')&(rd10_df_no_conf['genline']=='rd10')]['preproc_chirp'].values.shape[0]\n",
    "ncells_rd_p90_no_conf = rd10_df_no_conf[(rd10_df_no_conf['animrem']=='P90')&(rd10_df_no_conf['genline']=='rd10')]['preproc_chirp'].values.shape[0]"
   ]
  },
  {
   "cell_type": "code",
   "execution_count": 31,
   "id": "908261b5-f832-4812-913e-bd21a78d1aa0",
   "metadata": {},
   "outputs": [],
   "source": [
    "perc_classified_wt_p30 = round(ncells_wt_p30/ncells_wt_p30_no_conf*100,2)\n",
    "perc_classified_wt_p45 = round(ncells_wt_p45/ncells_wt_p45_no_conf*100,2)\n",
    "perc_classified_wt_p90 = round(ncells_wt_p90/ncells_wt_p90_no_conf*100,2)\n",
    "\n",
    "perc_classified_rd_p30 = round(ncells_rd_p30/ncells_rd_p30_no_conf*100,2)\n",
    "perc_classified_rd_p45 = round(ncells_rd_p45/ncells_rd_p45_no_conf*100,2)\n",
    "perc_classified_rd_p90 = round(ncells_rd_p90/ncells_rd_p90_no_conf*100,2)"
   ]
  },
  {
   "cell_type": "code",
   "execution_count": 38,
   "id": "b66bafff-6219-4796-937f-aee0f1823abd",
   "metadata": {},
   "outputs": [
    {
     "data": {
      "image/png": "[encoded data removed]",
      "text/plain": [
       "<Figure size 200x100 with 1 Axes>"
      ]
     },
     "metadata": {},
     "output_type": "display_data"
    }
   ],
   "source": [
    "fig,ax=plt.subplots(1,1,figsize=(2,3))\n",
    "width = 0.40\n",
    "ax.bar(np.arange(0,3,1)-0.2, [perc_classified_wt_p30,perc_classified_wt_p45,perc_classified_wt_p90], width, color='white',edgecolor='k') \n",
    "ax.bar(np.arange(0,3,1)+0.2, [perc_classified_rd_p30,perc_classified_rd_p45,perc_classified_rd_p90], width, color='magenta',edgecolor='k') \n",
    "ax.set_ylim(0,100)\n",
    "\n",
    "plt.xticks(np.arange(0,3,1), ['P30', 'P45', 'P90']) \n",
    "plt.xlabel(\"age\") \n",
    "plt.ylabel(\"% classified\\ncells\") \n",
    "plt.legend([\"WT\", \"rd10\"]) \n",
    "\n",
    "sns.despine()"
   ]
  }
 ],
 "metadata": {
  "kernelspec": {
   "display_name": "Python 3 (ipykernel)",
   "language": "python",
   "name": "python3"
  },
  "language_info": {
   "codemirror_mode": {
    "name": "ipython",
    "version": 3
   },
   "file_extension": ".py",
   "mimetype": "text/x-python",
   "name": "python",
   "nbconvert_exporter": "python",
   "pygments_lexer": "ipython3",
   "version": "3.8.10"
  }
 },
 "nbformat": 4,
 "nbformat_minor": 5
}
