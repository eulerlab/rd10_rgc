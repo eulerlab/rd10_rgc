{
 "cells": [
  {
   "cell_type": "markdown",
   "id": "2ef1c3f1-0c55-46d7-9089-04ae8db924ab",
   "metadata": {},
   "source": [
    "# Fig. 10: RGC type classifier performance"
   ]
  },
  {
   "cell_type": "markdown",
   "id": "0ef623f2-a98f-49fb-a74c-9d3336541b46",
   "metadata": {},
   "source": [
    "## Imports"
   ]
  },
  {
   "cell_type": "code",
   "execution_count": 1,
   "id": "916c9a08-172b-4dd6-a432-1e5479b2841f",
   "metadata": {},
   "outputs": [],
   "source": [
    "import numpy as np\n",
    "import pandas as pd\n",
    "import matplotlib.pyplot as plt\n",
    "import pickle\n",
    "import seaborn as sns\n",
    "import os\n",
    "from copy import deepcopy"
   ]
  },
  {
   "cell_type": "markdown",
   "id": "5b4f6d29-2ab8-4fc7-b126-30beb0b29e63",
   "metadata": {},
   "source": [
    "# ------------------------------------------------------------------------------------------------------------"
   ]
  },
  {
   "cell_type": "markdown",
   "id": "1205fac7-0bc9-41fc-bdb9-c1b7ca02cd39",
   "metadata": {},
   "source": [
    "# Load datasets"
   ]
  },
  {
   "cell_type": "code",
   "execution_count": 2,
   "id": "69164c66-1ab9-451a-80da-023be10cd33a",
   "metadata": {},
   "outputs": [],
   "source": [
    "# load Baden et al. (2016) dataset\n",
    "file_path = 'ADD_YOUR_PATH_TO_DATA_HERE-Baden-2016'\n",
    "file_name = 'rgc_baden.pickle'\n",
    "file_path = r'/gpfs01/euler/data/Resources/Classifier/data'\n",
    "\n",
    "with open(os.path.join(file_path, file_name), 'rb') as f:\n",
    "    rgc_baden = pickle.load(f)"
   ]
  },
  {
   "cell_type": "code",
   "execution_count": 3,
   "id": "892adac9-43eb-4952-ae2b-a4036fc63349",
   "metadata": {},
   "outputs": [
    {
     "name": "stderr",
     "output_type": "stream",
     "text": [
      "/tmp/ipykernel_7721/3737305637.py:10: SettingWithCopyWarning: \n",
      "A value is trying to be set on a copy of a slice from a DataFrame\n",
      "\n",
      "See the caveats in the documentation: https://pandas.pydata.org/pandas-docs/stable/user_guide/indexing.html#returning-a-view-versus-a-copy\n",
      "  rd10_df['genline'][missing_genline_idx]='rd10'\n"
     ]
    }
   ],
   "source": [
    "file_path = 'ADD_YOUR_PATH_TO_DATA_HERE-filtered-cells'\n",
    "file_path = \"/gpfs01/euler/User/dgonschorek/djimaging/djimaging/user/rd10/notebook_figures/data/rd10_data_20240304.pkl\"\n",
    "\n",
    "rd10_df = pd.read_pickle(file_path)  \n",
    "# multiindex df to single index df\n",
    "rd10_df = rd10_df.reset_index(level=[0,1,2,3,4,5,6,7,8,9,10,11])\n",
    "# drop unnecessary keys\n",
    "rd10_df = rd10_df.drop(columns=['training_data_hash','classifier_params_hash','preprocess_id','condition','raw_id','gchirp','bar'])\n",
    "missing_genline_idx = np.where(rd10_df['genline']=='')[0]\n",
    "rd10_df['genline'][missing_genline_idx]='rd10'\n",
    "\n",
    "idx_p60 = np.where(rd10_df['animrem'].values=='P60')[0]\n",
    "rd10_df = rd10_df.drop(idx_p60)\n",
    "rd10_df = rd10_df.reset_index(drop=True)"
   ]
  },
  {
   "cell_type": "markdown",
   "id": "8807c84a-d79b-4b1d-819f-8f93855d67d0",
   "metadata": {},
   "source": [
    "# ------------------------------------------------------------------------------------------------------------"
   ]
  },
  {
   "cell_type": "markdown",
   "id": "b3b9e015-6a94-4803-aa58-11d310d1d1be",
   "metadata": {},
   "source": [
    "# helper functions"
   ]
  },
  {
   "cell_type": "code",
   "execution_count": 4,
   "id": "337e0883-dc08-48d1-ac90-aff5ea3741f6",
   "metadata": {},
   "outputs": [],
   "source": [
    "def translate_functional_groups(labels):\n",
    "\n",
    "    labels_func = deepcopy(labels)\n",
    "    for n, i in enumerate(labels_func):\n",
    "        if i < 10:\n",
    "            labels_func[n] = 1\n",
    "        elif (i > 9) & (i < 15):\n",
    "            labels_func[n] = 2\n",
    "        elif (i > 14) & (i < 21):\n",
    "            labels_func[n] = 3\n",
    "        elif (i > 20) & (i < 29):\n",
    "            labels_func[n] = 4\n",
    "        elif (i > 28) & (i < 33):\n",
    "            labels_func[n] = 5\n",
    "        elif i > 32:\n",
    "            labels_func[n] = 6    \n",
    "        \n",
    "    return labels_func\n",
    "\n",
    "\n",
    "def compute_OOi(bar_data):\n",
    "    \n",
    "    ooi_bar = np.zeros(bar_data.shape[0])\n",
    "    for k in range(ooi_bar.shape[0]):\n",
    "        a = np.mean(np.clip(np.diff(bar_data[k,:16]),0,1))\n",
    "        b = np.mean(np.clip(np.diff(bar_data[k,16:]),0,1))\n",
    "        ooi_bar[k] = (a-b)/(a+b)\n",
    "    \n",
    "    return ooi_bar"
   ]
  },
  {
   "cell_type": "markdown",
   "id": "310f80c8-b81d-49c1-879a-92e4e2223847",
   "metadata": {},
   "source": [
    "# ------------------------------------------------------------------------------------------------------------"
   ]
  },
  {
   "cell_type": "markdown",
   "id": "0b7c7667-e16a-4496-9e2d-c3a21d45277f",
   "metadata": {},
   "source": [
    "# Compute ratio between cs=0 vs. cs=0.25"
   ]
  },
  {
   "cell_type": "code",
   "execution_count": 5,
   "id": "32fb6fed-8a15-4e42-8c93-2be21ced55e3",
   "metadata": {},
   "outputs": [],
   "source": [
    "func_labels = translate_functional_groups(rd10_df['celltype'].values[:])\n",
    "rd10_df['func_labels']=func_labels"
   ]
  },
  {
   "cell_type": "code",
   "execution_count": 6,
   "id": "a3d09640-e5fd-4654-a81e-c10261ed4eb8",
   "metadata": {},
   "outputs": [],
   "source": [
    "cs_ratio_wt = round(rd10_df[(rd10_df['max_confidence']>=0.25)&(rd10_df['genline']=='Bl6')].shape[0]/rd10_df[(rd10_df['max_confidence']>=0.0)&(rd10_df['genline']=='Bl6')].shape[0]*100,2)\n",
    "cs_ratio_rd = round(rd10_df[(rd10_df['max_confidence']>=0.25)&(rd10_df['genline']=='rd10')].shape[0]/rd10_df[(rd10_df['max_confidence']>=0.0)&(rd10_df['genline']=='rd10')].shape[0]*100,2)\n",
    "\n",
    "cs_ratio_wt_p30 = round(rd10_df[(rd10_df['max_confidence']>=0.25)&(rd10_df['genline']=='Bl6')&(rd10_df['animrem']=='P30')].shape[0]/rd10_df[(rd10_df['max_confidence']>=0.0)&(rd10_df['genline']=='Bl6')&(rd10_df['animrem']=='P30')].shape[0]*100,2)\n",
    "cs_ratio_rd_p30 = round(rd10_df[(rd10_df['max_confidence']>=0.25)&(rd10_df['genline']=='rd10')&(rd10_df['animrem']=='P30')].shape[0]/rd10_df[(rd10_df['max_confidence']>=0.0)&(rd10_df['genline']=='rd10')&(rd10_df['animrem']=='P30')].shape[0]*100,2)\n",
    "\n",
    "cs_ratio_wt_p45 = round(rd10_df[(rd10_df['max_confidence']>=0.25)&(rd10_df['genline']=='Bl6')&(rd10_df['animrem']=='P45')].shape[0]/rd10_df[(rd10_df['max_confidence']>=0.0)&(rd10_df['genline']=='Bl6')&(rd10_df['animrem']=='P45')].shape[0]*100,2)\n",
    "cs_ratio_rd_p45 = round(rd10_df[(rd10_df['max_confidence']>=0.25)&(rd10_df['genline']=='rd10')&(rd10_df['animrem']=='P45')].shape[0]/rd10_df[(rd10_df['max_confidence']>=0.0)&(rd10_df['genline']=='rd10')&(rd10_df['animrem']=='P45')].shape[0]*100,2)\n",
    "\n",
    "cs_ratio_wt_p90 = round(rd10_df[(rd10_df['max_confidence']>=0.25)&(rd10_df['genline']=='Bl6')&(rd10_df['animrem']=='P90')].shape[0]/rd10_df[(rd10_df['max_confidence']>=0.0)&(rd10_df['genline']=='Bl6')&(rd10_df['animrem']=='P90')].shape[0]*100,2)\n",
    "cs_ratio_rd_p90 = round(rd10_df[(rd10_df['max_confidence']>=0.25)&(rd10_df['genline']=='rd10')&(rd10_df['animrem']=='P90')].shape[0]/rd10_df[(rd10_df['max_confidence']>=0.0)&(rd10_df['genline']=='rd10')&(rd10_df['animrem']=='P90')].shape[0]*100,2)"
   ]
  },
  {
   "cell_type": "code",
   "execution_count": 7,
   "id": "ec360127-9c43-45be-ab67-72119c56e48e",
   "metadata": {},
   "outputs": [],
   "source": [
    "cs_thres=0.25\n",
    "\n",
    "cs_ratio_wt_types = np.zeros((5,4))\n",
    "cs_ratio_rd_types = np.zeros((5,4))\n",
    "\n",
    "for i in range(5):\n",
    "    cs_ratio_wt_types[i,0] = round(rd10_df[(rd10_df['max_confidence']>=cs_thres)&(rd10_df['genline']=='Bl6')&(rd10_df['animrem']=='P30')&(rd10_df['func_labels']==i+1)].shape[0]/rd10_df[(rd10_df['max_confidence']>=0.0)&(rd10_df['genline']=='Bl6')&(rd10_df['animrem']=='P30')&(rd10_df['func_labels']==i+1)].shape[0]*100,2)\n",
    "    cs_ratio_wt_types[i,1] = round(rd10_df[(rd10_df['max_confidence']>=cs_thres)&(rd10_df['genline']=='Bl6')&(rd10_df['animrem']=='P45')&(rd10_df['func_labels']==i+1)].shape[0]/rd10_df[(rd10_df['max_confidence']>=0.0)&(rd10_df['genline']=='Bl6')&(rd10_df['animrem']=='P45')&(rd10_df['func_labels']==i+1)].shape[0]*100,2)\n",
    "    cs_ratio_wt_types[i,2] = round(rd10_df[(rd10_df['max_confidence']>=cs_thres)&(rd10_df['genline']=='Bl6')&(rd10_df['animrem']=='P90')&(rd10_df['func_labels']==i+1)].shape[0]/rd10_df[(rd10_df['max_confidence']>=0.0)&(rd10_df['genline']=='Bl6')&(rd10_df['animrem']=='P90')&(rd10_df['func_labels']==i+1)].shape[0]*100,2)\n",
    "    cs_ratio_wt_types[i,3] = round(rd10_df[(rd10_df['max_confidence']>=cs_thres)&(rd10_df['genline']=='Bl6')&(rd10_df['func_labels']==i+1)].shape[0]/rd10_df[(rd10_df['max_confidence']>=0.0)&(rd10_df['genline']=='Bl6')&(rd10_df['func_labels']==i+1)].shape[0]*100,2)\n",
    "\n",
    "    cs_ratio_rd_types[i,0] = round(rd10_df[(rd10_df['max_confidence']>=cs_thres)&(rd10_df['genline']=='rd10')&(rd10_df['animrem']=='P30')&(rd10_df['func_labels']==i+1)].shape[0]/rd10_df[(rd10_df['max_confidence']>=0.0)&(rd10_df['genline']=='rd10')&(rd10_df['animrem']=='P30')&(rd10_df['func_labels']==i+1)].shape[0]*100,2)\n",
    "    cs_ratio_rd_types[i,1] = round(rd10_df[(rd10_df['max_confidence']>=cs_thres)&(rd10_df['genline']=='rd10')&(rd10_df['animrem']=='P45')&(rd10_df['func_labels']==i+1)].shape[0]/rd10_df[(rd10_df['max_confidence']>=0.0)&(rd10_df['genline']=='rd10')&(rd10_df['animrem']=='P45')&(rd10_df['func_labels']==i+1)].shape[0]*100,2)\n",
    "    cs_ratio_rd_types[i,2] = round(rd10_df[(rd10_df['max_confidence']>=cs_thres)&(rd10_df['genline']=='rd10')&(rd10_df['animrem']=='P90')&(rd10_df['func_labels']==i+1)].shape[0]/rd10_df[(rd10_df['max_confidence']>=0.0)&(rd10_df['genline']=='rd10')&(rd10_df['animrem']=='P90')&(rd10_df['func_labels']==i+1)].shape[0]*100,2)\n",
    "    cs_ratio_rd_types[i,3] = round(rd10_df[(rd10_df['max_confidence']>=cs_thres)&(rd10_df['genline']=='rd10')&(rd10_df['func_labels']==i+1)].shape[0]/rd10_df[(rd10_df['max_confidence']>=0.0)&(rd10_df['genline']=='rd10')&(rd10_df['func_labels']==i+1)].shape[0]*100,2)    "
   ]
  },
  {
   "cell_type": "markdown",
   "id": "ec7dd8c9-579f-4df4-af0b-582609465cf2",
   "metadata": {},
   "source": [
    "# ------------------------------------------------------------------------------------"
   ]
  },
  {
   "cell_type": "markdown",
   "id": "c35e466b-637c-4ab7-8974-c9d6ad88cfaf",
   "metadata": {},
   "source": [
    "# Compute On-Off index"
   ]
  },
  {
   "cell_type": "markdown",
   "id": "8c5201ee-4fbf-4293-bef8-448cc8637bf2",
   "metadata": {},
   "source": [
    "## split datasets"
   ]
  },
  {
   "cell_type": "code",
   "execution_count": 8,
   "id": "020fe242-6e91-4a24-a2e4-c5dac711c0cc",
   "metadata": {
    "tags": []
   },
   "outputs": [],
   "source": [
    "rd10_df_wt = rd10_df[rd10_df['genline']=='Bl6'].reset_index(drop=True)\n",
    "rd10_p30 = rd10_df_wt[(rd10_df_wt['animrem']=='P30')].reset_index(drop=True)\n",
    "rd10_p45 = rd10_df_wt[(rd10_df_wt['animrem']=='P45')].reset_index(drop=True)\n",
    "rd10_p90 = rd10_df_wt[(rd10_df_wt['animrem']=='P90')].reset_index(drop=True)"
   ]
  },
  {
   "cell_type": "code",
   "execution_count": 9,
   "id": "63a3dc23-ceca-4614-8b50-18f58db0939c",
   "metadata": {
    "tags": []
   },
   "outputs": [],
   "source": [
    "# P30\n",
    "chirp_traces_p30 = np.zeros((rd10_p30['preproc_chirp'].shape[0],rd10_p30['preproc_chirp'][0].shape[0]))\n",
    "bar_traces_p30 = np.zeros((rd10_p30['preproc_bar'].shape[0],rd10_p30['preproc_bar'][0].shape[0]))\n",
    "for i in range(chirp_traces_p30.shape[0]):\n",
    "    chirp_traces_p30[i,:] = rd10_p30['preproc_chirp'][i]\n",
    "    bar_traces_p30[i,:] = rd10_p30['preproc_bar'][i]\n",
    "    \n",
    "# P45\n",
    "chirp_traces_p45 = np.zeros((rd10_p45['preproc_chirp'].shape[0],rd10_p45['preproc_chirp'][0].shape[0]))\n",
    "bar_traces_p45 = np.zeros((rd10_p45['preproc_bar'].shape[0],rd10_p45['preproc_bar'][0].shape[0]))\n",
    "for i in range(chirp_traces_p45.shape[0]):\n",
    "    chirp_traces_p45[i,:] = rd10_p45['preproc_chirp'][i]\n",
    "    bar_traces_p45[i,:] = rd10_p45['preproc_bar'][i]\n",
    "\n",
    "# P90\n",
    "chirp_traces_p90 = np.zeros((rd10_p90['preproc_chirp'].shape[0],rd10_p90['preproc_chirp'][0].shape[0]))\n",
    "bar_traces_p90 = np.zeros((rd10_p90['preproc_bar'].shape[0],rd10_p90['preproc_bar'][0].shape[0]))\n",
    "for i in range(chirp_traces_p90.shape[0]):\n",
    "    chirp_traces_p90[i,:] = rd10_p90['preproc_chirp'][i]\n",
    "    bar_traces_p90[i,:] = rd10_p90['preproc_bar'][i]\n",
    "    \n",
    "std_chirp_p30 = np.std(chirp_traces_p30)\n",
    "std_bar_p30 = np.std(bar_traces_p30)\n",
    "std_chirp_p45 = np.std(chirp_traces_p45)\n",
    "std_bar_p45 = np.std(bar_traces_p45)\n",
    "std_chirp_p90 = np.std(chirp_traces_p90)\n",
    "std_bar_p90 = np.std(bar_traces_p90)"
   ]
  },
  {
   "cell_type": "code",
   "execution_count": 10,
   "id": "2722387d-8e77-477a-9c87-64250fac87ae",
   "metadata": {
    "tags": []
   },
   "outputs": [],
   "source": [
    "rd10_df_rd = rd10_df[rd10_df['genline']=='rd10'].reset_index(drop=True)\n",
    "rd10_p30_rd = rd10_df_rd[(rd10_df_rd['animrem']=='P30')].reset_index(drop=True)\n",
    "rd10_p45_rd = rd10_df_rd[(rd10_df_rd['animrem']=='P45')].reset_index(drop=True)\n",
    "rd10_p90_rd = rd10_df_rd[(rd10_df_rd['animrem']=='P90')].reset_index(drop=True)\n",
    "\n",
    "# P30\n",
    "chirp_traces_p30_rd = np.zeros((rd10_p30_rd['preproc_chirp'].shape[0],rd10_p30_rd['preproc_chirp'][0].shape[0]))\n",
    "bar_traces_p30_rd = np.zeros((rd10_p30_rd['preproc_bar'].shape[0],rd10_p30_rd['preproc_bar'][0].shape[0]))\n",
    "for i in range(chirp_traces_p30_rd.shape[0]):\n",
    "    chirp_traces_p30_rd[i,:] = rd10_p30_rd['preproc_chirp'][i]\n",
    "    bar_traces_p30_rd[i,:] = rd10_p30_rd['preproc_bar'][i]\n",
    "    \n",
    "# P45\n",
    "chirp_traces_p45_rd = np.zeros((rd10_p45_rd['preproc_chirp'].shape[0],rd10_p45_rd['preproc_chirp'][0].shape[0]))\n",
    "bar_traces_p45_rd = np.zeros((rd10_p45_rd['preproc_bar'].shape[0],rd10_p45_rd['preproc_bar'][0].shape[0]))\n",
    "for i in range(chirp_traces_p45_rd.shape[0]):\n",
    "    chirp_traces_p45_rd[i,:] = rd10_p45_rd['preproc_chirp'][i]\n",
    "    bar_traces_p45_rd[i,:] = rd10_p45_rd['preproc_bar'][i]\n",
    "\n",
    "# P90\n",
    "chirp_traces_p90_rd = np.zeros((rd10_p90_rd['preproc_chirp'].shape[0],rd10_p90_rd['preproc_chirp'][0].shape[0]))\n",
    "bar_traces_p90_rd = np.zeros((rd10_p90_rd['preproc_bar'].shape[0],rd10_p90_rd['preproc_bar'][0].shape[0]))\n",
    "for i in range(chirp_traces_p90_rd.shape[0]):\n",
    "    chirp_traces_p90_rd[i,:] = rd10_p90_rd['preproc_chirp'][i]\n",
    "    bar_traces_p90_rd[i,:] = rd10_p90_rd['preproc_bar'][i]\n",
    "    \n",
    "\n",
    "std_chirp_rd_p30 = np.std(chirp_traces_p30_rd)\n",
    "std_bar_rd_p30 = np.std(bar_traces_p30_rd)\n",
    "std_chirp_rd_p45 = np.std(chirp_traces_p45_rd)\n",
    "std_bar_rd_p45 = np.std(bar_traces_p45_rd)\n",
    "std_chirp_rd_p90 = np.std(chirp_traces_p90_rd)\n",
    "std_bar_rd_p90 = np.std(bar_traces_p90_rd)"
   ]
  },
  {
   "cell_type": "code",
   "execution_count": 11,
   "id": "4374e05d-6a17-4a97-8a90-42f5b7439c71",
   "metadata": {
    "tags": []
   },
   "outputs": [],
   "source": [
    "ooi_bar_wt_p30 = compute_OOi(bar_data=bar_traces_p30)\n",
    "ooi_bar_wt_p45 = compute_OOi(bar_data=bar_traces_p45)\n",
    "ooi_bar_wt_p90 = compute_OOi(bar_data=bar_traces_p90)\n",
    "\n",
    "ooi_bar_rd_p30 = compute_OOi(bar_data=bar_traces_p30_rd)\n",
    "ooi_bar_rd_p45 = compute_OOi(bar_data=bar_traces_p45_rd)\n",
    "ooi_bar_rd_p90 = compute_OOi(bar_data=bar_traces_p90_rd)"
   ]
  },
  {
   "cell_type": "markdown",
   "id": "eae59da3-c099-44e2-aea9-8d1e85815a14",
   "metadata": {},
   "source": [
    "# ------------------------------------------------------------------------------------"
   ]
  },
  {
   "cell_type": "markdown",
   "id": "c54161cb-b547-4e6a-9b93-4d42f91a827b",
   "metadata": {},
   "source": [
    "# Compute mean trace correlation with Baden 2016"
   ]
  },
  {
   "cell_type": "code",
   "execution_count": 12,
   "id": "937cc817-9b01-487d-aa8e-740d273bf096",
   "metadata": {},
   "outputs": [],
   "source": [
    "chirp_wt_p30_mean = np.zeros((46,249))\n",
    "bar_wt_p30_mean = np.zeros((46,32))\n",
    "chirp_wt_p45_mean = np.zeros((46,249))\n",
    "bar_wt_p45_mean = np.zeros((46,32))\n",
    "chirp_wt_p90_mean = np.zeros((46,249))\n",
    "bar_wt_p90_mean = np.zeros((46,32))\n",
    "\n",
    "chirp_rd_p30_mean = np.zeros((46,249))\n",
    "bar_rd_p30_mean = np.zeros((46,32))\n",
    "chirp_rd_p45_mean = np.zeros((46,249))\n",
    "bar_rd_p45_mean = np.zeros((46,32))\n",
    "chirp_rd_p90_mean = np.zeros((46,249))\n",
    "bar_rd_p90_mean = np.zeros((46,32))\n",
    "\n",
    "for j in range(1,47):\n",
    "\n",
    "    chirp_wt_p30 = rd10_df[(rd10_df['celltype']==j)&(rd10_df['animrem']=='P30')&(rd10_df['genline']=='Bl6')]['preproc_chirp'].values\n",
    "    bar_wt_p30 = rd10_df[(rd10_df['celltype']==j)&(rd10_df['animrem']=='P30')&(rd10_df['genline']=='Bl6')]['preproc_bar'].values\n",
    "    chirp_wt_p45 = rd10_df[(rd10_df['celltype']==j)&(rd10_df['animrem']=='P45')&(rd10_df['genline']=='Bl6')]['preproc_chirp'].values\n",
    "    bar_wt_p45 = rd10_df[(rd10_df['celltype']==j)&(rd10_df['animrem']=='P45')&(rd10_df['genline']=='Bl6')]['preproc_bar'].values\n",
    "    chirp_wt_p90 = rd10_df[(rd10_df['celltype']==j)&(rd10_df['animrem']=='P90')&(rd10_df['genline']=='Bl6')]['preproc_chirp'].values\n",
    "    bar_wt_p90 = rd10_df[(rd10_df['celltype']==j)&(rd10_df['animrem']=='P90')&(rd10_df['genline']=='Bl6')]['preproc_bar'].values\n",
    "    \n",
    "    chirp_rd_p30 = rd10_df[(rd10_df['celltype']==j)&(rd10_df['animrem']=='P30')&(rd10_df['genline']=='rd10')]['preproc_chirp'].values\n",
    "    bar_rd_p30 = rd10_df[(rd10_df['celltype']==j)&(rd10_df['animrem']=='P30')&(rd10_df['genline']=='rd10')]['preproc_bar'].values\n",
    "    chirp_rd_p45 = rd10_df[(rd10_df['celltype']==j)&(rd10_df['animrem']=='P45')&(rd10_df['genline']=='rd10')]['preproc_chirp'].values\n",
    "    bar_rd_p45 = rd10_df[(rd10_df['celltype']==j)&(rd10_df['animrem']=='P45')&(rd10_df['genline']=='rd10')]['preproc_bar'].values\n",
    "    chirp_rd_p90 = rd10_df[(rd10_df['celltype']==j)&(rd10_df['animrem']=='P90')&(rd10_df['genline']=='rd10')]['preproc_chirp'].values\n",
    "    bar_rd_p90 = rd10_df[(rd10_df['celltype']==j)&(rd10_df['animrem']=='P90')&(rd10_df['genline']=='rd10')]['preproc_bar'].values\n",
    "    \n",
    "    # P30 - WT\n",
    "    if chirp_wt_p30.shape[0] == 0:\n",
    "        chirp_wt_p30 = 0#np.zeros(249)\n",
    "        bar_wt_p30 = 0#np.zeros(32)\n",
    "    elif chirp_wt_p30.shape[0] == 1:\n",
    "        chirp_wt_p30 = chirp_wt_p30[0]\n",
    "        bar_wt_p30 = bar_wt_p30[0]\n",
    "    else: \n",
    "        chirp_wt_p30 = np.mean(chirp_wt_p30,axis=0)\n",
    "        bar_wt_p30 = np.mean(bar_wt_p30,axis=0)\n",
    "        \n",
    "    # P30 - rd10\n",
    "    if chirp_rd_p30.shape[0] == 0:\n",
    "        chirp_rd_p30 = 0#np.zeros(249)\n",
    "        bar_rd_p30 = 0#np.zeros(32)   \n",
    "    elif chirp_rd_p30.shape[0] == 1:\n",
    "        chirp_rd_p30 = chirp_rd_p30[0]\n",
    "        bar_rd_p30 = bar_rd_p30[0]   \n",
    "    else: \n",
    "        chirp_rd_p30 = np.mean(chirp_rd_p30,axis=0)\n",
    "        bar_rd_p30 = np.mean(bar_rd_p30,axis=0)\n",
    "        \n",
    "    # P45 - WT\n",
    "    if chirp_wt_p45.shape[0] == 0:\n",
    "        chirp_wt_p45 = 0#np.zeros(249)\n",
    "        bar_wt_p45 = 0#np.zeros(32)  \n",
    "    elif chirp_wt_p45.shape[0] == 1:\n",
    "        chirp_wt_p45 = chirp_wt_p45[0]\n",
    "        bar_wt_p45 = bar_wt_p45[0]   \n",
    "    else: \n",
    "        chirp_wt_p45 = np.mean(chirp_wt_p45,axis=0)\n",
    "        bar_wt_p45 = np.mean(bar_wt_p45,axis=0)\n",
    "        \n",
    "    # P45 - rd10\n",
    "    if chirp_rd_p45.shape[0] == 0:\n",
    "        chirp_rd_p45 = 0#np.zeros(249)\n",
    "        bar_rd_p45 = 0#np.zeros(32)   \n",
    "    elif chirp_rd_p45.shape[0] == 1:\n",
    "        chirp_rd_p45 = chirp_rd_p45[0]\n",
    "        bar_rd_p45 = bar_rd_p45[0] \n",
    "    else: \n",
    "        chirp_rd_p45 = np.mean(chirp_rd_p45,axis=0)\n",
    "        bar_rd_p45 = np.mean(bar_rd_p45,axis=0)\n",
    "        \n",
    "    # P90 - WT\n",
    "    if chirp_wt_p90.shape[0] == 0:\n",
    "        chirp_wt_p90 = 0#np.zeros(249)\n",
    "        bar_wt_p90 = 0#np.zeros(32) \n",
    "    elif chirp_wt_p90.shape[0] == 1:\n",
    "        chirp_wt_p90 = chirp_wt_p90[0]\n",
    "        bar_wt_p90 = bar_wt_p90[0]\n",
    "    else: \n",
    "        chirp_wt_p90 = np.mean(chirp_wt_p90,axis=0)\n",
    "        bar_wt_p90 = np.mean(bar_wt_p90,axis=0)\n",
    "       \n",
    "    # P90 - rd10\n",
    "    if chirp_rd_p90.shape[0] == 0:\n",
    "        chirp_rd_p90 = 0#np.zeros(249)\n",
    "        bar_rd_p90 = 0#np.zeros(32)\n",
    "    elif chirp_rd_p90.shape[0] == 1:\n",
    "        chirp_rd_p90 = chirp_rd_p90[0]\n",
    "        bar_rd_p90 = bar_rd_p90[0]\n",
    "    else: \n",
    "        chirp_rd_p90 = np.mean(chirp_rd_p90,axis=0)\n",
    "        bar_rd_p90 = np.mean(bar_rd_p90,axis=0)\n",
    "    \n",
    "    chirp_wt_p30_mean[j-1] = chirp_wt_p30\n",
    "    chirp_wt_p45_mean[j-1] = chirp_wt_p45\n",
    "    chirp_wt_p90_mean[j-1] = chirp_wt_p90\n",
    "    chirp_rd_p30_mean[j-1] = chirp_rd_p30\n",
    "    chirp_rd_p45_mean[j-1] = chirp_rd_p45\n",
    "    chirp_rd_p90_mean[j-1] = chirp_rd_p90\n",
    "    \n",
    "    bar_wt_p30_mean[j-1] = bar_wt_p30\n",
    "    bar_wt_p45_mean[j-1] = bar_wt_p45\n",
    "    bar_wt_p90_mean[j-1] = bar_wt_p90\n",
    "    bar_rd_p30_mean[j-1] = bar_rd_p30\n",
    "    bar_rd_p45_mean[j-1] = bar_rd_p45\n",
    "    bar_rd_p90_mean[j-1] = bar_rd_p90"
   ]
  },
  {
   "cell_type": "code",
   "execution_count": 13,
   "id": "d7d77ed6-1052-4535-b0c7-2d238ca4480a",
   "metadata": {},
   "outputs": [],
   "source": [
    "baden_chirp_mean = np.zeros((32,249))\n",
    "baden_bar_mean = np.zeros((32,32))\n",
    "\n",
    "for i,j in enumerate(range(1,33)):\n",
    "    idx_label = np.where(rgc_baden['label']==j)[0]\n",
    "    baden_chirp_mean[i,:] = np.mean(rgc_baden['chirp'][idx_label],axis=0)\n",
    "    baden_bar_mean[i,:] = np.mean(rgc_baden['bar'][idx_label],axis=0)"
   ]
  },
  {
   "cell_type": "code",
   "execution_count": 14,
   "id": "d68c0e16-6d4e-472b-88c4-3ec3d6a26d03",
   "metadata": {},
   "outputs": [],
   "source": [
    "chirp_corr_p30_wt_baden = np.zeros((32,32))\n",
    "chirp_corr_p45_wt_baden = np.zeros((32,32))\n",
    "chirp_corr_p90_wt_baden = np.zeros((32,32))\n",
    "\n",
    "bar_corr_p30_wt_baden = np.zeros((32,32))\n",
    "bar_corr_p45_wt_baden = np.zeros((32,32))\n",
    "bar_corr_p90_wt_baden = np.zeros((32,32))\n",
    "\n",
    "for i in range(32):\n",
    "    for j in range(32):\n",
    "        chirp_corr_p30_wt_baden[i,j] = np.corrcoef(chirp_wt_p30_mean[i,:],baden_chirp_mean[j,:])[0,1]\n",
    "        chirp_corr_p45_wt_baden[i,j] = np.corrcoef(chirp_wt_p45_mean[i,:],baden_chirp_mean[j,:])[0,1]\n",
    "        chirp_corr_p90_wt_baden[i,j] = np.corrcoef(chirp_wt_p90_mean[i,:],baden_chirp_mean[j,:])[0,1]\n",
    "        \n",
    "        bar_corr_p30_wt_baden[i,j] = np.corrcoef(bar_wt_p30_mean[i,:],baden_bar_mean[j,:])[0,1]\n",
    "        bar_corr_p45_wt_baden[i,j] = np.corrcoef(bar_wt_p45_mean[i,:],baden_bar_mean[j,:])[0,1]\n",
    "        bar_corr_p90_wt_baden[i,j] = np.corrcoef(bar_wt_p90_mean[i,:],baden_bar_mean[j,:])[0,1] "
   ]
  },
  {
   "cell_type": "code",
   "execution_count": 15,
   "id": "4c08b5a4-867b-42bd-8080-0d2d9e519883",
   "metadata": {},
   "outputs": [
    {
     "name": "stderr",
     "output_type": "stream",
     "text": [
      "/usr/local/lib/python3.8/dist-packages/numpy/lib/function_base.py:2853: RuntimeWarning: invalid value encountered in divide\n",
      "  c /= stddev[:, None]\n",
      "/usr/local/lib/python3.8/dist-packages/numpy/lib/function_base.py:2854: RuntimeWarning: invalid value encountered in divide\n",
      "  c /= stddev[None, :]\n"
     ]
    }
   ],
   "source": [
    "chirp_corr_p30_rd_baden = np.zeros((32,32))\n",
    "chirp_corr_p45_rd_baden = np.zeros((32,32))\n",
    "chirp_corr_p90_rd_baden = np.zeros((32,32))\n",
    "\n",
    "bar_corr_p30_rd_baden = np.zeros((32,32))\n",
    "bar_corr_p45_rd_baden = np.zeros((32,32))\n",
    "bar_corr_p90_rd_baden = np.zeros((32,32))\n",
    "\n",
    "for i in range(32):\n",
    "    for j in range(32):\n",
    "        chirp_corr_p30_rd_baden[i,j] = np.corrcoef(chirp_rd_p30_mean[i,:],baden_chirp_mean[j,:])[0,1]\n",
    "        chirp_corr_p45_rd_baden[i,j] = np.corrcoef(chirp_rd_p45_mean[i,:],baden_chirp_mean[j,:])[0,1]\n",
    "        chirp_corr_p90_rd_baden[i,j] = np.corrcoef(chirp_rd_p90_mean[i,:],baden_chirp_mean[j,:])[0,1]\n",
    "        \n",
    "        bar_corr_p30_rd_baden[i,j] = np.corrcoef(bar_rd_p30_mean[i,:],baden_bar_mean[j,:])[0,1]\n",
    "        bar_corr_p45_rd_baden[i,j] = np.corrcoef(bar_rd_p45_mean[i,:],baden_bar_mean[j,:])[0,1]\n",
    "        bar_corr_p90_rd_baden[i,j] = np.corrcoef(bar_rd_p90_mean[i,:],baden_bar_mean[j,:])[0,1] "
   ]
  },
  {
   "cell_type": "markdown",
   "id": "f6d4476c-c873-4244-8859-668366179809",
   "metadata": {},
   "source": [
    "# ------------------------------------------------------------------------------------"
   ]
  },
  {
   "cell_type": "markdown",
   "id": "b6217940-9937-4682-a671-d04e8f1b5006",
   "metadata": {},
   "source": [
    "# Final figure"
   ]
  },
  {
   "cell_type": "code",
   "execution_count": 16,
   "id": "1c709f07-1cad-4202-bace-23f6bc31f866",
   "metadata": {},
   "outputs": [
    {
     "data": {
      "image/png": "[encoded data removed]",
      "text/plain": [
       "<Figure size 800x300 with 10 Axes>"
      ]
     },
     "metadata": {},
     "output_type": "display_data"
    }
   ],
   "source": [
    "fig,ax=plt.subplots(2,5,figsize=(8,3),sharey=False)\n",
    "\n",
    "################ correlations with Baden (2016)\n",
    "colors = ['tab:red'] * 9 + ['gold'] * 5 + ['tab:green'] * 6 + ['tab:blue'] * 8 + ['tab:purple'] * 4\n",
    "size=15\n",
    "alpha=0.6\n",
    "marker_p30='o'\n",
    "marker_p45='x'\n",
    "marker_p90='+'\n",
    "str_cluster = ['Off', 'On-Off', 'Fast-On', 'Slow-On', 'Uncertain\\nRGCs']\n",
    "\n",
    "ax[0,0].scatter(np.diag(chirp_corr_p30_wt_baden),np.diag(chirp_corr_p30_rd_baden),s=size,alpha=alpha,marker=marker_p30,color=colors)#,edgecolors='black')\n",
    "ax[0,0].scatter(np.diag(chirp_corr_p45_wt_baden),np.diag(chirp_corr_p45_rd_baden),s=size,alpha=alpha,marker=marker_p45,color=colors)#,edgecolors='black')\n",
    "ax[0,0].scatter(np.diag(chirp_corr_p90_wt_baden),np.diag(chirp_corr_p90_rd_baden),s=size,alpha=alpha,marker=marker_p90,color=colors)#,edgecolors='black')\n",
    "ax[0,0].set_ylim(0.1,1.1);ax[0,0].set_xlim(0.1,1.1)\n",
    "ax[0,0].plot([-1,1],[-1,1],lw=0.5,ls='--',color='k')\n",
    "ax[0,0].set_xlabel('r(wt vs.\\nBaden (2016))',fontsize=9)\n",
    "ax[0,0].set_ylabel('r(rd10 vs.\\nBaden (2016))',fontsize=9)\n",
    "\n",
    "\n",
    "\n",
    "ax[0,1].scatter(np.diag(bar_corr_p30_wt_baden),np.diag(bar_corr_p30_rd_baden),s=size,alpha=alpha,marker=marker_p30,color=colors)#,edgecolors='black')\n",
    "ax[0,1].scatter(np.diag(bar_corr_p45_wt_baden),np.diag(bar_corr_p45_rd_baden),s=size,alpha=alpha,marker=marker_p45,color=colors)#,edgecolors='black')\n",
    "ax[0,1].scatter(np.diag(bar_corr_p90_wt_baden),np.diag(bar_corr_p90_rd_baden),s=size,alpha=alpha,marker=marker_p90,color=colors)#,edgecolors='black')\n",
    "ax[0,1].set_ylim(0.1,1.1);ax[0,1].set_xlim(0.1,1.1)\n",
    "ax[0,1].plot([-1,1],[-1,1],lw=0.5,ls='--',color='k')\n",
    "ax[0,1].set_xlabel('r(wt vs.\\nBaden (2016))',fontsize=9)\n",
    "ax[0,1].set_ylabel('r(rd10 vs.\\nBaden (2016))',fontsize=9)\n",
    "\n",
    "################ OOi\n",
    "    \n",
    "bins = [-1, -0.2, 0.2, 1]  \n",
    "bin_labels = ['Off','On-Off', 'On'] \n",
    "x = np.arange(len(bin_labels))  \n",
    "width = 0.25\n",
    "\n",
    "# P30\n",
    "hist_wt_p30, _ = np.histogram(ooi_bar_wt_p30, bins=bins)\n",
    "hist_rd_p30, _ = np.histogram(ooi_bar_rd_p30, bins=bins)\n",
    "hist_wt_p30 = hist_wt_p30 / len(ooi_bar_wt_p30)\n",
    "hist_rd_p30 = hist_rd_p30 / len(ooi_bar_rd_p30)\n",
    "\n",
    "# P45\n",
    "hist_wt_p45, _ = np.histogram(ooi_bar_wt_p45, bins=bins)\n",
    "hist_rd_p45, _ = np.histogram(ooi_bar_rd_p45, bins=bins)\n",
    "hist_wt_p45 = hist_wt_p45 / len(ooi_bar_wt_p45)\n",
    "hist_rd_p45 = hist_rd_p45 / len(ooi_bar_rd_p45)\n",
    "\n",
    "# P90\n",
    "hist_wt_p90, _ = np.histogram(ooi_bar_wt_p90, bins=bins)\n",
    "hist_rd_p90, _ = np.histogram(ooi_bar_rd_p90, bins=bins)\n",
    "hist_wt_p90 = hist_wt_p90 / len(ooi_bar_wt_p90)\n",
    "hist_rd_p90 = hist_rd_p90 / len(ooi_bar_rd_p90)\n",
    "ax[0,2].bar(x - width, hist_wt_p30, width, label='WT', color='gray', edgecolor='black',alpha=0.75)\n",
    "ax[0,2].bar(x, hist_rd_p30, width, label='rd10', color='magenta', edgecolor='black',alpha=0.75)\n",
    "ax[0,2].set_title('P30',fontsize=9)\n",
    "\n",
    "# Plot data for each dataset\n",
    "ax[0,3].bar(x - width, hist_wt_p45, width, label='Dataset 1', color='gray', edgecolor='black',alpha=0.75)\n",
    "ax[0,3].bar(x, hist_rd_p45, width, label='Dataset 2', color='magenta', edgecolor='black',alpha=0.75)\n",
    "ax[0,3].set_title('P45',fontsize=9)\n",
    "\n",
    "# Plot data for each dataset\n",
    "ax[0,4].bar(x - width, hist_wt_p90, width, label='Dataset 1', color='gray', edgecolor='black',alpha=0.75)\n",
    "ax[0,4].bar(x, hist_rd_p90, width, label='Dataset 2', color='magenta', edgecolor='black',alpha=0.75)\n",
    "ax[0,4].set_title('P90',fontsize=9)    \n",
    "    \n",
    "for i in [2,3,4]:\n",
    "    ax[0,i].set_xticks(x) \n",
    "    ax[0,i].set_xticklabels(bin_labels, fontsize=9) \n",
    "    \n",
    "    \n",
    "################ number cells per type ratios cs>0 vs csY0.25\n",
    "bins = [0.5,1.5,2.5]  \n",
    "bin_labels = ['P30','P45','P90'] \n",
    "n = 4-1\n",
    "x = np.arange(n)+1 \n",
    "width = 0.3\n",
    "for i in range(5):\n",
    "    ax[1,i].bar(x-width,cs_ratio_wt_types[i,:-1],width=width,color='gray',edgecolor='k', label='WT',alpha=0.6)\n",
    "    ax[1,i].bar(x,cs_ratio_rd_types[i,:-1],width=width,color='magenta',edgecolor='k', label='rd10',alpha=0.6)\n",
    "    ax[1,i].set_xticks(x-.15) \n",
    "    ax[1,i].set_xticklabels(bin_labels, fontsize=9) \n",
    "    ax[1,i].set_title(str_cluster[i],fontsize=9) \n",
    "    ax[1,0].set_ylabel('Classified\\ncells [%]',fontsize=9)\n",
    "    ax[1,i].set_ylim(0,100)\n",
    "       \n",
    "sns.despine()\n",
    "fig.tight_layout()"
   ]
  }
 ],
 "metadata": {
  "kernelspec": {
   "display_name": "Python 3 (ipykernel)",
   "language": "python",
   "name": "python3"
  },
  "language_info": {
   "codemirror_mode": {
    "name": "ipython",
    "version": 3
   },
   "file_extension": ".py",
   "mimetype": "text/x-python",
   "name": "python",
   "nbconvert_exporter": "python",
   "pygments_lexer": "ipython3",
   "version": "3.8.10"
  }
 },
 "nbformat": 4,
 "nbformat_minor": 5
}
