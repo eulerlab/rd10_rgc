{
 "cells": [
  {
   "cell_type": "markdown",
   "id": "da730d88-3535-4857-a03b-8eea87f5394c",
   "metadata": {},
   "source": [
    "# Figure 7: Receptive field properties in  *rd10* vs. *wild-type* retina"
   ]
  },
  {
   "cell_type": "markdown",
   "id": "29832e1e-1a9a-410b-b9b8-093ed9314a07",
   "metadata": {},
   "source": [
    "# Imports"
   ]
  },
  {
   "cell_type": "code",
   "execution_count": 1,
   "id": "495dc004-9949-4cfd-91c4-ea6d460e9627",
   "metadata": {},
   "outputs": [],
   "source": [
    "%load_ext autoreload\n",
    "%autoreload 2"
   ]
  },
  {
   "cell_type": "code",
   "execution_count": 30,
   "id": "479a8a43-605f-47f1-ac8e-0bb30c330c12",
   "metadata": {},
   "outputs": [],
   "source": [
    "import datajoint as dj\n",
    "import numpy as np\n",
    "from matplotlib import pyplot as plt\n",
    "import seaborn as sns\n",
    "import pandas as pd\n",
    "import os\n",
    "from djimaging.utils.receptive_fields import plot_rf_utils"
   ]
  },
  {
   "cell_type": "markdown",
   "id": "6f2b9907-ed38-45d1-badd-20ff85d138d8",
   "metadata": {},
   "source": [
    "# --------------------------------------------------------------------"
   ]
  },
  {
   "cell_type": "markdown",
   "id": "6098ccc5-dd73-4f23-88b4-e051f6aedbbb",
   "metadata": {},
   "source": [
    "# Helper functions"
   ]
  },
  {
   "cell_type": "code",
   "execution_count": 3,
   "id": "d9a71f0a-5a2d-41e0-a15a-0fa66f3dc31a",
   "metadata": {},
   "outputs": [],
   "source": [
    "def plot_scale_bar(ax, x0, y0, size, pad=0, text=None, orientation='h', color='k', text_ha='center', text_va='top',\n",
    "                   text_x_pad=0):\n",
    "    if orientation[0] == 'h':\n",
    "        ax.plot([x0, x0 + size], [y0, y0], solid_capstyle='butt', clip_on=False, color=color)\n",
    "        if text is not None:\n",
    "            ax.text(x0 + size / 2 + text_x_pad, y0 + pad, text, va=text_va, ha=text_ha, color=color)\n",
    "    else:\n",
    "        ax.plot([x0, x0], [y0, y0 + size], solid_capstyle='butt', clip_on=False, color=color)\n",
    "        if text is not None:\n",
    "            ax.text(x0 + size, y0 + size / 2, text, va='center', ha='left', color=color)"
   ]
  },
  {
   "cell_type": "code",
   "execution_count": 4,
   "id": "b7adef4c-9e0e-46f3-a93f-887131668444",
   "metadata": {},
   "outputs": [],
   "source": [
    "def map_p_to_star(p):\n",
    "    if p <= 0.001:\n",
    "        return '***'\n",
    "    elif p <= 0.01:\n",
    "        return '**'\n",
    "    elif p <= 0.05:\n",
    "        return '*'\n",
    "    else:\n",
    "        return ''"
   ]
  },
  {
   "cell_type": "code",
   "execution_count": 5,
   "id": "562307a3-5572-4e86-a056-ed0ce51e5ba5",
   "metadata": {},
   "outputs": [],
   "source": [
    "from statsmodels.stats.multitest import multipletests\n",
    "\n",
    "def correct_p_values(p_values, alpha=0.05, method='fdr_bh'):\n",
    "    finite_mask = np.isfinite(p_values)\n",
    "    finite_values = p_values[finite_mask]\n",
    "\n",
    "    reject, pvals_corrected_flat, _, _ = multipletests(finite_values, alpha=alpha, method='fdr_bh')\n",
    "\n",
    "    pvals_corrected = np.full(p_values.shape, np.nan)  # Initialize with NaNs\n",
    "    pvals_corrected[finite_mask] = pvals_corrected_flat\n",
    "    \n",
    "    return pvals_corrected"
   ]
  },
  {
   "cell_type": "code",
   "execution_count": 6,
   "id": "6a00c8dd-b2ae-4c37-8fcf-8e982c5bc694",
   "metadata": {},
   "outputs": [],
   "source": [
    "def test(data1, data2):\n",
    "    if len(data1) > 3 and len(data2) > 3:\n",
    "        stat, p = mannwhitneyu(data1, data2, alternative='two-sided')\n",
    "        return p\n",
    "    else:\n",
    "        np.nan"
   ]
  },
  {
   "cell_type": "markdown",
   "id": "1e207ad7-ea34-4cd0-afbb-a5dfb9ea1683",
   "metadata": {},
   "source": [
    "# --------------------------------------------------------------------"
   ]
  },
  {
   "cell_type": "markdown",
   "id": "33ef4078-da41-4d45-83c8-a443935029fb",
   "metadata": {},
   "source": [
    "# Load data"
   ]
  },
  {
   "cell_type": "code",
   "execution_count": 8,
   "id": "c6ed0c79-4072-4762-a6e8-24d4608c5191",
   "metadata": {},
   "outputs": [],
   "source": [
    "file_path = 'ADD_YOUR_PATH_TO_DATA_HERE'\n",
    "file_path = '/gpfs01/euler/User/ndyszkant/PhD/Manuscript/Functional diversity rd10/Figures/submission/data/df_all_rfs.pkl'\n",
    "all_rf_df = pd.read_pickle(file_path)  \n",
    "file_path = '/gpfs01/euler/User/ndyszkant/PhD/Manuscript/Functional diversity rd10/Figures/submission/data/qfilt_rf_df.pkl'\n",
    "qifiltered_rf_df = pd.read_pickle(file_path)  "
   ]
  },
  {
   "cell_type": "code",
   "execution_count": 9,
   "id": "48d5da6d-a34a-49a9-b3d2-a81ffb46af64",
   "metadata": {},
   "outputs": [
    {
     "data": {
      "text/plain": [
       "Index(['experimenter', 'date', 'exp_num', 'raw_id', 'field', 'region',\n",
       "       'stim_name', 'cond1', 'roi_id', 'preprocess_id', 'dnoise_params_id',\n",
       "       'rf_glm_params_id'],\n",
       "      dtype='object')"
      ]
     },
     "execution_count": 9,
     "metadata": {},
     "output_type": "execute_result"
    }
   ],
   "source": [
    "qifiltered_rf_df.keys()"
   ]
  },
  {
   "cell_type": "markdown",
   "id": "841fc27a-f58a-433a-a352-97de2579a729",
   "metadata": {},
   "source": [
    "# --------------------------------------------------------------------"
   ]
  },
  {
   "cell_type": "markdown",
   "id": "0704aab7-1f23-4ec8-a51c-aa6581702502",
   "metadata": {},
   "source": [
    "# Plot panel A"
   ]
  },
  {
   "cell_type": "code",
   "execution_count": 23,
   "id": "91dc61f6-2b68-4daf-92a5-848f917d5610",
   "metadata": {},
   "outputs": [],
   "source": [
    "n_examples = 3\n",
    "celltype = 11\n",
    "\n",
    "#restr = Roi & (CelltypeAssignment & f\"celltype={celltype}\")\n",
    "\n",
    "np.random.seed(42)\n",
    "\n",
    "keys_qfilt_rf = dict()\n",
    "for mouseline in ['Bl6', 'rd10']:\n",
    "    keys_qfilt_rf[mouseline] = dict()\n",
    "    for age in ['P30', 'P45', 'P90']:\n",
    "        keys = qifiltered_rf_df.keys()\n",
    "        if len(keys) > n_examples:\n",
    "            keys_qfilt_rf[mouseline][age] = np.random.choice(keys, n_examples, replace=False)\n",
    "        else:\n",
    "            keys_qfilt_rf[mouseline][age] = keys\n",
    "            \n",
    "        #for k in keys:\n",
    "        #   if (rf_db.Roi & k).fetch1('roi_size') != (Roi & k).fetch1('roi_size'):\n",
    "        #       print(k)\n",
    "                \n",
    "            assert len(qfilt_rf_tab & k) == 1"
   ]
  },
  {
   "cell_type": "code",
   "execution_count": 24,
   "id": "275c8e92-d7e0-4233-8aa7-685b3266a4ab",
   "metadata": {},
   "outputs": [],
   "source": [
    "ages = ['P30', 'P45', 'P90']\n",
    "mouselines = ['Bl6', 'rd10']\n",
    "\n",
    "ml2col = {\n",
    "    'Bl6': 'dimgray',\n",
    "    'rd10': 'magenta',\n",
    "}"
   ]
  },
  {
   "cell_type": "markdown",
   "id": "0e04f63e-477b-4755-a774-19ac2baa2a61",
   "metadata": {},
   "source": [
    "### Load dataframe"
   ]
  },
  {
   "cell_type": "code",
   "execution_count": 28,
   "id": "e01d8834-b13c-4447-a5e3-91d6fc6ce10d",
   "metadata": {},
   "outputs": [],
   "source": [
    "file_path = '/gpfs01/euler/User/ndyszkant/PhD/Manuscript/Functional diversity rd10/Figures/submission/data/example_RFs_G11.pkl'\n",
    "G11_example_df = pd.read_pickle(file_path)  "
   ]
  },
  {
   "cell_type": "code",
   "execution_count": 44,
   "id": "5fa7ba08-33fa-444c-bd71-ef471e487e45",
   "metadata": {},
   "outputs": [
    {
     "data": {
      "image/png": "[encoded data removed]",
      "text/plain": [
       "<Figure size 700x210 with 36 Axes>"
      ]
     },
     "metadata": {},
     "output_type": "display_data"
    }
   ],
   "source": [
    "plt.rcParams['font.family'] = 'Arial'\n",
    "fontsize = 10\n",
    "\n",
    "fig, axs = plt.subplots(nrows=len(ages), ncols=2 * len(mouselines) * n_examples,\n",
    "                        figsize=(7, 2.1), width_ratios=(1.3, 1) * 6)\n",
    "\n",
    "fig.suptitle('G' + str(celltype), y=0.8, va='bottom')\n",
    "\n",
    "\n",
    "# Iterate through the DataFrame for plotting\n",
    "           \n",
    "for i, mouseline in enumerate(mouselines):\n",
    "    for j, age in enumerate(ages):\n",
    "        axs[j, 0].set_ylabel(age, rotation=0, labelpad=20, va='center', fontsize=fontsize)\n",
    "        for k in range(n_examples):\n",
    "            ax_srf = axs[j, (k * 2) + (i * n_examples * 2)]\n",
    "            ax_trf = axs[j, (k * 2) + (i * n_examples * 2) + 1]\n",
    "                    # Turn off unused axes in the grid\n",
    "        # Turn off unused axes while keeping the frames for sRFs visible\n",
    "        for ax_row in axs:\n",
    "            for ax in ax_row:\n",
    "                if not ax.has_data():  # Check if the axis has any plotted data\n",
    "                    ax.set_xticks([])  # Remove x-axis ticks\n",
    "                    ax.set_yticks([])  # Remove y-axis ticks\n",
    "                    ax.set_xlabel('')  # Remove x-axis label\n",
    "                    ax.set_ylabel('')  # Remove y-axis label\n",
    "\n",
    "            if k >= len(keys_qfilt_rf[mouseline][age]):\n",
    "                ax_srf.axis('off')\n",
    "                ax_trf.axis('off')\n",
    "        \n",
    "                continue\n",
    "                    \n",
    "            else:\n",
    "                key = keys_qfilt_rf[mouseline][age][k]\n",
    "        # Filter DataFrame for current mouseline and age\n",
    "        subset = G11_example_df[(G11_example_df['mouseline'] == mouseline) & (G11_example_df['age'] == age)]\n",
    "        \n",
    "        for k, row in enumerate(subset.itertuples()):\n",
    "            if k >= n_examples:\n",
    "                break\n",
    "            \n",
    "            ax_srf = axs[j, (k * 2) + (i * n_examples * 2)]\n",
    "            ax_trf = axs[j, (k * 2) + (i * n_examples * 2) + 1]\n",
    "\n",
    "            # Plot the srf\n",
    "            ax_srf.set(xticks=[], yticks=[])\n",
    "            plot_rf_utils.plot_srf_gauss_fit(ax=ax_srf, srf=row.srf, srf_params=row.srf_params, vabsmax=row.vabsmax, ms=0)\n",
    "\n",
    "            # Plot the trf\n",
    "            ax_trf.axis('off')\n",
    "            ax_trf.fill_between(row.rf_time, row.trf, np.zeros_like(row.trf), fc=ml2col[mouseline], ec='none', alpha=0.5)\n",
    "            ax_trf.plot(row.rf_time, row.trf, c='k')\n",
    "            ax_trf.axvline(0, c='dimgray', ls=(1, (1, 1)))\n",
    "\n",
    "\n",
    "\n",
    "\n",
    "plt.tight_layout(w_pad=1.1, h_pad=0.3, rect=(0, 0, 1, 1))\n",
    "    \n",
    "for ax_col in axs[:, ::2]:\n",
    "    for ax in ax_col:\n",
    "        pos1 = ax.get_position()\n",
    "        pos2 = [pos1.x0 + 0.015, pos1.y0, pos1.width, pos1.height]\n",
    "        ax.set_position(pos2)\n",
    "        \n",
    "for ax in axs[:, :len(mouselines) * n_examples].flat:\n",
    "    pos1 = ax.get_position()\n",
    "    pos2 = [pos1.x0 - 0.02, pos1.y0, pos1.width, pos1.height]\n",
    "    ax.set_position(pos2)\n",
    "        \n",
    "y_min = np.min([ax.get_ylim()[0] for ax in axs[:, 1::2].flat])\n",
    "y_max = np.max([ax.get_ylim()[1] for ax in axs[:, 1::2].flat])\n",
    "for ax in axs[:, 1::2].flat:\n",
    "    ax.set_ylim((y_min, y_max))\n",
    "\n",
    "# Remove empty axes completely (including their frames)\n",
    "for ax_row in axs:\n",
    "    for ax in ax_row:\n",
    "        if not ax.has_data():  # Check if the axis has any plotted data\n",
    "            ax.axis('off')  # Completely turn off the empty axis\n"
   ]
  },
  {
   "cell_type": "markdown",
   "id": "a4edb70e-8066-497a-90d6-d87e787de6a8",
   "metadata": {},
   "source": [
    "# --------------------------------------------------------------------"
   ]
  },
  {
   "cell_type": "markdown",
   "id": "d2b01707-b802-4bff-809c-4bc2f655e5b0",
   "metadata": {},
   "source": [
    "# Plot panel B and C"
   ]
  },
  {
   "cell_type": "code",
   "execution_count": 10,
   "id": "50a24671-a8fd-4e8b-a1df-bdc78400d557",
   "metadata": {},
   "outputs": [
    {
     "data": {
      "text/html": [
       "<div>\n",
       "<style scoped>\n",
       "    .dataframe tbody tr th:only-of-type {\n",
       "        vertical-align: middle;\n",
       "    }\n",
       "\n",
       "    .dataframe tbody tr th {\n",
       "        vertical-align: top;\n",
       "    }\n",
       "\n",
       "    .dataframe thead th {\n",
       "        text-align: right;\n",
       "    }\n",
       "</style>\n",
       "<table border=\"1\" class=\"dataframe\">\n",
       "  <thead>\n",
       "    <tr style=\"text-align: right;\">\n",
       "      <th></th>\n",
       "      <th>celltype</th>\n",
       "      <th>genline</th>\n",
       "      <th>age</th>\n",
       "      <th>rf_size</th>\n",
       "      <th>lag</th>\n",
       "    </tr>\n",
       "  </thead>\n",
       "  <tbody>\n",
       "    <tr>\n",
       "      <th>(Dyszkant, 2022-08-05, 2, 1, GCL3, RR, shifty, control, 40, 1, 2, 1, 1)</th>\n",
       "      <td>11</td>\n",
       "      <td>Bl6</td>\n",
       "      <td>P180</td>\n",
       "      <td>108.9330</td>\n",
       "      <td>0.096698</td>\n",
       "    </tr>\n",
       "    <tr>\n",
       "      <th>(Dyszkant, 2022-10-14, 2, 1, GCL1, RR, shifty, control, 55, 1, 2, 1, 1)</th>\n",
       "      <td>11</td>\n",
       "      <td>Bl6</td>\n",
       "      <td>P90</td>\n",
       "      <td>153.5250</td>\n",
       "      <td>0.145946</td>\n",
       "    </tr>\n",
       "    <tr>\n",
       "      <th>(Dyszkant, 2022-10-14, 2, 1, GCL1, RR, shifty, control, 56, 1, 2, 1, 1)</th>\n",
       "      <td>11</td>\n",
       "      <td>Bl6</td>\n",
       "      <td>P90</td>\n",
       "      <td>161.9070</td>\n",
       "      <td>0.142346</td>\n",
       "    </tr>\n",
       "    <tr>\n",
       "      <th>(Dyszkant, 2022-10-14, 2, 1, GCL2, RR, shifty, control, 70, 1, 2, 1, 1)</th>\n",
       "      <td>11</td>\n",
       "      <td>Bl6</td>\n",
       "      <td>P90</td>\n",
       "      <td>96.9296</td>\n",
       "      <td>0.115498</td>\n",
       "    </tr>\n",
       "    <tr>\n",
       "      <th>(Dyszkant, 2023-03-22, 1, 1, GCL1, LR, shifty, control, 36, 1, 2, 1, 1)</th>\n",
       "      <td>11</td>\n",
       "      <td>Bl6</td>\n",
       "      <td>P180</td>\n",
       "      <td>128.4270</td>\n",
       "      <td>0.149746</td>\n",
       "    </tr>\n",
       "  </tbody>\n",
       "</table>\n",
       "</div>"
      ],
      "text/plain": [
       "                                                   celltype genline   age  \\\n",
       "(Dyszkant, 2022-08-05, 2, 1, GCL3, RR, shifty, ...       11     Bl6  P180   \n",
       "(Dyszkant, 2022-10-14, 2, 1, GCL1, RR, shifty, ...       11     Bl6   P90   \n",
       "(Dyszkant, 2022-10-14, 2, 1, GCL1, RR, shifty, ...       11     Bl6   P90   \n",
       "(Dyszkant, 2022-10-14, 2, 1, GCL2, RR, shifty, ...       11     Bl6   P90   \n",
       "(Dyszkant, 2023-03-22, 1, 1, GCL1, LR, shifty, ...       11     Bl6  P180   \n",
       "\n",
       "                                                     rf_size       lag  \n",
       "(Dyszkant, 2022-08-05, 2, 1, GCL3, RR, shifty, ...  108.9330  0.096698  \n",
       "(Dyszkant, 2022-10-14, 2, 1, GCL1, RR, shifty, ...  153.5250  0.145946  \n",
       "(Dyszkant, 2022-10-14, 2, 1, GCL1, RR, shifty, ...  161.9070  0.142346  \n",
       "(Dyszkant, 2022-10-14, 2, 1, GCL2, RR, shifty, ...   96.9296  0.115498  \n",
       "(Dyszkant, 2023-03-22, 1, 1, GCL1, LR, shifty, ...  128.4270  0.149746  "
      ]
     },
     "execution_count": 10,
     "metadata": {},
     "output_type": "execute_result"
    }
   ],
   "source": [
    "use_really_all = True\n",
    "\n",
    "filtered_df = all_rf_df.copy()\n",
    "\n",
    "# Filter cell types for P30 with at least 5 cells in both genlines\n",
    "p30_data = filtered_df[filtered_df['age'] == 'P30']\n",
    "celltype_counts = p30_data.groupby(['celltype', 'genline']).size().unstack(fill_value=0)\n",
    "valid_celltypes = celltype_counts[(celltype_counts['Bl6'] >= 4) & (celltype_counts['rd10'] >= 4)].index\n",
    "\n",
    "filtered_df = filtered_df[filtered_df['celltype'].isin(valid_celltypes)]\n",
    "\n",
    "if use_really_all:\n",
    "    filtered_df_all_types = all_rf_df.copy()\n",
    "else:\n",
    "    filtered_df_all_types = filtered_df.copy()\n",
    "    \n",
    "filtered_df_all_types['celltype'] = 'all'\n",
    "\n",
    "plot_df = pd.concat([filtered_df, filtered_df_all_types])\n",
    "plot_df.celltype = plot_df.celltype.astype(str)\n",
    "plot_df.head()"
   ]
  },
  {
   "cell_type": "code",
   "execution_count": 11,
   "id": "b0e0cef5-d753-4f97-a13c-4dc44b38de4f",
   "metadata": {},
   "outputs": [],
   "source": [
    "ages = ['P30', 'P45', 'P90']\n",
    "ys = ['rf_size', 'lag']\n",
    "celltypes = filtered_df.celltype.unique().astype(str)\n",
    "order = np.append(np.append(celltypes, ' '), 'all')\n",
    "custom_palette = {'Bl6': 'white', 'rd10': 'magenta'}\n",
    "y2name = dict(rf_size='RF centre size [µm]', lag='Main peak lag [s]')"
   ]
  },
  {
   "cell_type": "code",
   "execution_count": 12,
   "id": "07b854a8-2168-45ae-85d2-01e7d7c49143",
   "metadata": {},
   "outputs": [],
   "source": [
    "from scipy.stats import mannwhitneyu\n",
    "\n",
    "# Do statistic\n",
    "pvals = np.full((len(ys), len(ages), len(celltypes)), np.nan)\n",
    "pvals_all = np.full((len(ys), len(ages),), np.nan)\n",
    "\n",
    "for k, y in enumerate(ys):\n",
    "    for i, age in enumerate(ages):\n",
    "        age_df = plot_df[(plot_df.age==age)]\n",
    "        pvals_all[k, i] = test(age_df[(age_df.genline=='Bl6') & (age_df.celltype=='all')][y], age_df[(age_df.genline=='rd10') & (age_df.celltype=='all')][y])\n",
    "\n",
    "        for j, celltype in enumerate(celltypes):\n",
    "            pvals[k, i, j] = test(age_df[(age_df.genline=='Bl6') & (age_df.celltype==celltype)][y], age_df[(age_df.genline=='rd10') & (age_df.celltype==celltype)][y])\n",
    "                \n",
    "# Correct p_values\n",
    "pvals_corrected = pvals.copy()\n",
    "for k, y in enumerate(ys):\n",
    "    for i, age in enumerate(ages):        \n",
    "        pvals_corrected[k, i, :] = correct_p_values(pvals[k, i, :])"
   ]
  },
  {
   "cell_type": "code",
   "execution_count": 13,
   "id": "48abaa0e-860b-4f9d-8754-16ab526c3ec1",
   "metadata": {},
   "outputs": [
    {
     "name": "stderr",
     "output_type": "stream",
     "text": [
      "/gpfs01/euler/User/ndyszkant/.local/lib/python3.10/site-packages/seaborn/categorical.py:1143: FutureWarning: elementwise comparison failed; returning scalar instead, but in the future will perform elementwise comparison\n",
      "  hue_mask = self.plot_hues[i] == hue_level\n",
      "/gpfs01/euler/User/ndyszkant/.local/lib/python3.10/site-packages/seaborn/categorical.py:1143: FutureWarning: elementwise comparison failed; returning scalar instead, but in the future will perform elementwise comparison\n",
      "  hue_mask = self.plot_hues[i] == hue_level\n"
     ]
    },
    {
     "name": "stdout",
     "output_type": "stream",
     "text": [
      "   celltype genline  age     rf_size       lag\n",
      "0        11     Bl6  P30  124.212667  0.129367\n",
      "1        11    rd10  P30  117.841500  0.083235\n",
      "2        14     Bl6  P30  143.945400  0.129881\n",
      "3        14    rd10  P30  109.529033  0.102520\n",
      "4        17     Bl6  P30  118.289453  0.119070\n",
      "5        17    rd10  P30  116.607012  0.120191\n",
      "6        18     Bl6  P30  139.229857  0.091655\n",
      "7        18    rd10  P30  130.538512  0.086560\n",
      "8        20     Bl6  P30  119.610800  0.121131\n",
      "9        20    rd10  P30  126.385500  0.086635\n",
      "10       21     Bl6  P30  106.308575  0.150096\n",
      "11       21    rd10  P30  121.817560  0.136306\n",
      "12       22     Bl6  P30  132.873482  0.113865\n",
      "13       22    rd10  P30  114.766329  0.118782\n",
      "14       23     Bl6  P30  137.425125  0.100317\n",
      "15       23    rd10  P30  117.534262  0.123140\n",
      "16       31     Bl6  P30  125.962955  0.126204\n",
      "17       31    rd10  P30  119.997267  0.126538\n",
      "18       32     Bl6  P30  122.188092  0.127652\n",
      "19       32    rd10  P30  121.566557  0.130283\n",
      "20      all     Bl6  P30  126.924494  0.124398\n",
      "21      all    rd10  P30  120.182808  0.121958\n"
     ]
    },
    {
     "name": "stderr",
     "output_type": "stream",
     "text": [
      "/gpfs01/euler/User/ndyszkant/.local/lib/python3.10/site-packages/seaborn/categorical.py:1143: FutureWarning: elementwise comparison failed; returning scalar instead, but in the future will perform elementwise comparison\n",
      "  hue_mask = self.plot_hues[i] == hue_level\n",
      "/gpfs01/euler/User/ndyszkant/.local/lib/python3.10/site-packages/seaborn/categorical.py:1143: FutureWarning: elementwise comparison failed; returning scalar instead, but in the future will perform elementwise comparison\n",
      "  hue_mask = self.plot_hues[i] == hue_level\n"
     ]
    },
    {
     "name": "stdout",
     "output_type": "stream",
     "text": [
      "   celltype genline  age     rf_size       lag\n",
      "0        11     Bl6  P45  117.425300  0.131528\n",
      "1        11    rd10  P45  109.920000  0.113380\n",
      "2        14     Bl6  P45  111.089218  0.137356\n",
      "3        14    rd10  P45  118.116083  0.097395\n",
      "4        17     Bl6  P45  122.008270  0.130427\n",
      "5        17    rd10  P45  114.718085  0.110063\n",
      "6        18     Bl6  P45  144.634700  0.140097\n",
      "7        18    rd10  P45  123.740763  0.074267\n",
      "8        20     Bl6  P45  133.975333  0.183180\n",
      "9        20    rd10  P45  134.979286  0.068579\n",
      "10       21     Bl6  P45  105.484200  0.075258\n",
      "11       21    rd10  P45  123.984269  0.091113\n",
      "12       22     Bl6  P45  135.520377  0.109032\n",
      "13       22    rd10  P45  116.499429  0.102284\n",
      "14       23     Bl6  P45  138.957417  0.103114\n",
      "15       23    rd10  P45  122.743690  0.086733\n",
      "16       31     Bl6  P45  118.487531  0.125898\n",
      "17       31    rd10  P45  115.304739  0.117133\n",
      "18       32     Bl6  P45  120.652099  0.123308\n",
      "19       32    rd10  P45  113.803257  0.120802\n",
      "20      all     Bl6  P45  122.499355  0.125638\n",
      "21      all    rd10  P45  117.236777  0.112758\n"
     ]
    },
    {
     "name": "stderr",
     "output_type": "stream",
     "text": [
      "/gpfs01/euler/User/ndyszkant/.local/lib/python3.10/site-packages/seaborn/categorical.py:1143: FutureWarning: elementwise comparison failed; returning scalar instead, but in the future will perform elementwise comparison\n",
      "  hue_mask = self.plot_hues[i] == hue_level\n",
      "/gpfs01/euler/User/ndyszkant/.local/lib/python3.10/site-packages/seaborn/categorical.py:1143: FutureWarning: elementwise comparison failed; returning scalar instead, but in the future will perform elementwise comparison\n",
      "  hue_mask = self.plot_hues[i] == hue_level\n"
     ]
    },
    {
     "name": "stdout",
     "output_type": "stream",
     "text": [
      "   celltype genline  age     rf_size       lag\n",
      "0        11     Bl6  P90  132.124873  0.115389\n",
      "1        14     Bl6  P90  135.485667  0.121345\n",
      "2        14    rd10  P90  107.003000  0.022400\n",
      "3        17     Bl6  P90  110.706392  0.126015\n",
      "4        17    rd10  P90  130.407000  0.113409\n",
      "5        18     Bl6  P90  147.028286  0.086934\n",
      "6        18    rd10  P90  143.590750  0.098147\n",
      "7        20     Bl6  P90  128.899500  0.061048\n",
      "8        20    rd10  P90  132.676000  0.078173\n",
      "9        21     Bl6  P90  116.492500  0.209500\n",
      "10       21    rd10  P90   99.129950  0.139584\n",
      "11       22     Bl6  P90  144.936552  0.108160\n",
      "12       22    rd10  P90  139.094300  0.142334\n",
      "13       23     Bl6  P90  113.729458  0.071519\n",
      "14       23    rd10  P90  130.589333  0.112047\n",
      "15       31     Bl6  P90  124.255421  0.121926\n",
      "16       31    rd10  P90  122.379142  0.139684\n",
      "17       32     Bl6  P90  133.958012  0.133698\n",
      "18       32    rd10  P90  126.987300  0.145261\n",
      "19      all     Bl6  P90  129.199120  0.119632\n",
      "20      all    rd10  P90  128.581106  0.124083\n"
     ]
    },
    {
     "name": "stderr",
     "output_type": "stream",
     "text": [
      "/gpfs01/euler/User/ndyszkant/.local/lib/python3.10/site-packages/seaborn/categorical.py:1143: FutureWarning: elementwise comparison failed; returning scalar instead, but in the future will perform elementwise comparison\n",
      "  hue_mask = self.plot_hues[i] == hue_level\n",
      "/gpfs01/euler/User/ndyszkant/.local/lib/python3.10/site-packages/seaborn/categorical.py:1143: FutureWarning: elementwise comparison failed; returning scalar instead, but in the future will perform elementwise comparison\n",
      "  hue_mask = self.plot_hues[i] == hue_level\n"
     ]
    },
    {
     "name": "stdout",
     "output_type": "stream",
     "text": [
      "   celltype genline  age     rf_size       lag\n",
      "0        11     Bl6  P30  124.212667  0.129367\n",
      "1        11    rd10  P30  117.841500  0.083235\n",
      "2        14     Bl6  P30  143.945400  0.129881\n",
      "3        14    rd10  P30  109.529033  0.102520\n",
      "4        17     Bl6  P30  118.289453  0.119070\n",
      "5        17    rd10  P30  116.607012  0.120191\n",
      "6        18     Bl6  P30  139.229857  0.091655\n",
      "7        18    rd10  P30  130.538512  0.086560\n",
      "8        20     Bl6  P30  119.610800  0.121131\n",
      "9        20    rd10  P30  126.385500  0.086635\n",
      "10       21     Bl6  P30  106.308575  0.150096\n",
      "11       21    rd10  P30  121.817560  0.136306\n",
      "12       22     Bl6  P30  132.873482  0.113865\n",
      "13       22    rd10  P30  114.766329  0.118782\n",
      "14       23     Bl6  P30  137.425125  0.100317\n",
      "15       23    rd10  P30  117.534262  0.123140\n",
      "16       31     Bl6  P30  125.962955  0.126204\n",
      "17       31    rd10  P30  119.997267  0.126538\n",
      "18       32     Bl6  P30  122.188092  0.127652\n",
      "19       32    rd10  P30  121.566557  0.130283\n",
      "20      all     Bl6  P30  126.924494  0.124398\n",
      "21      all    rd10  P30  120.182808  0.121958\n"
     ]
    },
    {
     "name": "stderr",
     "output_type": "stream",
     "text": [
      "/gpfs01/euler/User/ndyszkant/.local/lib/python3.10/site-packages/seaborn/categorical.py:1143: FutureWarning: elementwise comparison failed; returning scalar instead, but in the future will perform elementwise comparison\n",
      "  hue_mask = self.plot_hues[i] == hue_level\n",
      "/gpfs01/euler/User/ndyszkant/.local/lib/python3.10/site-packages/seaborn/categorical.py:1143: FutureWarning: elementwise comparison failed; returning scalar instead, but in the future will perform elementwise comparison\n",
      "  hue_mask = self.plot_hues[i] == hue_level\n"
     ]
    },
    {
     "name": "stdout",
     "output_type": "stream",
     "text": [
      "   celltype genline  age     rf_size       lag\n",
      "0        11     Bl6  P45  117.425300  0.131528\n",
      "1        11    rd10  P45  109.920000  0.113380\n",
      "2        14     Bl6  P45  111.089218  0.137356\n",
      "3        14    rd10  P45  118.116083  0.097395\n",
      "4        17     Bl6  P45  122.008270  0.130427\n",
      "5        17    rd10  P45  114.718085  0.110063\n",
      "6        18     Bl6  P45  144.634700  0.140097\n",
      "7        18    rd10  P45  123.740763  0.074267\n",
      "8        20     Bl6  P45  133.975333  0.183180\n",
      "9        20    rd10  P45  134.979286  0.068579\n",
      "10       21     Bl6  P45  105.484200  0.075258\n",
      "11       21    rd10  P45  123.984269  0.091113\n",
      "12       22     Bl6  P45  135.520377  0.109032\n",
      "13       22    rd10  P45  116.499429  0.102284\n",
      "14       23     Bl6  P45  138.957417  0.103114\n",
      "15       23    rd10  P45  122.743690  0.086733\n",
      "16       31     Bl6  P45  118.487531  0.125898\n",
      "17       31    rd10  P45  115.304739  0.117133\n",
      "18       32     Bl6  P45  120.652099  0.123308\n",
      "19       32    rd10  P45  113.803257  0.120802\n",
      "20      all     Bl6  P45  122.499355  0.125638\n",
      "21      all    rd10  P45  117.236777  0.112758\n"
     ]
    },
    {
     "name": "stderr",
     "output_type": "stream",
     "text": [
      "/gpfs01/euler/User/ndyszkant/.local/lib/python3.10/site-packages/seaborn/categorical.py:1143: FutureWarning: elementwise comparison failed; returning scalar instead, but in the future will perform elementwise comparison\n",
      "  hue_mask = self.plot_hues[i] == hue_level\n",
      "/gpfs01/euler/User/ndyszkant/.local/lib/python3.10/site-packages/seaborn/categorical.py:1143: FutureWarning: elementwise comparison failed; returning scalar instead, but in the future will perform elementwise comparison\n",
      "  hue_mask = self.plot_hues[i] == hue_level\n"
     ]
    },
    {
     "name": "stdout",
     "output_type": "stream",
     "text": [
      "   celltype genline  age     rf_size       lag\n",
      "0        11     Bl6  P90  132.124873  0.115389\n",
      "1        14     Bl6  P90  135.485667  0.121345\n",
      "2        14    rd10  P90  107.003000  0.022400\n",
      "3        17     Bl6  P90  110.706392  0.126015\n",
      "4        17    rd10  P90  130.407000  0.113409\n",
      "5        18     Bl6  P90  147.028286  0.086934\n",
      "6        18    rd10  P90  143.590750  0.098147\n",
      "7        20     Bl6  P90  128.899500  0.061048\n",
      "8        20    rd10  P90  132.676000  0.078173\n",
      "9        21     Bl6  P90  116.492500  0.209500\n",
      "10       21    rd10  P90   99.129950  0.139584\n",
      "11       22     Bl6  P90  144.936552  0.108160\n",
      "12       22    rd10  P90  139.094300  0.142334\n",
      "13       23     Bl6  P90  113.729458  0.071519\n",
      "14       23    rd10  P90  130.589333  0.112047\n",
      "15       31     Bl6  P90  124.255421  0.121926\n",
      "16       31    rd10  P90  122.379142  0.139684\n",
      "17       32     Bl6  P90  133.958012  0.133698\n",
      "18       32    rd10  P90  126.987300  0.145261\n",
      "19      all     Bl6  P90  129.199120  0.119632\n",
      "20      all    rd10  P90  128.581106  0.124083\n"
     ]
    },
    {
     "data": {
      "image/png": "[encoded data removed]",
      "text/plain": [
       "<Figure size 700x250 with 6 Axes>"
      ]
     },
     "metadata": {},
     "output_type": "display_data"
    }
   ],
   "source": [
    "fig, axs = plt.subplots(len(ages), 2, figsize=(7, 2.5), sharex='all', sharey='col')\n",
    "sns.despine(bottom=True)\n",
    "\n",
    "for k, y in enumerate(ys):\n",
    "    y_max = plot_df[y].max()\n",
    "    for i, age in enumerate(ages):\n",
    "        age_df = plot_df[plot_df.age==age]\n",
    "        ax = axs[i, k]\n",
    "        sns.barplot(ax=ax, data=age_df, x='celltype', y=y, hue='genline', palette=custom_palette, edgecolor=\"dimgray\", clip_on=False, order=order, ci=None)\n",
    "        sns.stripplot(ax=ax, data=age_df, x='celltype', y=y, hue='genline', s=2, marker='.', dodge=True, color='k', order=order, alpha=0.7) # palette=custom_palette\n",
    "    \n",
    "        for j, celltype in enumerate(celltypes):\n",
    "            ax.text(j, y_max, map_p_to_star(pvals_corrected[k, i, j]), verticalalignment='center', horizontalalignment='center')\n",
    "            \n",
    "        ax.text(len(order)-1, y_max, map_p_to_star(pvals_all[k, i]), verticalalignment='center', horizontalalignment='center')\n",
    "\n",
    "        mean_values = age_df.groupby(['celltype', 'genline','age']).agg({\n",
    "        'rf_size': 'mean',\n",
    "        'lag': 'mean'\n",
    "        }).reset_index()\n",
    "    \n",
    "    \n",
    "        print(mean_values)\n",
    "\n",
    "    # remove all but central label\n",
    "    for ax in axs[:, k]:\n",
    "        ax.set_ylabel('')\n",
    "    axs[len(ages)//2, k].set_ylabel(y2name[y])\n",
    "    \n",
    "for ax in axs.flat:\n",
    "    ax.tick_params(axis='x', which='both', length=0)\n",
    "    \n",
    "for ax in axs.flat:\n",
    "    ax.set_xlabel(None)\n",
    "    ax.legend().set_visible(False)        \n",
    "    \n",
    "plt.tight_layout(w_pad=6, h_pad=1)  # Adjust spacing\n",
    "#plt.savefig('figures/RF_analysis.pdf')"
   ]
  },
  {
   "cell_type": "markdown",
   "id": "71459347-2e9f-45c6-b699-8374f68c0ea8",
   "metadata": {},
   "source": [
    "## Print p-values"
   ]
  },
  {
   "cell_type": "code",
   "execution_count": 14,
   "id": "12e461c7-c892-4e9f-8bd0-749d83866f4f",
   "metadata": {},
   "outputs": [
    {
     "name": "stdout",
     "output_type": "stream",
     "text": [
      "[[[0.81128748 0.06233035 0.81128748 0.81128748 0.81128748 0.81128748\n",
      "   0.18439544 0.58624709 0.15420897 0.85744349]\n",
      "  [       nan 0.66047188 0.33803392 0.33803392        nan 0.33803392\n",
      "   0.1822038  0.33803392 0.33803392 0.1822038 ]\n",
      "  [       nan        nan 0.08092562 1.                nan        nan\n",
      "   0.99734748 0.53910795 0.99734748 0.99734748]]\n",
      "\n",
      " [[0.15873016 0.23541594 0.77886558 0.77886558 0.58956916 0.15873016\n",
      "   0.77886558 0.41274641 0.3241019  0.20223867]\n",
      "  [       nan 0.12514544 0.00815352 0.10902067        nan 0.92413632\n",
      "   0.5699042  0.11342114 0.10404367 0.75525903]\n",
      "  [       nan        nan 0.50434611 0.64848485        nan        nan\n",
      "   0.40638289 0.20038785 0.42301106 0.20038785]]]\n"
     ]
    }
   ],
   "source": [
    "print(pvals_corrected)"
   ]
  },
  {
   "cell_type": "code",
   "execution_count": 15,
   "id": "04b9ee41-1c77-4157-b185-b5acb72c8d7c",
   "metadata": {},
   "outputs": [
    {
     "name": "stdout",
     "output_type": "stream",
     "text": [
      "[[1.44140396e-03 1.33439394e-02 8.29149397e-01]\n",
      " [6.16595830e-01 3.83824131e-08 4.09665005e-01]]\n"
     ]
    }
   ],
   "source": [
    "print(pvals_all)"
   ]
  },
  {
   "cell_type": "markdown",
   "id": "45efe2dc-2dde-4398-9a84-88db983fb827",
   "metadata": {},
   "source": [
    "# --------------------------------------------------------------------"
   ]
  },
  {
   "cell_type": "markdown",
   "id": "884a7a27-f5fc-4807-8983-b88b87f7213a",
   "metadata": {},
   "source": [
    "## Print n"
   ]
  },
  {
   "cell_type": "code",
   "execution_count": 16,
   "id": "a47f8814-ecdf-4cf3-a8c7-962025cc4f16",
   "metadata": {},
   "outputs": [
    {
     "name": "stdout",
     "output_type": "stream",
     "text": [
      "   genline celltype  n_cells\n",
      "0      Bl6       11       12\n",
      "1      Bl6       14       10\n",
      "2      Bl6       17       19\n",
      "3      Bl6       18        7\n",
      "4      Bl6       20        5\n",
      "5      Bl6       21        4\n",
      "6      Bl6       22       17\n",
      "7      Bl6       23        8\n",
      "8      Bl6       31      111\n",
      "9      Bl6       32       93\n",
      "10     Bl6      all      353\n",
      "11    rd10       11        4\n",
      "12    rd10       14        9\n",
      "13    rd10       17       25\n",
      "14    rd10       18        8\n",
      "15    rd10       20        4\n",
      "16    rd10       21        5\n",
      "17    rd10       22        7\n",
      "18    rd10       23        8\n",
      "19    rd10       31       63\n",
      "20    rd10       32       30\n",
      "21    rd10      all      185\n"
     ]
    }
   ],
   "source": [
    "# Filter for P30 only\n",
    "p30_df = plot_df[plot_df['age'] == 'P30']\n",
    "\n",
    "# Group by genline and celltype, then count the number of cells\n",
    "p30_cell_count = p30_df.groupby(['genline', 'celltype'])['rf_size'].count().reset_index()\n",
    "\n",
    "# Rename the column to 'n_cells'\n",
    "p30_cell_count.rename(columns={'rf_size': 'n_cells'}, inplace=True)\n",
    "\n",
    "# Display the resulting DataFrame\n",
    "print(p30_cell_count)\n"
   ]
  },
  {
   "cell_type": "code",
   "execution_count": 17,
   "id": "24bedf7e-5e29-4ca7-93df-a3950b639772",
   "metadata": {},
   "outputs": [
    {
     "name": "stdout",
     "output_type": "stream",
     "text": [
      "   genline celltype  n_cells\n",
      "0      Bl6       11       13\n",
      "1      Bl6       14       11\n",
      "2      Bl6       17       27\n",
      "3      Bl6       18       11\n",
      "4      Bl6       20        3\n",
      "5      Bl6       21        5\n",
      "6      Bl6       22       30\n",
      "7      Bl6       23       12\n",
      "8      Bl6       31       52\n",
      "9      Bl6       32       97\n",
      "10     Bl6      all      372\n",
      "11    rd10       11        3\n",
      "12    rd10       14        6\n",
      "13    rd10       17       46\n",
      "14    rd10       18        8\n",
      "15    rd10       20       14\n",
      "16    rd10       21       13\n",
      "17    rd10       22       28\n",
      "18    rd10       23       29\n",
      "19    rd10       31      139\n",
      "20    rd10       32      162\n",
      "21    rd10      all      507\n"
     ]
    }
   ],
   "source": [
    "# Filter for P30 only\n",
    "p30_df = plot_df[plot_df['age'] == 'P45']\n",
    "\n",
    "# Group by genline and celltype, then count the number of cells\n",
    "p30_cell_count = p30_df.groupby(['genline', 'celltype'])['rf_size'].count().reset_index()\n",
    "\n",
    "# Rename the column to 'n_cells'\n",
    "p30_cell_count.rename(columns={'rf_size': 'n_cells'}, inplace=True)\n",
    "\n",
    "# Display the resulting DataFrame\n",
    "print(p30_cell_count)\n"
   ]
  },
  {
   "cell_type": "code",
   "execution_count": 18,
   "id": "5d1a12a6-70a0-452e-b620-21dc29b1355c",
   "metadata": {},
   "outputs": [
    {
     "name": "stdout",
     "output_type": "stream",
     "text": [
      "   genline celltype  n_cells\n",
      "0      Bl6       11       11\n",
      "1      Bl6       14        9\n",
      "2      Bl6       17       25\n",
      "3      Bl6       18        7\n",
      "4      Bl6       20        2\n",
      "5      Bl6       21        2\n",
      "6      Bl6       22       25\n",
      "7      Bl6       23       12\n",
      "8      Bl6       31       70\n",
      "9      Bl6       32       24\n",
      "10     Bl6      all      263\n",
      "11    rd10       14        1\n",
      "12    rd10       17        8\n",
      "13    rd10       18        4\n",
      "14    rd10       20        2\n",
      "15    rd10       21        4\n",
      "16    rd10       22        4\n",
      "17    rd10       23        6\n",
      "18    rd10       31       12\n",
      "19    rd10       32       10\n",
      "20    rd10      all       63\n"
     ]
    }
   ],
   "source": [
    "# Filter for P30 only\n",
    "p30_df = plot_df[plot_df['age'] == 'P90']\n",
    "\n",
    "# Group by genline and celltype, then count the number of cells\n",
    "p30_cell_count = p30_df.groupby(['genline', 'celltype'])['rf_size'].count().reset_index()\n",
    "\n",
    "# Rename the column to 'n_cells'\n",
    "p30_cell_count.rename(columns={'rf_size': 'n_cells'}, inplace=True)\n",
    "\n",
    "# Display the resulting DataFrame\n",
    "print(p30_cell_count)\n"
   ]
  },
  {
   "cell_type": "code",
   "execution_count": null,
   "id": "b62899bd-657d-459a-9091-82fe67801b23",
   "metadata": {},
   "outputs": [],
   "source": []
  },
  {
   "cell_type": "code",
   "execution_count": null,
   "id": "e441cc7b-19fb-4ee5-bf97-70e5dbc0a4fd",
   "metadata": {},
   "outputs": [],
   "source": []
  }
 ],
 "metadata": {
  "kernelspec": {
   "display_name": "Python 3 (ipykernel)",
   "language": "python",
   "name": "python3"
  },
  "language_info": {
   "codemirror_mode": {
    "name": "ipython",
    "version": 3
   },
   "file_extension": ".py",
   "mimetype": "text/x-python",
   "name": "python",
   "nbconvert_exporter": "python",
   "pygments_lexer": "ipython3",
   "version": "3.10.6"
  }
 },
 "nbformat": 4,
 "nbformat_minor": 5
}
