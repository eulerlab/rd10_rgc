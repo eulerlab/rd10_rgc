{
 "cells": [
  {
   "cell_type": "markdown",
   "id": "34a06f9c-61c1-4b48-9f8d-f013a2873a16",
   "metadata": {},
   "source": [
    "# Figure 4: RGC density and responsiveness in *wild-type* and *rd10* across age"
   ]
  },
  {
   "cell_type": "markdown",
   "id": "4235b28a-8512-4304-9a4d-540d02865fc7",
   "metadata": {
    "tags": []
   },
   "source": [
    "# Imports"
   ]
  },
  {
   "cell_type": "code",
   "execution_count": 2,
   "id": "f301caad-596f-4896-95bb-a35b3a43a527",
   "metadata": {
    "ExecuteTime": {
     "end_time": "2025-01-30T14:26:28.656526Z",
     "start_time": "2025-01-30T14:26:28.593876Z"
    }
   },
   "outputs": [],
   "source": [
    "import matplotlib.pyplot as plt\n",
    "import numpy as np\n",
    "import pandas as pd\n",
    "import seaborn as sns\n",
    "from statannotations.Annotator import Annotator\n",
    "import data_plots"
   ]
  },
  {
   "cell_type": "markdown",
   "id": "85422bf0-e944-4403-818f-7f76e2fd1455",
   "metadata": {},
   "source": [
    "# --------------------------------------------------------------------"
   ]
  },
  {
   "cell_type": "markdown",
   "id": "d099cbe3-71a7-43ea-b2f7-de178a4f97a3",
   "metadata": {},
   "source": [
    "# Load data"
   ]
  },
  {
   "cell_type": "code",
   "execution_count": 84,
   "id": "97d4e7c0-dc27-4442-b2a0-13ff9acf6ce9",
   "metadata": {
    "ExecuteTime": {
     "end_time": "2025-01-30T14:42:10.556012Z",
     "start_time": "2025-01-30T14:42:09.188070Z"
    }
   },
   "outputs": [],
   "source": [
    "file_path = '../data'  # Adjust path to file if necessary\n",
    "file_name = 'rd10_all_data.h5'\n",
    "joined_path = os.path.join(file_path, file_name)\n",
    "rd10_df = pd.read_hdf(joined_path, key='df')"
   ]
  },
  {
   "cell_type": "code",
   "execution_count": 8,
   "id": "69f8d214-b09b-4cba-addb-1ad498f4a31e",
   "metadata": {
    "ExecuteTime": {
     "end_time": "2025-01-30T14:28:20.871216Z",
     "start_time": "2025-01-30T14:28:20.853544Z"
    }
   },
   "outputs": [
    {
     "data": {
      "text/plain": [
       "Index(['experimenter', 'date', 'exp_num', 'field', 'roi_id', 'preproc_chirp',\n",
       "       'preproc_bar', 'animgender', 'celltype', 'max_confidence',\n",
       "       'roi_size_um2', 'gchirp_on_off_index', 'gchirp_transience_index',\n",
       "       'bar_ds_index', 'bar_ds_pvalue', 'bar_pref_dir', 'bar_os_index',\n",
       "       'bar_os_pvalue', 'bar_pref_or', 'bar_d_qi', 'gchirp_qidx', 'animrem',\n",
       "       'genline'],\n",
       "      dtype='object')"
      ]
     },
     "execution_count": 8,
     "metadata": {},
     "output_type": "execute_result"
    }
   ],
   "source": [
    "rd10_df.keys()"
   ]
  },
  {
   "cell_type": "markdown",
   "id": "578ed344-2f40-41bd-aca7-0e7db9b2ccfb",
   "metadata": {
    "jp-MarkdownHeadingCollapsed": true
   },
   "source": [
    "# --------------------------------------------------------------------"
   ]
  },
  {
   "cell_type": "markdown",
   "id": "0b0f7fb6-f6eb-4a70-830c-819adb72cfdf",
   "metadata": {},
   "source": [
    "# Helper functions\n",
    "\n"
   ]
  },
  {
   "cell_type": "code",
   "execution_count": 9,
   "id": "5aacda21-19bd-48d5-b894-b112a2d356d5",
   "metadata": {
    "ExecuteTime": {
     "end_time": "2025-01-30T14:28:22.182765Z",
     "start_time": "2025-01-30T14:28:22.151001Z"
    }
   },
   "outputs": [],
   "source": [
    "def plot_test(ax, df, x, y, order, pairs, test=\"mann-whitney\", hue=None, hue_order=None, palette=None, marker=None,\n",
    "              ylabel=None):\n",
    "    sns.boxplot(ax=ax, data=df, x=x, y=y, fliersize=0, palette=palette, order=order, hue=hue, hue_order=hue_order)\n",
    "\n",
    "    annotator = Annotator(ax=ax, pairs=pairs, plot='boxplot', data=df, x=x, y=y, order=order, hue=hue,\n",
    "                          hue_order=hue_order)\n",
    "    annotator.configure(test=test, comparisons_correction=\"BH\" if len(order) > 2 else None,\n",
    "                        text_format='star', loc='outside', verbose=2,\n",
    "                        text_offset=-0.1, fontsize=9, line_height=0.02, line_offset=0.0, line_width=1)\n",
    "    annotator.apply_test().annotate(line_offset_to_group=0.02, line_offset=0.01)\n",
    "\n",
    "    if ylabel is not None:\n",
    "        ax.set_ylabel(ylabel)"
   ]
  },
  {
   "cell_type": "markdown",
   "id": "1432cbba-b728-43fc-9138-68f06a2e70c1",
   "metadata": {
    "jp-MarkdownHeadingCollapsed": true
   },
   "source": [
    "# --------------------------------------------------------------------"
   ]
  },
  {
   "cell_type": "markdown",
   "id": "a6bda22e-ed75-4c75-91e1-057412607bee",
   "metadata": {},
   "source": [
    "# Number of cells per age"
   ]
  },
  {
   "cell_type": "code",
   "execution_count": 10,
   "id": "29dfd10e-7c38-4715-9b22-c1c2c4d0a184",
   "metadata": {
    "ExecuteTime": {
     "end_time": "2025-01-30T14:28:24.524560Z",
     "start_time": "2025-01-30T14:28:24.399131Z"
    }
   },
   "outputs": [],
   "source": [
    "# restrict per age\n",
    "## wild-type\n",
    "all_wt_p30 = rd10_df[(rd10_df['animrem'] == 'P30') & (rd10_df['genline'] == 'Bl6')].values.shape[0]\n",
    "all_wt_p45 = rd10_df[(rd10_df['animrem'] == 'P45') & (rd10_df['genline'] == 'Bl6')].values.shape[0]\n",
    "all_wt_p90 = rd10_df[(rd10_df['animrem'] == 'P90') & (rd10_df['genline'] == 'Bl6')].values.shape[0]\n",
    "all_wt_p180 = rd10_df[(rd10_df['animrem'] == 'P180') & (rd10_df['genline'] == 'Bl6')].values.shape[0]\n",
    "all_wt = rd10_df[(rd10_df['genline'] == 'Bl6')].values.shape[0]\n",
    "\n",
    "## rd10\n",
    "all_rd_p30 = rd10_df[(rd10_df['animrem'] == 'P30') & (rd10_df['genline'] == 'rd10')].values.shape[0]\n",
    "all_rd_p45 = rd10_df[(rd10_df['animrem'] == 'P45') & (rd10_df['genline'] == 'rd10')].values.shape[0]\n",
    "all_rd_p90 = rd10_df[(rd10_df['animrem'] == 'P90') & (rd10_df['genline'] == 'rd10')].values.shape[0]\n",
    "all_rd_p180 = rd10_df[(rd10_df['animrem'] == 'P180') & (rd10_df['genline'] == 'rd10')].values.shape[0]\n",
    "all_rd = rd10_df[(rd10_df['genline'] == 'rd10')].values.shape[0]"
   ]
  },
  {
   "cell_type": "markdown",
   "id": "fa33e493-a1c3-4259-bc74-cc3296122a79",
   "metadata": {},
   "source": [
    "# --------------------------------------------------------------------"
   ]
  },
  {
   "cell_type": "markdown",
   "id": "4c61d423-6152-4cf7-81c0-1fa47e90dda2",
   "metadata": {},
   "source": [
    "# Make alpha cell dataframe and calculate percent of alpha cells per field"
   ]
  },
  {
   "cell_type": "code",
   "execution_count": 11,
   "id": "c96f1862-001a-4067-9cdc-4cb0d7b03240",
   "metadata": {
    "ExecuteTime": {
     "end_time": "2025-01-30T14:28:27.799784Z",
     "start_time": "2025-01-30T14:28:27.783944Z"
    }
   },
   "outputs": [],
   "source": [
    "alpha_cells_df = rd10_df[rd10_df['roi_size_um2'] >= 136]"
   ]
  },
  {
   "cell_type": "code",
   "execution_count": 12,
   "id": "6156686e-f194-42d1-a0fd-1a945bb619c9",
   "metadata": {
    "ExecuteTime": {
     "end_time": "2025-01-30T14:28:28.709803Z",
     "start_time": "2025-01-30T14:28:28.581277Z"
    }
   },
   "outputs": [
    {
     "data": {
      "text/html": [
       "<div>\n",
       "<style scoped>\n",
       "    .dataframe tbody tr th:only-of-type {\n",
       "        vertical-align: middle;\n",
       "    }\n",
       "\n",
       "    .dataframe tbody tr th {\n",
       "        vertical-align: top;\n",
       "    }\n",
       "\n",
       "    .dataframe thead th {\n",
       "        text-align: right;\n",
       "    }\n",
       "</style>\n",
       "<table border=\"1\" class=\"dataframe\">\n",
       "  <thead>\n",
       "    <tr style=\"text-align: right;\">\n",
       "      <th></th>\n",
       "      <th>date</th>\n",
       "      <th>animrem</th>\n",
       "      <th>genline</th>\n",
       "      <th>exp_num</th>\n",
       "      <th>field</th>\n",
       "      <th>alphas</th>\n",
       "      <th>n_cells</th>\n",
       "      <th>alpha_percentage</th>\n",
       "    </tr>\n",
       "  </thead>\n",
       "  <tbody>\n",
       "    <tr>\n",
       "      <th>0</th>\n",
       "      <td>2021-05-20</td>\n",
       "      <td>P90</td>\n",
       "      <td>Bl6</td>\n",
       "      <td>1</td>\n",
       "      <td>GCL1</td>\n",
       "      <td>9</td>\n",
       "      <td>120</td>\n",
       "      <td>7.500000</td>\n",
       "    </tr>\n",
       "    <tr>\n",
       "      <th>1</th>\n",
       "      <td>2021-05-20</td>\n",
       "      <td>P90</td>\n",
       "      <td>Bl6</td>\n",
       "      <td>1</td>\n",
       "      <td>GCL2</td>\n",
       "      <td>6</td>\n",
       "      <td>116</td>\n",
       "      <td>5.172414</td>\n",
       "    </tr>\n",
       "    <tr>\n",
       "      <th>2</th>\n",
       "      <td>2021-05-20</td>\n",
       "      <td>P90</td>\n",
       "      <td>Bl6</td>\n",
       "      <td>1</td>\n",
       "      <td>GCL3</td>\n",
       "      <td>9</td>\n",
       "      <td>92</td>\n",
       "      <td>9.782609</td>\n",
       "    </tr>\n",
       "    <tr>\n",
       "      <th>3</th>\n",
       "      <td>2021-05-20</td>\n",
       "      <td>P90</td>\n",
       "      <td>Bl6</td>\n",
       "      <td>1</td>\n",
       "      <td>GCL4</td>\n",
       "      <td>15</td>\n",
       "      <td>72</td>\n",
       "      <td>20.833333</td>\n",
       "    </tr>\n",
       "    <tr>\n",
       "      <th>4</th>\n",
       "      <td>2021-05-20</td>\n",
       "      <td>P90</td>\n",
       "      <td>Bl6</td>\n",
       "      <td>1</td>\n",
       "      <td>GCL5</td>\n",
       "      <td>11</td>\n",
       "      <td>78</td>\n",
       "      <td>14.102564</td>\n",
       "    </tr>\n",
       "    <tr>\n",
       "      <th>...</th>\n",
       "      <td>...</td>\n",
       "      <td>...</td>\n",
       "      <td>...</td>\n",
       "      <td>...</td>\n",
       "      <td>...</td>\n",
       "      <td>...</td>\n",
       "      <td>...</td>\n",
       "      <td>...</td>\n",
       "    </tr>\n",
       "    <tr>\n",
       "      <th>332</th>\n",
       "      <td>2024-01-25</td>\n",
       "      <td>P30</td>\n",
       "      <td>rd10</td>\n",
       "      <td>2</td>\n",
       "      <td>GCL4</td>\n",
       "      <td>9</td>\n",
       "      <td>109</td>\n",
       "      <td>8.256881</td>\n",
       "    </tr>\n",
       "    <tr>\n",
       "      <th>333</th>\n",
       "      <td>2024-01-25</td>\n",
       "      <td>P30</td>\n",
       "      <td>rd10</td>\n",
       "      <td>2</td>\n",
       "      <td>GCL5</td>\n",
       "      <td>6</td>\n",
       "      <td>125</td>\n",
       "      <td>4.800000</td>\n",
       "    </tr>\n",
       "    <tr>\n",
       "      <th>334</th>\n",
       "      <td>2024-01-25</td>\n",
       "      <td>P30</td>\n",
       "      <td>rd10</td>\n",
       "      <td>2</td>\n",
       "      <td>GCL6</td>\n",
       "      <td>5</td>\n",
       "      <td>105</td>\n",
       "      <td>4.761905</td>\n",
       "    </tr>\n",
       "    <tr>\n",
       "      <th>335</th>\n",
       "      <td>2024-01-25</td>\n",
       "      <td>P30</td>\n",
       "      <td>rd10</td>\n",
       "      <td>2</td>\n",
       "      <td>GCL7</td>\n",
       "      <td>6</td>\n",
       "      <td>108</td>\n",
       "      <td>5.555556</td>\n",
       "    </tr>\n",
       "    <tr>\n",
       "      <th>336</th>\n",
       "      <td>2024-01-25</td>\n",
       "      <td>P30</td>\n",
       "      <td>rd10</td>\n",
       "      <td>2</td>\n",
       "      <td>GCL8</td>\n",
       "      <td>9</td>\n",
       "      <td>108</td>\n",
       "      <td>8.333333</td>\n",
       "    </tr>\n",
       "  </tbody>\n",
       "</table>\n",
       "<p>337 rows × 8 columns</p>\n",
       "</div>"
      ],
      "text/plain": [
       "           date animrem genline  exp_num field  alphas  n_cells  \\\n",
       "0    2021-05-20     P90     Bl6        1  GCL1       9      120   \n",
       "1    2021-05-20     P90     Bl6        1  GCL2       6      116   \n",
       "2    2021-05-20     P90     Bl6        1  GCL3       9       92   \n",
       "3    2021-05-20     P90     Bl6        1  GCL4      15       72   \n",
       "4    2021-05-20     P90     Bl6        1  GCL5      11       78   \n",
       "..          ...     ...     ...      ...   ...     ...      ...   \n",
       "332  2024-01-25     P30    rd10        2  GCL4       9      109   \n",
       "333  2024-01-25     P30    rd10        2  GCL5       6      125   \n",
       "334  2024-01-25     P30    rd10        2  GCL6       5      105   \n",
       "335  2024-01-25     P30    rd10        2  GCL7       6      108   \n",
       "336  2024-01-25     P30    rd10        2  GCL8       9      108   \n",
       "\n",
       "     alpha_percentage  \n",
       "0            7.500000  \n",
       "1            5.172414  \n",
       "2            9.782609  \n",
       "3           20.833333  \n",
       "4           14.102564  \n",
       "..                ...  \n",
       "332          8.256881  \n",
       "333          4.800000  \n",
       "334          4.761905  \n",
       "335          5.555556  \n",
       "336          8.333333  \n",
       "\n",
       "[337 rows x 8 columns]"
      ]
     },
     "execution_count": 12,
     "metadata": {},
     "output_type": "execute_result"
    }
   ],
   "source": [
    "dates = []\n",
    "animrems = []\n",
    "genlines = []\n",
    "exp_nums = []\n",
    "fields = []\n",
    "alphas = []\n",
    "n_roiss = []\n",
    "\n",
    "for (date, exp_num, field, genline, animrem), df_field in rd10_df.groupby(\n",
    "        ['date', 'exp_num', 'field', 'genline', 'animrem']):\n",
    "    alpha = (df_field['roi_size_um2'] >= 136).sum()\n",
    "    n_rois = len(df_field['roi_id'])\n",
    "\n",
    "    alphas.append(alpha)\n",
    "    n_roiss.append(n_rois)\n",
    "\n",
    "    # Accumulate values for each iteration\n",
    "    dates.append(date)\n",
    "    animrems.append(animrem)\n",
    "    genlines.append(genline)\n",
    "    exp_nums.append(exp_num)\n",
    "    fields.append(field)\n",
    "\n",
    "# Create a DataFrame after the loop\n",
    "alpha_df = pd.DataFrame({\n",
    "    'date': dates,\n",
    "    'animrem': animrems,\n",
    "    'genline': genlines,\n",
    "    'exp_num': exp_nums,\n",
    "    'field': fields,\n",
    "    'alphas': alphas,\n",
    "    'n_cells': n_roiss,\n",
    "})\n",
    "\n",
    "# Calculate percentages\n",
    "alpha_df['alpha_percentage'] = (alpha_df['alphas'] / alpha_df['n_cells']) * 100\n",
    "\n",
    "alpha_df"
   ]
  },
  {
   "cell_type": "markdown",
   "id": "105bea0a-3d8f-4649-b339-97acdbff6cdc",
   "metadata": {
    "jp-MarkdownHeadingCollapsed": true
   },
   "source": [
    "# --------------------------------------------------------------------"
   ]
  },
  {
   "cell_type": "markdown",
   "id": "04fd6523-9f04-4d9f-947b-14d4b594875a",
   "metadata": {},
   "source": [
    "# Responsive cells per field"
   ]
  },
  {
   "cell_type": "code",
   "execution_count": 13,
   "id": "1c6813b5-28b9-4463-8a4d-ff1e74f438e6",
   "metadata": {
    "ExecuteTime": {
     "end_time": "2025-01-30T14:28:31.148104Z",
     "start_time": "2025-01-30T14:28:30.924755Z"
    }
   },
   "outputs": [
    {
     "data": {
      "text/html": [
       "<div>\n",
       "<style scoped>\n",
       "    .dataframe tbody tr th:only-of-type {\n",
       "        vertical-align: middle;\n",
       "    }\n",
       "\n",
       "    .dataframe tbody tr th {\n",
       "        vertical-align: top;\n",
       "    }\n",
       "\n",
       "    .dataframe thead th {\n",
       "        text-align: right;\n",
       "    }\n",
       "</style>\n",
       "<table border=\"1\" class=\"dataframe\">\n",
       "  <thead>\n",
       "    <tr style=\"text-align: right;\">\n",
       "      <th></th>\n",
       "      <th>date</th>\n",
       "      <th>animrem</th>\n",
       "      <th>genline</th>\n",
       "      <th>exp_num</th>\n",
       "      <th>field</th>\n",
       "      <th>n_cells</th>\n",
       "      <th>resp_cells</th>\n",
       "      <th>resp_percentage</th>\n",
       "    </tr>\n",
       "  </thead>\n",
       "  <tbody>\n",
       "    <tr>\n",
       "      <th>0</th>\n",
       "      <td>2021-05-20</td>\n",
       "      <td>P90</td>\n",
       "      <td>Bl6</td>\n",
       "      <td>1</td>\n",
       "      <td>GCL1</td>\n",
       "      <td>120</td>\n",
       "      <td>84</td>\n",
       "      <td>70.000000</td>\n",
       "    </tr>\n",
       "    <tr>\n",
       "      <th>1</th>\n",
       "      <td>2021-05-20</td>\n",
       "      <td>P90</td>\n",
       "      <td>Bl6</td>\n",
       "      <td>1</td>\n",
       "      <td>GCL2</td>\n",
       "      <td>116</td>\n",
       "      <td>96</td>\n",
       "      <td>82.758621</td>\n",
       "    </tr>\n",
       "    <tr>\n",
       "      <th>2</th>\n",
       "      <td>2021-05-20</td>\n",
       "      <td>P90</td>\n",
       "      <td>Bl6</td>\n",
       "      <td>1</td>\n",
       "      <td>GCL3</td>\n",
       "      <td>92</td>\n",
       "      <td>0</td>\n",
       "      <td>0.000000</td>\n",
       "    </tr>\n",
       "    <tr>\n",
       "      <th>3</th>\n",
       "      <td>2021-05-20</td>\n",
       "      <td>P90</td>\n",
       "      <td>Bl6</td>\n",
       "      <td>1</td>\n",
       "      <td>GCL4</td>\n",
       "      <td>72</td>\n",
       "      <td>29</td>\n",
       "      <td>40.277778</td>\n",
       "    </tr>\n",
       "    <tr>\n",
       "      <th>4</th>\n",
       "      <td>2021-05-20</td>\n",
       "      <td>P90</td>\n",
       "      <td>Bl6</td>\n",
       "      <td>1</td>\n",
       "      <td>GCL5</td>\n",
       "      <td>78</td>\n",
       "      <td>10</td>\n",
       "      <td>12.820513</td>\n",
       "    </tr>\n",
       "    <tr>\n",
       "      <th>...</th>\n",
       "      <td>...</td>\n",
       "      <td>...</td>\n",
       "      <td>...</td>\n",
       "      <td>...</td>\n",
       "      <td>...</td>\n",
       "      <td>...</td>\n",
       "      <td>...</td>\n",
       "      <td>...</td>\n",
       "    </tr>\n",
       "    <tr>\n",
       "      <th>332</th>\n",
       "      <td>2024-01-25</td>\n",
       "      <td>P30</td>\n",
       "      <td>rd10</td>\n",
       "      <td>2</td>\n",
       "      <td>GCL4</td>\n",
       "      <td>109</td>\n",
       "      <td>59</td>\n",
       "      <td>54.128440</td>\n",
       "    </tr>\n",
       "    <tr>\n",
       "      <th>333</th>\n",
       "      <td>2024-01-25</td>\n",
       "      <td>P30</td>\n",
       "      <td>rd10</td>\n",
       "      <td>2</td>\n",
       "      <td>GCL5</td>\n",
       "      <td>125</td>\n",
       "      <td>102</td>\n",
       "      <td>81.600000</td>\n",
       "    </tr>\n",
       "    <tr>\n",
       "      <th>334</th>\n",
       "      <td>2024-01-25</td>\n",
       "      <td>P30</td>\n",
       "      <td>rd10</td>\n",
       "      <td>2</td>\n",
       "      <td>GCL6</td>\n",
       "      <td>105</td>\n",
       "      <td>89</td>\n",
       "      <td>84.761905</td>\n",
       "    </tr>\n",
       "    <tr>\n",
       "      <th>335</th>\n",
       "      <td>2024-01-25</td>\n",
       "      <td>P30</td>\n",
       "      <td>rd10</td>\n",
       "      <td>2</td>\n",
       "      <td>GCL7</td>\n",
       "      <td>108</td>\n",
       "      <td>68</td>\n",
       "      <td>62.962963</td>\n",
       "    </tr>\n",
       "    <tr>\n",
       "      <th>336</th>\n",
       "      <td>2024-01-25</td>\n",
       "      <td>P30</td>\n",
       "      <td>rd10</td>\n",
       "      <td>2</td>\n",
       "      <td>GCL8</td>\n",
       "      <td>108</td>\n",
       "      <td>85</td>\n",
       "      <td>78.703704</td>\n",
       "    </tr>\n",
       "  </tbody>\n",
       "</table>\n",
       "<p>337 rows × 8 columns</p>\n",
       "</div>"
      ],
      "text/plain": [
       "           date animrem genline  exp_num field  n_cells  resp_cells  \\\n",
       "0    2021-05-20     P90     Bl6        1  GCL1      120          84   \n",
       "1    2021-05-20     P90     Bl6        1  GCL2      116          96   \n",
       "2    2021-05-20     P90     Bl6        1  GCL3       92           0   \n",
       "3    2021-05-20     P90     Bl6        1  GCL4       72          29   \n",
       "4    2021-05-20     P90     Bl6        1  GCL5       78          10   \n",
       "..          ...     ...     ...      ...   ...      ...         ...   \n",
       "332  2024-01-25     P30    rd10        2  GCL4      109          59   \n",
       "333  2024-01-25     P30    rd10        2  GCL5      125         102   \n",
       "334  2024-01-25     P30    rd10        2  GCL6      105          89   \n",
       "335  2024-01-25     P30    rd10        2  GCL7      108          68   \n",
       "336  2024-01-25     P30    rd10        2  GCL8      108          85   \n",
       "\n",
       "     resp_percentage  \n",
       "0          70.000000  \n",
       "1          82.758621  \n",
       "2           0.000000  \n",
       "3          40.277778  \n",
       "4          12.820513  \n",
       "..               ...  \n",
       "332        54.128440  \n",
       "333        81.600000  \n",
       "334        84.761905  \n",
       "335        62.962963  \n",
       "336        78.703704  \n",
       "\n",
       "[337 rows x 8 columns]"
      ]
     },
     "execution_count": 13,
     "metadata": {},
     "output_type": "execute_result"
    }
   ],
   "source": [
    "roi_qs = []\n",
    "n_roiss = []\n",
    "dates = []\n",
    "animrems = []\n",
    "genlines = []\n",
    "exp_nums = []\n",
    "fields = []\n",
    "\n",
    "for (date, exp_num, field, genline, animrem), df_field in rd10_df.groupby(\n",
    "        ['date', 'exp_num', 'field', 'genline', 'animrem']):\n",
    "    roi_q = np.sum((df_field['gchirp_qidx'] >= 0.35) | (df_field['bar_d_qi'] >= 0.6))\n",
    "    n_rois = len(df_field['roi_id'])\n",
    "\n",
    "    roi_qs.append(roi_q)\n",
    "    n_roiss.append(n_rois)\n",
    "\n",
    "    # Accumulate values for each iteration\n",
    "    dates.append(date)\n",
    "    animrems.append(animrem)\n",
    "    genlines.append(genline)\n",
    "    exp_nums.append(exp_num)\n",
    "    fields.append(field)\n",
    "\n",
    "# Create a DataFrame after the loop\n",
    "result_df = pd.DataFrame({\n",
    "    'date': dates,\n",
    "    'animrem': animrems,\n",
    "    'genline': genlines,\n",
    "    'exp_num': exp_nums,\n",
    "    'field': fields,\n",
    "    'n_cells': n_roiss,\n",
    "    'resp_cells': roi_qs,\n",
    "})\n",
    "\n",
    "# Calculate percentages\n",
    "result_df['resp_percentage'] = (result_df['resp_cells'] / result_df['n_cells']) * 100\n",
    "\n",
    "result_df"
   ]
  },
  {
   "cell_type": "markdown",
   "id": "2f454b49-6f2b-4c79-b26e-a6fe8a82b4ec",
   "metadata": {
    "jp-MarkdownHeadingCollapsed": true
   },
   "source": [
    "# --------------------------------------------------------------------"
   ]
  },
  {
   "cell_type": "markdown",
   "id": "216b6421-5e78-4096-950d-fe66d4c43b92",
   "metadata": {},
   "source": [
    "# Plot"
   ]
  },
  {
   "cell_type": "code",
   "execution_count": 14,
   "id": "ef889c10-a97a-4a85-aef8-678d8296b470",
   "metadata": {
    "ExecuteTime": {
     "end_time": "2025-01-30T14:28:37.376112Z",
     "start_time": "2025-01-30T14:28:34.574435Z"
    }
   },
   "outputs": [
    {
     "name": "stdout",
     "output_type": "stream",
     "text": [
      "p-value annotation legend:\n",
      "      ns: 5.00e-02 < p <= 1.00e+00\n",
      "       *: 1.00e-02 < p <= 5.00e-02\n",
      "      **: 1.00e-03 < p <= 1.00e-02\n",
      "     ***: 1.00e-04 < p <= 1.00e-03\n",
      "    ****: p <= 1.00e-04\n",
      "\n",
      "P45_Bl6 vs. P45_rd10: Mann-Whitney-Wilcoxon test two-sided with Benjamini-Hochberg correction, P_val:5.866e-02 U_stat=1.664e+03\n",
      "P30_Bl6 vs. P30_rd10: Mann-Whitney-Wilcoxon test two-sided with Benjamini-Hochberg correction, P_val:2.167e-03 U_stat=9.915e+02\n",
      "P90_Bl6 vs. P90_rd10: Mann-Whitney-Wilcoxon test two-sided with Benjamini-Hochberg correction, P_val:3.415e-01 U_stat=1.446e+03\n",
      "P180_Bl6 vs. P180_rd10: Mann-Whitney-Wilcoxon test two-sided with Benjamini-Hochberg correction, P_val:4.120e-01 U_stat=2.585e+02\n",
      "p-value annotation legend:\n",
      "      ns: 5.00e-02 < p <= 1.00e+00\n",
      "       *: 1.00e-02 < p <= 5.00e-02\n",
      "      **: 1.00e-03 < p <= 1.00e-02\n",
      "     ***: 1.00e-04 < p <= 1.00e-03\n",
      "    ****: p <= 1.00e-04\n",
      "\n",
      "P45_Bl6 vs. P45_rd10: Mann-Whitney-Wilcoxon test two-sided with Benjamini-Hochberg correction, P_val:6.399e-01 U_stat=1.290e+03\n",
      "P30_Bl6 vs. P30_rd10: Mann-Whitney-Wilcoxon test two-sided with Benjamini-Hochberg correction, P_val:2.324e-02 (ns) U_stat=4.875e+02\n",
      "P90_Bl6 vs. P90_rd10: Mann-Whitney-Wilcoxon test two-sided with Benjamini-Hochberg correction, P_val:3.045e-01 U_stat=1.458e+03\n",
      "P180_Bl6 vs. P180_rd10: Mann-Whitney-Wilcoxon test two-sided with Benjamini-Hochberg correction, P_val:7.872e-01 U_stat=3.140e+02\n",
      "p-value annotation legend:\n",
      "      ns: 5.00e-02 < p <= 1.00e+00\n",
      "       *: 1.00e-02 < p <= 5.00e-02\n",
      "      **: 1.00e-03 < p <= 1.00e-02\n",
      "     ***: 1.00e-04 < p <= 1.00e-03\n",
      "    ****: p <= 1.00e-04\n",
      "\n",
      "P45_Bl6 vs. P45_rd10: Mann-Whitney-Wilcoxon test two-sided with Benjamini-Hochberg correction, P_val:4.402e-03 U_stat=1.816e+03\n",
      "P30_Bl6 vs. P30_rd10: Mann-Whitney-Wilcoxon test two-sided with Benjamini-Hochberg correction, P_val:1.058e-01 U_stat=5.490e+02\n",
      "P90_Bl6 vs. P90_rd10: Mann-Whitney-Wilcoxon test two-sided with Benjamini-Hochberg correction, P_val:7.545e-05 U_stat=1.900e+03\n",
      "P180_Bl6 vs. P180_rd10: Mann-Whitney-Wilcoxon test two-sided with Benjamini-Hochberg correction, P_val:1.701e-09 U_stat=6.000e+02\n"
     ]
    },
    {
     "data": {
      "image/png": "[encoded data removed]",
      "text/plain": [
       "<Figure size 840x184.8 with 4 Axes>"
      ]
     },
     "metadata": {},
     "output_type": "display_data"
    },
    {
     "data": {
      "image/png": "[encoded data removed]",
      "text/plain": [
       "<Figure size 1200x1200 with 1 Axes>"
      ]
     },
     "metadata": {},
     "output_type": "display_data"
    }
   ],
   "source": [
    "# Set context\n",
    "data_plots.set_rc_params(kind='paper', notebook_dpi=120)\n",
    "\n",
    "# Create plot\n",
    "fig, axs = plt.subplots(1, 4)\n",
    "\n",
    "# Set size\n",
    "data_plots.set_figsize(fig, 'full', height_ratio=0.22)\n",
    "data_plots.set_labs(axs, panel_nums='auto', panel_num_pad=10, panel_num_space=11)\n",
    "\n",
    "# Tweaking\n",
    "data_plots.move_xaxis_outward(axs)\n",
    "\n",
    "x_order = ['P30', 'P45', 'P90', 'P180']\n",
    "\n",
    "# total number of cells\n",
    "axs[0].bar(np.arange(0, 4, 1) - 0.15, [all_wt_p30, all_wt_p45, all_wt_p90, all_wt_p180], width=0.3, edgecolor='k',\n",
    "           color='w', label='wt')\n",
    "axs[0].bar(np.arange(0, 4, 1) + 0.15, [all_rd_p30, all_rd_p45, all_rd_p90, all_rd_p180], width=0.3, edgecolor='k',\n",
    "           color='m', label='rd10')\n",
    "axs[0].set_ylabel('recorded cells [#]')\n",
    "axs[0].spines['bottom'].set_visible(False)\n",
    "axs[0].tick_params(axis='x', which='both', bottom=False)\n",
    "axs[0].xaxis.set_major_locator(plt.NullLocator())  # Remove major ticks from x-axis\n",
    "axs[0].spines['bottom'].set_color('white')  # Set x-axis color to white\n",
    "axs[0].set_xlabel('')\n",
    "# Set the xticks and labels\n",
    "axs[0].set_xticks(range(len(x_order)))\n",
    "axs[0].set_xticklabels(x_order)\n",
    "\n",
    "# cells per field\n",
    "x_order = ['P30', 'P45', 'P90', 'P180']\n",
    "hue_order = ['Bl6', 'rd10']\n",
    "pairs = [[(xi, hi) for hi in hue_order] for xi in x_order]\n",
    "# Create the subplot before setting ylim\n",
    "axs[1].plot([])  # An empty plot to create the subplot\n",
    "axs[1].set_ylim(50, 200)  # Set the y-axis limits\n",
    "ax = plot_test(ax=axs[1], df=result_df, x='animrem', y=\"n_cells\", ylabel='cells per field [#]', order=x_order,\n",
    "               pairs=pairs, test=\"Mann-Whitney\", hue='genline', palette={'Bl6': 'w', 'rd10': 'm'})\n",
    "axs[1].set_ylabel('cells per field [#]')\n",
    "axs[1].spines['bottom'].set_visible(False)\n",
    "axs[1].set_xlabel('')\n",
    "axs[1].tick_params(axis='x', which='both', bottom=False)\n",
    "axs[1].xaxis.set_major_locator(plt.NullLocator())  # Remove major ticks from x-axis\n",
    "axs[1].spines['bottom'].set_color('white')  # Set x-axis color to white\n",
    "# Set the xticks and labels\n",
    "axs[1].set_xticks(range(len(x_order)))\n",
    "axs[1].set_xticklabels(x_order)\n",
    "\n",
    "# alpha cells\n",
    "hue_order = ['Bl6', 'rd10']\n",
    "pairs = [[(xi, hi) for hi in hue_order] for xi in x_order]\n",
    "# Create the subplot before setting ylim\n",
    "axs[2].plot([])  # An empty plot to create the subplot\n",
    "axs[2].set_ylim(0, 30)  # Set the y-axis limits\n",
    "ax = plot_test(ax=axs[2], df=alpha_df, x='animrem', y=\"alpha_percentage\", ylabel='alpha cells per field [%]',\n",
    "               order=x_order, pairs=pairs, test=\"Mann-Whitney\", hue='genline', palette={'Bl6': 'w', 'rd10': 'm'})\n",
    "axs[2].set(xlabel=None)\n",
    "sns.despine()\n",
    "axs[2].tick_params(axis='x', which='both', bottom=False, labelbottom=True)\n",
    "axs[2].spines['bottom'].set_visible(False)\n",
    "axs[2].xaxis.set_major_locator(plt.NullLocator())  # Remove major ticks from x-axis\n",
    "axs[2].spines['bottom'].set_color('white')  # Set x-axis color to white\n",
    "axs[2].set_ylabel('alpha cells [%]')\n",
    "# Set the xticks and labels\n",
    "axs[2].set_xticks(range(len(x_order)))\n",
    "axs[2].set_xticklabels(x_order)\n",
    "\n",
    "# responsive cells\n",
    "x_order = ['P30', 'P45', 'P90', 'P180']\n",
    "hue_order = ['Bl6', 'rd10']\n",
    "pairs = [[(xi, hi) for hi in hue_order] for xi in x_order]\n",
    "# Create the subplot before setting ylim\n",
    "axs[3].plot([])  # An empty plot to create the subplot\n",
    "axs[3].set_ylim(0, 100)  # Set the y-axis limits\n",
    "ax = plot_test(ax=axs[3], df=result_df, x='animrem', y=\"resp_percentage\", ylabel='responsive cells [%]', order=x_order,\n",
    "               pairs=pairs, marker='o', test=\"Mann-Whitney\", hue='genline', palette={'Bl6': 'w', 'rd10': 'm'})\n",
    "axs[3].get_legend().remove()\n",
    "axs[3].set_ylabel('responsive cells [%]')\n",
    "axs[3].set(xlabel=None)\n",
    "sns.despine()\n",
    "axs[3].tick_params(axis='x', which='both', bottom=False, labelbottom=True)\n",
    "axs[3].spines['bottom'].set_visible(False)\n",
    "axs[3].set_ylabel('responsive cells [%]')\n",
    "axs[3].xaxis.set_major_locator(plt.NullLocator())  # Remove major ticks from x-axis\n",
    "axs[3].spines['bottom'].set_color('white')  # Set x-axis color to white\n",
    "# Set the xticks and labels\n",
    "axs[3].set_xticks(range(len(x_order)))\n",
    "axs[3].set_xticklabels(x_order)\n",
    "\n",
    "#legend\n",
    "axs[0].legend([], [], frameon=False, fontsize=8)\n",
    "axs[1].legend([], [], frameon=False, fontsize=8)\n",
    "axs[2].legend([], [], frameon=False, fontsize=8)\n",
    "axs[3].legend([], [], frameon=False, fontsize=8)\n",
    "\n",
    "# Similar to standard tight_layout, but relative to fontsize used\n",
    "data_plots.tight_layout(rect=(0.01, 0, 1, 1), w_pad=2.6, h_pad=1.5)\n",
    "\n",
    "#plt.savefig('Fig3_2024-05-23.png')\n",
    "\n",
    "# Make sure nothing is cut off, when saving\n",
    "# Avoid using bbox_inches='tight', because it will resize the figure\n",
    "data_plots.show_saved_figure(fig)"
   ]
  }
 ],
 "metadata": {
  "kernelspec": {
   "display_name": "Python 3 (ipykernel)",
   "language": "python",
   "name": "python3"
  },
  "language_info": {
   "codemirror_mode": {
    "name": "ipython",
    "version": 3
   },
   "file_extension": ".py",
   "mimetype": "text/x-python",
   "name": "python",
   "nbconvert_exporter": "python",
   "pygments_lexer": "ipython3",
   "version": "3.8.10"
  }
 },
 "nbformat": 4,
 "nbformat_minor": 5
}
