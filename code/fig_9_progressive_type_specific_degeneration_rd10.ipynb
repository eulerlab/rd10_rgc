{
 "cells": [
  {
   "cell_type": "markdown",
   "id": "f0657423-4a9d-46b5-a580-f19463279e7c",
   "metadata": {},
   "source": [
    "# Figure 9: Progressive, type-specific degeneration in the *rd10* retina"
   ]
  },
  {
   "cell_type": "markdown",
   "id": "388b63a6-aa9c-4cb2-a329-870f1ae14422",
   "metadata": {},
   "source": [
    "## Imports"
   ]
  },
  {
   "cell_type": "code",
   "execution_count": 1,
   "id": "d91f466b-3097-4332-b231-8c6daa7cb805",
   "metadata": {},
   "outputs": [],
   "source": [
    "import numpy as np\n",
    "import pandas as pd\n",
    "import matplotlib.pyplot as plt\n",
    "import seaborn as sns\n",
    "import scipy.stats as stats\n",
    "from statsmodels.stats.multitest import multipletests\n",
    "from statsmodels.stats.multicomp import pairwise_tukeyhsd"
   ]
  },
  {
   "cell_type": "markdown",
   "id": "5a2e99c6-fbb6-4274-82f1-fdca0f6063dd",
   "metadata": {},
   "source": [
    "# ------------------------------------------------------------------------------------------------------------"
   ]
  },
  {
   "cell_type": "markdown",
   "id": "0d070b3f-2dcf-498b-8d27-b10d2d07236b",
   "metadata": {},
   "source": [
    "# Load dataset with cells without quality filtering"
   ]
  },
  {
   "cell_type": "code",
   "execution_count": 2,
   "id": "881c063c-b793-4aca-91b5-d123159de1db",
   "metadata": {},
   "outputs": [
    {
     "name": "stderr",
     "output_type": "stream",
     "text": [
      "/tmp/ipykernel_7347/3056493207.py:10: SettingWithCopyWarning: \n",
      "A value is trying to be set on a copy of a slice from a DataFrame\n",
      "\n",
      "See the caveats in the documentation: https://pandas.pydata.org/pandas-docs/stable/user_guide/indexing.html#returning-a-view-versus-a-copy\n",
      "  rd10_all_df['genline'][missing_genline_idx]='rd10'\n"
     ]
    }
   ],
   "source": [
    "file_path = 'ADD_YOUR_PATH_TO_DATA_HERE-all-cells'\n",
    "\n",
    "rd10_all_df = pd.read_pickle(file_path)  \n",
    "# multiindex df to single index df\n",
    "rd10_all_df = rd10_all_df.reset_index(level=[0,1,2,3,4,5,6,7,8,9,10,11])\n",
    "# drop unnecessary keys\n",
    "rd10_all_df = rd10_all_df.drop(columns=['training_data_hash','classifier_params_hash','preprocess_id','condition','raw_id','gchirp','bar'])\n",
    "missing_genline_idx = np.where(rd10_all_df['genline']=='')[0]\n",
    "rd10_all_df['genline'][missing_genline_idx]='rd10'\n",
    "idx_p60 = np.where(rd10_all_df['animrem'].values=='P60')[0]\n",
    "rd10_all_df = rd10_all_df.drop(idx_p60)\n",
    "rd10_all_df = rd10_all_df.reset_index(drop=True)"
   ]
  },
  {
   "cell_type": "markdown",
   "id": "55b16f74-073f-4bb7-937f-877b3c65763a",
   "metadata": {},
   "source": [
    "## compute total number of cells per condition"
   ]
  },
  {
   "cell_type": "code",
   "execution_count": 3,
   "id": "6ed046cf-0d26-463f-8e48-2e27cdf11bd7",
   "metadata": {},
   "outputs": [],
   "source": [
    "num_cells_wt_p30 = rd10_all_df[(rd10_all_df['genline']=='Bl6')&(rd10_all_df['animrem']=='P30')]['preproc_chirp'].values.shape[0]\n",
    "num_cells_rd_p30 = rd10_all_df[(rd10_all_df['genline']=='rd10')&(rd10_all_df['animrem']=='P30')]['preproc_chirp'].values.shape[0]\n",
    "\n",
    "num_cells_wt_p45 = rd10_all_df[(rd10_all_df['genline']=='Bl6')&(rd10_all_df['animrem']=='P45')]['preproc_chirp'].values.shape[0]\n",
    "num_cells_rd_p45 = rd10_all_df[(rd10_all_df['genline']=='rd10')&(rd10_all_df['animrem']=='P45')]['preproc_chirp'].values.shape[0]\n",
    "\n",
    "num_cells_wt_p90 = rd10_all_df[(rd10_all_df['genline']=='Bl6')&(rd10_all_df['animrem']=='P90')]['preproc_chirp'].values.shape[0]\n",
    "num_cells_rd_p90 = rd10_all_df[(rd10_all_df['genline']=='rd10')&(rd10_all_df['animrem']=='P90')]['preproc_chirp'].values.shape[0]"
   ]
  },
  {
   "cell_type": "markdown",
   "id": "b32d7961-73b9-42d9-816b-b18100db4857",
   "metadata": {},
   "source": [
    "# ------------------------------------------------------------------------------------------------------------"
   ]
  },
  {
   "cell_type": "markdown",
   "id": "340e64c9-f46f-4bf2-aaef-b27c9b82301a",
   "metadata": {},
   "source": [
    "# load and clean filtered dataset"
   ]
  },
  {
   "cell_type": "code",
   "execution_count": 4,
   "id": "0aabf4c0-4948-406e-a0bf-1a123160ba18",
   "metadata": {},
   "outputs": [
    {
     "name": "stderr",
     "output_type": "stream",
     "text": [
      "/tmp/ipykernel_7347/2957198727.py:10: SettingWithCopyWarning: \n",
      "A value is trying to be set on a copy of a slice from a DataFrame\n",
      "\n",
      "See the caveats in the documentation: https://pandas.pydata.org/pandas-docs/stable/user_guide/indexing.html#returning-a-view-versus-a-copy\n",
      "  rd10_df['genline'][missing_genline_idx]='rd10'\n"
     ]
    }
   ],
   "source": [
    "file_path = 'ADD_YOUR_PATH_TO_DATA_HERE-filtered-cells'\n",
    "\n",
    "rd10_df = pd.read_pickle(file_path)  \n",
    "# multiindex df to single index df\n",
    "rd10_df = rd10_df.reset_index(level=[0,1,2,3,4,5,6,7,8,9,10,11])\n",
    "# drop unnecessary keys\n",
    "rd10_df = rd10_df.drop(columns=['training_data_hash','classifier_params_hash','preprocess_id','condition','raw_id','gchirp','bar'])\n",
    "missing_genline_idx = np.where(rd10_df['genline']=='')[0]\n",
    "rd10_df['genline'][missing_genline_idx]='rd10'\n",
    "\n",
    "idx_p60 = np.where(rd10_df['animrem'].values=='P60')[0]\n",
    "rd10_df = rd10_df.drop(idx_p60)\n",
    "rd10_df = rd10_df.reset_index(drop=True)"
   ]
  },
  {
   "cell_type": "code",
   "execution_count": 5,
   "id": "b4d3a757-fea2-49de-a44c-b7e84071bdfd",
   "metadata": {},
   "outputs": [],
   "source": [
    "# exclude classified cells below threshold\n",
    "confidence_score = 0.25\n",
    "rd10_df = rd10_df[rd10_df['max_confidence']>=confidence_score]"
   ]
  },
  {
   "cell_type": "markdown",
   "id": "1a2a9668-0785-47a0-a367-077ffa779693",
   "metadata": {},
   "source": [
    "# ------------------------------------------------------------------------------------------------------------"
   ]
  },
  {
   "cell_type": "markdown",
   "id": "af937f0f-9dd6-4d38-ad50-87aad02b148d",
   "metadata": {},
   "source": [
    "# Compute fractions"
   ]
  },
  {
   "cell_type": "code",
   "execution_count": 6,
   "id": "378ca98e-2b5d-4f12-93f7-d8baa0b21b12",
   "metadata": {
    "tags": []
   },
   "outputs": [],
   "source": [
    "ncells_wt_p30 = rd10_df[(rd10_df['animrem']=='P30')&(rd10_df['genline']=='Bl6')]['preproc_chirp'].values.shape[0]\n",
    "ncells_wt_p45 = rd10_df[(rd10_df['animrem']=='P45')&(rd10_df['genline']=='Bl6')]['preproc_chirp'].values.shape[0]\n",
    "ncells_wt_p90 = rd10_df[(rd10_df['animrem']=='P90')&(rd10_df['genline']=='Bl6')]['preproc_chirp'].values.shape[0]\n",
    "\n",
    "ncells_rd_p30 = rd10_df[(rd10_df['animrem']=='P30')&(rd10_df['genline']=='rd10')]['preproc_chirp'].values.shape[0]\n",
    "ncells_rd_p45 = rd10_df[(rd10_df['animrem']=='P45')&(rd10_df['genline']=='rd10')]['preproc_chirp'].values.shape[0]\n",
    "ncells_rd_p90 = rd10_df[(rd10_df['animrem']=='P90')&(rd10_df['genline']=='rd10')]['preproc_chirp'].values.shape[0]"
   ]
  },
  {
   "cell_type": "code",
   "execution_count": 7,
   "id": "48ee1b0d-97da-4eb0-a6e2-f05369be35ea",
   "metadata": {
    "tags": []
   },
   "outputs": [],
   "source": [
    "perc_clusters_wt_p30 = np.zeros(len(np.unique(rd10_df['celltype'])))\n",
    "perc_clusters_wt_p45 = np.zeros(len(np.unique(rd10_df['celltype'])))\n",
    "perc_clusters_wt_p90 = np.zeros(len(np.unique(rd10_df['celltype'])))\n",
    "\n",
    "perc_clusters_rd_p30 = np.zeros(len(np.unique(rd10_df['celltype'])))\n",
    "perc_clusters_rd_p45 = np.zeros(len(np.unique(rd10_df['celltype'])))\n",
    "perc_clusters_rd_p90 = np.zeros(len(np.unique(rd10_df['celltype'])))\n",
    "\n",
    "for i in range(len(perc_clusters_wt_p30)):\n",
    "    perc_clusters_wt_p30[i] = round((rd10_df[(rd10_df['celltype']==i+1)&(rd10_df['animrem']=='P30')&(rd10_df['genline']=='Bl6')]['preproc_chirp'].values.shape[0]) / ncells_wt_p30 * 100,2)\n",
    "    perc_clusters_wt_p45[i] = round((rd10_df[(rd10_df['celltype']==i+1)&(rd10_df['animrem']=='P45')&(rd10_df['genline']=='Bl6')]['preproc_chirp'].values.shape[0]) / ncells_wt_p45 * 100,2)\n",
    "    perc_clusters_wt_p90[i] = round((rd10_df[(rd10_df['celltype']==i+1)&(rd10_df['animrem']=='P90')&(rd10_df['genline']=='Bl6')]['preproc_chirp'].values.shape[0]) / ncells_wt_p30 * 100,2)\n",
    "\n",
    "    perc_clusters_rd_p30[i] = round((rd10_df[(rd10_df['celltype']==i+1)&(rd10_df['animrem']=='P30')&(rd10_df['genline']=='rd10')]['preproc_chirp'].values.shape[0]) / ncells_rd_p30 * 100,2)\n",
    "    perc_clusters_rd_p45[i] = round((rd10_df[(rd10_df['celltype']==i+1)&(rd10_df['animrem']=='P45')&(rd10_df['genline']=='rd10')]['preproc_chirp'].values.shape[0]) / ncells_rd_p45 * 100,2)\n",
    "    perc_clusters_rd_p90[i] = round((rd10_df[(rd10_df['celltype']==i+1)&(rd10_df['animrem']=='P90')&(rd10_df['genline']=='rd10')]['preproc_chirp'].values.shape[0]) / ncells_rd_p90 * 100,2)"
   ]
  },
  {
   "cell_type": "markdown",
   "id": "987e3e96-85a2-44f7-8aba-e3e242e178cf",
   "metadata": {},
   "source": [
    "## differences of fractions"
   ]
  },
  {
   "cell_type": "code",
   "execution_count": 8,
   "id": "6b72c469-28da-46f1-8d21-39e526f9a057",
   "metadata": {},
   "outputs": [],
   "source": [
    "diff_frac_p30 = perc_clusters_wt_p30 - perc_clusters_rd_p30\n",
    "diff_frac_p45 = perc_clusters_wt_p45 - perc_clusters_rd_p45\n",
    "diff_frac_p90 = perc_clusters_wt_p90 - perc_clusters_rd_p90"
   ]
  },
  {
   "cell_type": "markdown",
   "id": "10891cbb-c543-4900-95ab-baf61ebc5dd0",
   "metadata": {},
   "source": [
    "# functional groups"
   ]
  },
  {
   "cell_type": "code",
   "execution_count": 9,
   "id": "55e607e1-144a-4344-bacd-b98e8698e3fb",
   "metadata": {},
   "outputs": [],
   "source": [
    "off_p30 = sum(diff_frac_p30[0:9])\n",
    "on_off_p30 = sum(diff_frac_p30[9:14])\n",
    "fast_on_p30 = sum(diff_frac_p30[14:20])\n",
    "slow_on_p30 = sum(diff_frac_p30[20:28])\n",
    "unc_p30 = sum(diff_frac_p30[28:32])\n",
    "dac_p30 = sum(diff_frac_p30[32:])\n",
    "diff_p30 = np.asarray([off_p30,on_off_p30,fast_on_p30,slow_on_p30,unc_p30,dac_p30])"
   ]
  },
  {
   "cell_type": "code",
   "execution_count": 10,
   "id": "4f9b7187-fe07-437a-b7f6-11eb5379f87d",
   "metadata": {},
   "outputs": [],
   "source": [
    "off_p45 = sum(diff_frac_p45[0:9])\n",
    "on_off_p45 = sum(diff_frac_p45[9:14])\n",
    "fast_on_p45 = sum(diff_frac_p45[14:20])\n",
    "slow_on_p45 = sum(diff_frac_p45[20:28])\n",
    "unc_p45 = sum(diff_frac_p45[28:32])\n",
    "dac_p45 = sum(diff_frac_p45[32:])\n",
    "diff_p45 = np.asarray([off_p45,on_off_p45,fast_on_p45,slow_on_p45,unc_p45,dac_p45])"
   ]
  },
  {
   "cell_type": "code",
   "execution_count": 11,
   "id": "cef630a3-93ce-4b9b-8c5c-8d8cb26944d0",
   "metadata": {},
   "outputs": [],
   "source": [
    "off_p90 = sum(diff_frac_p90[0:9])\n",
    "on_off_p90 = sum(diff_frac_p90[9:14])\n",
    "fast_on_p90 = sum(diff_frac_p90[14:20])\n",
    "slow_on_p90 = sum(diff_frac_p90[20:28])\n",
    "unc_p90 = sum(diff_frac_p90[28:32])\n",
    "dac_p90 = sum(diff_frac_p90[32:])\n",
    "diff_p90 = np.asarray([off_p90,on_off_p90,fast_on_p90,slow_on_p90,unc_p90,dac_p90])"
   ]
  },
  {
   "cell_type": "markdown",
   "id": "78d3e8f4-f71f-45fe-bdf5-ff2a991ee848",
   "metadata": {},
   "source": [
    "# ------------------------------------------------------------------------------------------------------------"
   ]
  },
  {
   "cell_type": "markdown",
   "id": "a5e8587d-03d7-4e00-b723-fb8da34843b3",
   "metadata": {},
   "source": [
    "# Comparison of cell-per-group percentages as log<sub>2</sub> ratio between *wild-type* and *rd10* per age"
   ]
  },
  {
   "cell_type": "code",
   "execution_count": 12,
   "id": "6d8d471c-800f-4b6c-abbe-10e0a47c9ab8",
   "metadata": {
    "tags": []
   },
   "outputs": [],
   "source": [
    "ncells_wt_p30 = rd10_df[(rd10_df['animrem']=='P30')&(rd10_df['genline']=='Bl6')]['preproc_chirp'].values.shape[0]\n",
    "ncells_wt_p45 = rd10_df[(rd10_df['animrem']=='P45')&(rd10_df['genline']=='Bl6')]['preproc_chirp'].values.shape[0]\n",
    "ncells_wt_p90 = rd10_df[(rd10_df['animrem']=='P90')&(rd10_df['genline']=='Bl6')]['preproc_chirp'].values.shape[0]\n",
    "\n",
    "ncells_rd_p30 = rd10_df[(rd10_df['animrem']=='P30')&(rd10_df['genline']=='rd10')]['preproc_chirp'].values.shape[0]\n",
    "ncells_rd_p45 = rd10_df[(rd10_df['animrem']=='P45')&(rd10_df['genline']=='rd10')]['preproc_chirp'].values.shape[0]\n",
    "ncells_rd_p90 = rd10_df[(rd10_df['animrem']=='P90')&(rd10_df['genline']=='rd10')]['preproc_chirp'].values.shape[0]"
   ]
  },
  {
   "cell_type": "code",
   "execution_count": 13,
   "id": "8f7d7d9e-5ecc-4cc5-98a6-05829d6d4bd8",
   "metadata": {
    "tags": []
   },
   "outputs": [],
   "source": [
    "perc_clusters_wt_p30 = np.zeros(len(np.unique(rd10_df['celltype'])))\n",
    "perc_clusters_wt_p45 = np.zeros(len(np.unique(rd10_df['celltype'])))\n",
    "perc_clusters_wt_p90 = np.zeros(len(np.unique(rd10_df['celltype'])))\n",
    "\n",
    "perc_clusters_rd_p30 = np.zeros(len(np.unique(rd10_df['celltype'])))\n",
    "perc_clusters_rd_p45 = np.zeros(len(np.unique(rd10_df['celltype'])))\n",
    "perc_clusters_rd_p90 = np.zeros(len(np.unique(rd10_df['celltype'])))\n",
    "\n",
    "for i in range(len(perc_clusters_wt_p30)):\n",
    "    perc_clusters_wt_p30[i] = round((rd10_df[(rd10_df['celltype']==i+1)&(rd10_df['animrem']=='P30')&(rd10_df['genline']=='Bl6')]['preproc_chirp'].values.shape[0]) / ncells_wt_p30 * 100,2)\n",
    "    perc_clusters_wt_p45[i] = round((rd10_df[(rd10_df['celltype']==i+1)&(rd10_df['animrem']=='P45')&(rd10_df['genline']=='Bl6')]['preproc_chirp'].values.shape[0]) / ncells_wt_p45 * 100,2)\n",
    "    perc_clusters_wt_p90[i] = round((rd10_df[(rd10_df['celltype']==i+1)&(rd10_df['animrem']=='P90')&(rd10_df['genline']=='Bl6')]['preproc_chirp'].values.shape[0]) / ncells_wt_p30 * 100,2)\n",
    "\n",
    "    perc_clusters_rd_p30[i] = round((rd10_df[(rd10_df['celltype']==i+1)&(rd10_df['animrem']=='P30')&(rd10_df['genline']=='rd10')]['preproc_chirp'].values.shape[0]) / ncells_rd_p30 * 100,2)\n",
    "    perc_clusters_rd_p45[i] = round((rd10_df[(rd10_df['celltype']==i+1)&(rd10_df['animrem']=='P45')&(rd10_df['genline']=='rd10')]['preproc_chirp'].values.shape[0]) / ncells_rd_p45 * 100,2)\n",
    "    perc_clusters_rd_p90[i] = round((rd10_df[(rd10_df['celltype']==i+1)&(rd10_df['animrem']=='P90')&(rd10_df['genline']=='rd10')]['preproc_chirp'].values.shape[0]) / ncells_rd_p90 * 100,2)"
   ]
  },
  {
   "cell_type": "code",
   "execution_count": 14,
   "id": "4af4f942-f1d9-4294-b4e9-68ce51cfff11",
   "metadata": {
    "tags": []
   },
   "outputs": [
    {
     "name": "stderr",
     "output_type": "stream",
     "text": [
      "/tmp/ipykernel_7347/2743656913.py:1: RuntimeWarning: divide by zero encountered in divide\n",
      "  log_perc_p30 = np.log2((perc_clusters_rd_p30/perc_clusters_wt_p30))\n",
      "/tmp/ipykernel_7347/2743656913.py:3: RuntimeWarning: divide by zero encountered in log2\n",
      "  log_perc_p90 = np.log2((perc_clusters_rd_p90/perc_clusters_wt_p90))\n"
     ]
    }
   ],
   "source": [
    "log_perc_p30 = np.log2((perc_clusters_rd_p30/perc_clusters_wt_p30))\n",
    "log_perc_p45 = np.log2((perc_clusters_rd_p45/perc_clusters_wt_p45))\n",
    "log_perc_p90 = np.log2((perc_clusters_rd_p90/perc_clusters_wt_p90))\n",
    "\n",
    "log_perc_p90[np.isneginf(log_perc_p90)] = 0\n",
    "log_perc_p30[np.isinf(log_perc_p30)] = 0"
   ]
  },
  {
   "cell_type": "code",
   "execution_count": 16,
   "id": "a52d4540-f0dd-498b-acaf-2530f03d1d08",
   "metadata": {},
   "outputs": [],
   "source": [
    "colors = ['tab:red'] * 9 + ['gold'] * 5 + ['tab:green'] * 6 + ['tab:blue'] * 8 + ['purple'] * 4\n",
    "df_p30 = pd.DataFrame({'wt':perc_clusters_wt_p30[:32], 'rd10':perc_clusters_rd_p30[:32]},index=np.arange(1,33,1))\n",
    "df_p45 = pd.DataFrame({'wt':perc_clusters_wt_p45[:32], 'rd10':perc_clusters_rd_p45[:32]},index=np.arange(1,33,1))\n",
    "df_p90 = pd.DataFrame({'wt':perc_clusters_wt_p90[:32], 'rd10':perc_clusters_rd_p90[:32]},index=np.arange(1,33,1))\n",
    "\n",
    "df_log_roc_p30 = pd.DataFrame({'RoC':log_perc_p30[:32]},index=np.arange(1,33,1))\n",
    "df_log_roc_p45 = pd.DataFrame({'RoC':log_perc_p45[:32]},index=np.arange(1,33,1))\n",
    "df_log_roc_p90 = pd.DataFrame({'RoC':log_perc_p90[:32]},index=np.arange(1,33,1))\n",
    "\n",
    "df_log_roc_p30 = pd.DataFrame({'RoC':log_perc_p30[:32],'color':colors},index=np.arange(1,33,1))\n",
    "df_log_roc_p45 = pd.DataFrame({'RoC':log_perc_p45[:32],'color':colors},index=np.arange(1,33,1))\n",
    "df_log_roc_p90 = pd.DataFrame({'RoC':log_perc_p90[:32],'color':colors},index=np.arange(1,33,1))"
   ]
  },
  {
   "cell_type": "code",
   "execution_count": 17,
   "id": "c65cc2a3-fedd-4b10-8c5e-351f85e2df94",
   "metadata": {},
   "outputs": [],
   "source": [
    "df_roc_all = pd.DataFrame({'RoC_P30':log_perc_p30[:32],\n",
    "                           'RoC_P45':log_perc_p45[:32],\n",
    "                           'RoC_P90':log_perc_p90[:32],\n",
    "                           'celltype':np.arange(1,33,1),\n",
    "                           'color':colors},index=np.arange(1,33,1))"
   ]
  },
  {
   "cell_type": "code",
   "execution_count": 18,
   "id": "e8dfd58c-e339-46b8-9408-79c1efab75c4",
   "metadata": {},
   "outputs": [],
   "source": [
    "roc_all = np.zeros((32,3))\n",
    "for i in range(32):\n",
    "    roc_all[i,:] = df_roc_all[df_roc_all['celltype']==i+1].values[0][:3]\n",
    "    \n",
    "roc_all[np.isinf(roc_all)] = 0"
   ]
  },
  {
   "cell_type": "markdown",
   "id": "654836bf-65bb-4c57-841c-33e0307c2ef2",
   "metadata": {},
   "source": [
    "# ------------------------------------------------------------------------------------------------------------"
   ]
  },
  {
   "cell_type": "markdown",
   "id": "c2d576da-6bef-4521-b8c4-07281c58ed13",
   "metadata": {},
   "source": [
    "# Statistics: binomial test"
   ]
  },
  {
   "cell_type": "code",
   "execution_count": 19,
   "id": "c52ce446-6141-472f-bc73-e7e3b249830c",
   "metadata": {},
   "outputs": [],
   "source": [
    "n_rd10_cells_p30 = np.zeros(32)\n",
    "n_rd10_cells_p45 = np.zeros(32)\n",
    "n_rd10_cells_p90 = np.zeros(32)\n",
    "\n",
    "n_wt_cells_p30 = np.zeros(32)\n",
    "n_wt_cells_p45 = np.zeros(32)\n",
    "n_wt_cells_p90 = np.zeros(32)\n",
    "\n",
    "for i in range(32):\n",
    "    n_rd10_cells_p30[i] = np.array((rd10_df[(rd10_df['celltype']==i+1)&(rd10_df['animrem']=='P30')&(rd10_df['genline']=='rd10')]['preproc_chirp'].values.shape[0]))\n",
    "    n_rd10_cells_p45[i] = (rd10_df[(rd10_df['celltype']==i+1)&(rd10_df['animrem']=='P45')&(rd10_df['genline']=='rd10')]['preproc_chirp'].values.shape[0])\n",
    "    n_rd10_cells_p90[i] = (rd10_df[(rd10_df['celltype']==i+1)&(rd10_df['animrem']=='P90')&(rd10_df['genline']=='rd10')]['preproc_chirp'].values.shape[0])\n",
    "\n",
    "    n_wt_cells_p30[i] = (rd10_df[(rd10_df['celltype']==i+1)&(rd10_df['animrem']=='P30')&(rd10_df['genline']=='Bl6')]['preproc_chirp'].values.shape[0])\n",
    "    n_wt_cells_p45[i] = (rd10_df[(rd10_df['celltype']==i+1)&(rd10_df['animrem']=='P45')&(rd10_df['genline']=='Bl6')]['preproc_chirp'].values.shape[0])\n",
    "    n_wt_cells_p90[i] = (rd10_df[(rd10_df['celltype']==i+1)&(rd10_df['animrem']=='P90')&(rd10_df['genline']=='Bl6')]['preproc_chirp'].values.shape[0])"
   ]
  },
  {
   "cell_type": "code",
   "execution_count": 20,
   "id": "daeda640-ae5b-4624-acb3-ccf581171da0",
   "metadata": {},
   "outputs": [],
   "source": [
    "# Calculate expected proportions in wild-type\n",
    "p_wildtype_p30 = np.array(n_wt_cells_p30) / ncells_wt_p30\n",
    "p_wildtype_p45 = np.array(n_wt_cells_p45) / ncells_wt_p45\n",
    "p_wildtype_p90 = np.array(n_wt_cells_p90) / ncells_wt_p90"
   ]
  },
  {
   "cell_type": "code",
   "execution_count": 21,
   "id": "6e754c73-3741-4659-82e7-eb6d36eee46c",
   "metadata": {},
   "outputs": [],
   "source": [
    "# P30\n",
    "p_values_p30 = []\n",
    "for k_rd10, p_exp in zip(n_rd10_cells_p30.astype(int), p_wildtype_p30):\n",
    "    # Perform two-tailed binomial test\n",
    "    result = stats.binomtest(k_rd10, n=ncells_rd_p30, p=p_exp, alternative='two-sided')\n",
    "    p_values_p30.append(result.pvalue)\n",
    "    \n",
    "adjusted_p_values_p30 = multipletests(p_values_p30, alpha=0.01, method='fdr_bh')[1]  \n",
    "\n",
    "# P45\n",
    "p_values_p45 = []\n",
    "for k_rd10, p_exp in zip(n_rd10_cells_p45.astype(int), p_wildtype_p45):\n",
    "    # Perform two-tailed binomial test\n",
    "    result = stats.binomtest(k_rd10, n=ncells_rd_p45, p=p_exp, alternative='two-sided')\n",
    "    p_values_p45.append(result.pvalue)\n",
    "    \n",
    "adjusted_p_values_p45 = multipletests(p_values_p45, alpha=0.01, method='fdr_bh')[1]  \n",
    "\n",
    "\n",
    "# P30\n",
    "p_values_p90 = []\n",
    "for k_rd10, p_exp in zip(n_rd10_cells_p90.astype(int), p_wildtype_p90):\n",
    "    # Perform two-tailed binomial test\n",
    "    result = stats.binomtest(k_rd10, n=ncells_rd_p90, p=p_exp, alternative='two-sided')\n",
    "    p_values_p90.append(result.pvalue)\n",
    "    \n",
    "adjusted_p_values_p90 = multipletests(p_values_p90, alpha=0.01, method='fdr_bh')[1]  "
   ]
  },
  {
   "cell_type": "code",
   "execution_count": 22,
   "id": "a9ed23b8-7ae3-4b79-ba39-4fdfe5fc4a48",
   "metadata": {},
   "outputs": [],
   "source": [
    "rgc_types = [f\"RGC type {i}\" for i in range(1, 33)]"
   ]
  },
  {
   "cell_type": "code",
   "execution_count": 23,
   "id": "68bcdac7-c219-402b-9a9e-aae14876be9a",
   "metadata": {},
   "outputs": [
    {
     "name": "stdout",
     "output_type": "stream",
     "text": [
      "Cluster | Observed rd10 | Expected Proportion (wild-type) | P-value | Adjusted P-value | Significant\n",
      "RGC type 1 |          22.0 |                         0.0310 | 0.0000 | 0.0000 | Yes\n",
      "RGC type 2 |           5.0 |                         0.0105 | 0.0000 | 0.0001 | Yes\n",
      "RGC type 3 |           8.0 |                         0.0163 | 0.0000 | 0.0000 | Yes\n",
      "RGC type 4 |          18.0 |                         0.0205 | 0.0000 | 0.0001 | Yes\n",
      "RGC type 5 |           3.0 |                         0.0100 | 0.0000 | 0.0000 | Yes\n",
      "RGC type 6 |           2.0 |                         0.0016 | 0.7797 | 0.8603 | No\n",
      "RGC type 7 |           7.0 |                         0.0095 | 0.0015 | 0.0037 | Yes\n",
      "RGC type 8 |           3.0 |                         0.0026 | 0.3923 | 0.4650 | No\n",
      "RGC type 9 |           5.0 |                         0.0063 | 0.0183 | 0.0308 | No\n",
      "RGC type 10 |           9.0 |                         0.0089 | 0.0199 | 0.0318 | No\n",
      "RGC type 11 |          19.0 |                         0.0137 | 0.0739 | 0.0985 | No\n",
      "RGC type 12 |          19.0 |                         0.0089 | 0.9080 | 0.9685 | No\n",
      "RGC type 13 |           5.0 |                         0.0079 | 0.0019 | 0.0042 | Yes\n",
      "RGC type 14 |          57.0 |                         0.0378 | 0.0073 | 0.0130 | No\n",
      "RGC type 15 |          19.0 |                         0.0063 | 0.1282 | 0.1641 | No\n",
      "RGC type 16 |           8.0 |                         0.0042 | 1.0000 | 1.0000 | No\n",
      "RGC type 17 |         182.0 |                         0.0457 | 0.0000 | 0.0000 | Yes\n",
      "RGC type 18 |          42.0 |                         0.0089 | 0.0000 | 0.0000 | Yes\n",
      "RGC type 19 |          11.0 |                         0.0021 | 0.0061 | 0.0114 | No\n",
      "RGC type 20 |          30.0 |                         0.0142 | 1.0000 | 1.0000 | No\n",
      "RGC type 21 |          46.0 |                         0.0100 | 0.0000 | 0.0000 | Yes\n",
      "RGC type 22 |          56.0 |                         0.0336 | 0.0701 | 0.0976 | No\n",
      "RGC type 23 |          52.0 |                         0.0158 | 0.0022 | 0.0043 | Yes\n",
      "RGC type 24 |           9.0 |                         0.0037 | 0.5884 | 0.6725 | No\n",
      "RGC type 25 |           6.0 |                         0.0000 | 0.0000 | 0.0000 | Yes\n",
      "RGC type 26 |           8.0 |                         0.0011 | 0.0021 | 0.0043 | Yes\n",
      "RGC type 27 |          13.0 |                         0.0047 | 0.3376 | 0.4155 | No\n",
      "RGC type 28 |          28.0 |                         0.0084 | 0.0225 | 0.0343 | No\n",
      "RGC type 29 |          13.0 |                         0.0016 | 0.0000 | 0.0001 | Yes\n",
      "RGC type 30 |          16.0 |                         0.0179 | 0.0001 | 0.0003 | Yes\n",
      "RGC type 31 |         316.0 |                         0.1339 | 0.0410 | 0.0596 | No\n",
      "RGC type 32 |         409.0 |                         0.1623 | 0.0002 | 0.0004 | Yes\n"
     ]
    }
   ],
   "source": [
    "print(\"Cluster | Observed rd10 | Expected Proportion (wild-type) | P-value | Adjusted P-value | Significant\")\n",
    "for rgc_type, obs, exp, p_val, adj_p_val in zip(rgc_types, n_rd10_cells_p30, p_wildtype_p30, p_values_p30, adjusted_p_values_p30):\n",
    "    is_significant = \"Yes\" if adj_p_val < 0.01 else \"No\"\n",
    "    print(f\"{rgc_type:8} | {obs:13} | {exp:30.4f} | {p_val:.4f} | {adj_p_val:.4f} | {is_significant}\")"
   ]
  },
  {
   "cell_type": "code",
   "execution_count": 24,
   "id": "9813e659-79be-4797-a9aa-37fb8aac8c1d",
   "metadata": {},
   "outputs": [
    {
     "name": "stdout",
     "output_type": "stream",
     "text": [
      "Cluster | Observed rd10 | Expected Proportion (wild-type) | P-value | Adjusted P-value | Significant\n",
      "RGC type 1 |           4.0 |                         0.0197 | 0.0000 | 0.0000 | Yes\n",
      "RGC type 2 |           6.0 |                         0.0071 | 0.0059 | 0.0112 | No\n",
      "RGC type 3 |           7.0 |                         0.0096 | 0.0004 | 0.0008 | Yes\n",
      "RGC type 4 |          13.0 |                         0.0151 | 0.0000 | 0.0001 | Yes\n",
      "RGC type 5 |           5.0 |                         0.0050 | 0.0538 | 0.0817 | No\n",
      "RGC type 6 |           1.0 |                         0.0030 | 0.0129 | 0.0229 | No\n",
      "RGC type 7 |           6.0 |                         0.0066 | 0.0136 | 0.0229 | No\n",
      "RGC type 8 |           2.0 |                         0.0030 | 0.0562 | 0.0817 | No\n",
      "RGC type 9 |           3.0 |                         0.0076 | 0.0001 | 0.0001 | Yes\n",
      "RGC type 10 |          16.0 |                         0.0182 | 0.0000 | 0.0000 | Yes\n",
      "RGC type 11 |           8.0 |                         0.0197 | 0.0000 | 0.0000 | Yes\n",
      "RGC type 12 |          10.0 |                         0.0116 | 0.0004 | 0.0008 | Yes\n",
      "RGC type 13 |          17.0 |                         0.0096 | 0.3347 | 0.3967 | No\n",
      "RGC type 14 |          39.0 |                         0.0202 | 0.2993 | 0.3684 | No\n",
      "RGC type 15 |          27.0 |                         0.0020 | 0.0000 | 0.0000 | Yes\n",
      "RGC type 16 |          13.0 |                         0.0010 | 0.0000 | 0.0000 | Yes\n",
      "RGC type 17 |         167.0 |                         0.0393 | 0.0000 | 0.0000 | Yes\n",
      "RGC type 18 |          28.0 |                         0.0106 | 0.4749 | 0.5427 | No\n",
      "RGC type 19 |           5.0 |                         0.0020 | 0.8136 | 0.8679 | No\n",
      "RGC type 20 |          33.0 |                         0.0040 | 0.0000 | 0.0000 | Yes\n",
      "RGC type 21 |          73.0 |                         0.0126 | 0.0000 | 0.0000 | Yes\n",
      "RGC type 22 |          60.0 |                         0.0434 | 0.0000 | 0.0000 | Yes\n",
      "RGC type 23 |          52.0 |                         0.0383 | 0.0000 | 0.0001 | Yes\n",
      "RGC type 24 |           5.0 |                         0.0050 | 0.0538 | 0.0817 | No\n",
      "RGC type 25 |          11.0 |                         0.0076 | 0.1472 | 0.1962 | No\n",
      "RGC type 26 |           6.0 |                         0.0015 | 0.1712 | 0.2191 | No\n",
      "RGC type 27 |          18.0 |                         0.0081 | 1.0000 | 1.0000 | No\n",
      "RGC type 28 |          34.0 |                         0.0156 | 0.8013 | 0.8679 | No\n",
      "RGC type 29 |          15.0 |                         0.0066 | 1.0000 | 1.0000 | No\n",
      "RGC type 30 |          24.0 |                         0.0071 | 0.0611 | 0.0850 | No\n",
      "RGC type 31 |         338.0 |                         0.0656 | 0.0000 | 0.0000 | Yes\n",
      "RGC type 32 |         440.0 |                         0.1195 | 0.0000 | 0.0000 | Yes\n"
     ]
    }
   ],
   "source": [
    "print(\"Cluster | Observed rd10 | Expected Proportion (wild-type) | P-value | Adjusted P-value | Significant\")\n",
    "for rgc_type, obs, exp, p_val, adj_p_val in zip(rgc_types, n_rd10_cells_p45, p_wildtype_p45, p_values_p45, adjusted_p_values_p45):\n",
    "    is_significant = \"Yes\" if adj_p_val < 0.01 else \"No\"\n",
    "    print(f\"{rgc_type:8} | {obs:13} | {exp:30.4f} | {p_val:.4f} | {adj_p_val:.4f} | {is_significant}\")"
   ]
  },
  {
   "cell_type": "code",
   "execution_count": 25,
   "id": "b51a8160-49e8-44a0-bcbe-a8d89c894527",
   "metadata": {},
   "outputs": [
    {
     "name": "stdout",
     "output_type": "stream",
     "text": [
      "Cluster | Observed rd10 | Expected Proportion (wild-type) | P-value | Adjusted P-value | Significant\n",
      "RGC type 1 |           5.0 |                         0.0304 | 0.0000 | 0.0000 | Yes\n",
      "RGC type 2 |           2.0 |                         0.0110 | 0.0004 | 0.0010 | Yes\n",
      "RGC type 3 |           2.0 |                         0.0121 | 0.0001 | 0.0003 | Yes\n",
      "RGC type 4 |           2.0 |                         0.0199 | 0.0000 | 0.0000 | Yes\n",
      "RGC type 5 |           1.0 |                         0.0047 | 0.0531 | 0.0708 | No\n",
      "RGC type 6 |           0.0 |                         0.0026 | 0.0842 | 0.1037 | No\n",
      "RGC type 7 |           0.0 |                         0.0037 | 0.0271 | 0.0394 | No\n",
      "RGC type 8 |           2.0 |                         0.0026 | 0.7766 | 0.7766 | No\n",
      "RGC type 9 |           0.0 |                         0.0026 | 0.0842 | 0.1037 | No\n",
      "RGC type 10 |           5.0 |                         0.0184 | 0.0000 | 0.0001 | Yes\n",
      "RGC type 11 |           4.0 |                         0.0252 | 0.0000 | 0.0000 | Yes\n",
      "RGC type 12 |           5.0 |                         0.0142 | 0.0013 | 0.0028 | Yes\n",
      "RGC type 13 |           5.0 |                         0.0031 | 0.4379 | 0.4671 | No\n",
      "RGC type 14 |           9.0 |                         0.0257 | 0.0000 | 0.0000 | Yes\n",
      "RGC type 15 |          32.0 |                         0.0052 | 0.0000 | 0.0000 | Yes\n",
      "RGC type 16 |          11.0 |                         0.0042 | 0.0208 | 0.0333 | No\n",
      "RGC type 17 |         103.0 |                         0.0672 | 0.0131 | 0.0221 | No\n",
      "RGC type 18 |           9.0 |                         0.0142 | 0.0498 | 0.0693 | No\n",
      "RGC type 19 |           2.0 |                         0.0010 | 0.3601 | 0.3973 | No\n",
      "RGC type 20 |           4.0 |                         0.0126 | 0.0016 | 0.0033 | Yes\n",
      "RGC type 21 |          41.0 |                         0.0152 | 0.0000 | 0.0000 | Yes\n",
      "RGC type 22 |          37.0 |                         0.0488 | 0.0025 | 0.0048 | Yes\n",
      "RGC type 23 |          12.0 |                         0.0378 | 0.0000 | 0.0000 | Yes\n",
      "RGC type 24 |           1.0 |                         0.0058 | 0.0127 | 0.0221 | No\n",
      "RGC type 25 |           2.0 |                         0.0016 | 0.7151 | 0.7381 | No\n",
      "RGC type 26 |           1.0 |                         0.0052 | 0.0258 | 0.0393 | No\n",
      "RGC type 27 |          12.0 |                         0.0063 | 0.1389 | 0.1587 | No\n",
      "RGC type 28 |          23.0 |                         0.0058 | 0.0000 | 0.0000 | Yes\n",
      "RGC type 29 |           8.0 |                         0.0037 | 0.0917 | 0.1087 | No\n",
      "RGC type 30 |          27.0 |                         0.0084 | 0.0000 | 0.0000 | Yes\n",
      "RGC type 31 |         121.0 |                         0.1344 | 0.0004 | 0.0010 | Yes\n",
      "RGC type 32 |         168.0 |                         0.0814 | 0.0000 | 0.0000 | Yes\n"
     ]
    }
   ],
   "source": [
    "print(\"Cluster | Observed rd10 | Expected Proportion (wild-type) | P-value | Adjusted P-value | Significant\")\n",
    "for rgc_type, obs, exp, p_val, adj_p_val in zip(rgc_types, n_rd10_cells_p90, p_wildtype_p90, p_values_p90, adjusted_p_values_p90):\n",
    "    is_significant = \"Yes\" if adj_p_val < 0.01 else \"No\"\n",
    "    print(f\"{rgc_type:8} | {obs:13} | {exp:30.4f} | {p_val:.4f} | {adj_p_val:.4f} | {is_significant}\")"
   ]
  },
  {
   "cell_type": "markdown",
   "id": "3ce52fb7-a7f6-4c8b-b484-2f4ef444944b",
   "metadata": {},
   "source": [
    "# ------------------------------------------------------------------------------------------------------------"
   ]
  },
  {
   "cell_type": "markdown",
   "id": "dcf9e6d8-c5ec-4ebd-b987-8797f735dbf6",
   "metadata": {},
   "source": [
    "# Figures"
   ]
  },
  {
   "cell_type": "code",
   "execution_count": 26,
   "id": "54f81f4a-0944-4253-927f-25e350cc0b09",
   "metadata": {},
   "outputs": [
    {
     "name": "stderr",
     "output_type": "stream",
     "text": [
      "/tmp/ipykernel_7347/3658885332.py:9: SettingWithCopyWarning: \n",
      "A value is trying to be set on a copy of a slice from a DataFrame\n",
      "\n",
      "See the caveats in the documentation: https://pandas.pydata.org/pandas-docs/stable/user_guide/indexing.html#returning-a-view-versus-a-copy\n",
      "  rd10_all_df['genline'][missing_genline_idx]='rd10'\n"
     ]
    }
   ],
   "source": [
    "file_path = 'ADD_YOUR_PATH_TO_DATA_HERE-ALL_CELLS'\n",
    "rd10_all_df = pd.read_pickle(file_path)  \n",
    "# multiindex df to single index df\n",
    "rd10_all_df = rd10_all_df.reset_index(level=[0,1,2,3,4,5,6,7,8,9,10,11])\n",
    "# drop unnecessary keys\n",
    "rd10_all_df = rd10_all_df.drop(columns=['training_data_hash','classifier_params_hash','preprocess_id','condition','raw_id','gchirp','bar'])\n",
    "missing_genline_idx = np.where(rd10_all_df['genline']=='')[0]\n",
    "rd10_all_df['genline'][missing_genline_idx]='rd10'\n",
    "idx_p60 = np.where(rd10_all_df['animrem'].values=='P60')[0]\n",
    "rd10_all_df = rd10_all_df.drop(idx_p60)\n",
    "rd10_all_df = rd10_all_df.reset_index(drop=True)"
   ]
  },
  {
   "cell_type": "code",
   "execution_count": 27,
   "id": "2e815921-b8f3-4336-8927-d35820e3a402",
   "metadata": {},
   "outputs": [],
   "source": [
    "num_cells_wt_p30 = rd10_all_df[(rd10_all_df['genline']=='Bl6')&(rd10_all_df['animrem']=='P30')]['preproc_chirp'].values.shape[0]\n",
    "num_cells_rd_p30 = rd10_all_df[(rd10_all_df['genline']=='rd10')&(rd10_all_df['animrem']=='P30')]['preproc_chirp'].values.shape[0]\n",
    "\n",
    "num_cells_wt_p45 = rd10_all_df[(rd10_all_df['genline']=='Bl6')&(rd10_all_df['animrem']=='P45')]['preproc_chirp'].values.shape[0]\n",
    "num_cells_rd_p45 = rd10_all_df[(rd10_all_df['genline']=='rd10')&(rd10_all_df['animrem']=='P45')]['preproc_chirp'].values.shape[0]\n",
    "\n",
    "num_cells_wt_p90 = rd10_all_df[(rd10_all_df['genline']=='Bl6')&(rd10_all_df['animrem']=='P90')]['preproc_chirp'].values.shape[0]\n",
    "num_cells_rd_p90 = rd10_all_df[(rd10_all_df['genline']=='rd10')&(rd10_all_df['animrem']=='P90')]['preproc_chirp'].values.shape[0]"
   ]
  },
  {
   "cell_type": "code",
   "execution_count": 28,
   "id": "901bfc74-a1e3-488c-bfa4-bf101be76ee1",
   "metadata": {
    "tags": []
   },
   "outputs": [],
   "source": [
    "perc_clusters_wt_p30 = np.zeros(len(np.unique(rd10_df['celltype'])))\n",
    "perc_clusters_wt_p45 = np.zeros(len(np.unique(rd10_df['celltype'])))\n",
    "perc_clusters_wt_p90 = np.zeros(len(np.unique(rd10_df['celltype'])))\n",
    "\n",
    "perc_clusters_rd_p30 = np.zeros(len(np.unique(rd10_df['celltype'])))\n",
    "perc_clusters_rd_p45 = np.zeros(len(np.unique(rd10_df['celltype'])))\n",
    "perc_clusters_rd_p90 = np.zeros(len(np.unique(rd10_df['celltype'])))\n",
    "\n",
    "for i in range(len(perc_clusters_wt_p30)):\n",
    "    perc_clusters_wt_p30[i] = round((rd10_df[(rd10_df['celltype']==i+1)&(rd10_df['animrem']=='P30')&(rd10_df['genline']=='Bl6')]['preproc_chirp'].values.shape[0]) / num_cells_wt_p30 * 100,2)\n",
    "    perc_clusters_wt_p45[i] = round((rd10_df[(rd10_df['celltype']==i+1)&(rd10_df['animrem']=='P45')&(rd10_df['genline']=='Bl6')]['preproc_chirp'].values.shape[0]) / num_cells_wt_p45 * 100,2)\n",
    "    perc_clusters_wt_p90[i] = round((rd10_df[(rd10_df['celltype']==i+1)&(rd10_df['animrem']=='P90')&(rd10_df['genline']=='Bl6')]['preproc_chirp'].values.shape[0]) / num_cells_wt_p90 * 100,2)\n",
    "\n",
    "    perc_clusters_rd_p30[i] = round((rd10_df[(rd10_df['celltype']==i+1)&(rd10_df['animrem']=='P30')&(rd10_df['genline']=='rd10')]['preproc_chirp'].values.shape[0]) / num_cells_rd_p30 * 100,2)\n",
    "    perc_clusters_rd_p45[i] = round((rd10_df[(rd10_df['celltype']==i+1)&(rd10_df['animrem']=='P45')&(rd10_df['genline']=='rd10')]['preproc_chirp'].values.shape[0]) / num_cells_rd_p45 * 100,2)\n",
    "    perc_clusters_rd_p90[i] = round((rd10_df[(rd10_df['celltype']==i+1)&(rd10_df['animrem']=='P90')&(rd10_df['genline']=='rd10')]['preproc_chirp'].values.shape[0]) / num_cells_rd_p90 * 100,2)"
   ]
  },
  {
   "cell_type": "code",
   "execution_count": 29,
   "id": "8472d87d-502b-4be1-9964-dec10d207a19",
   "metadata": {},
   "outputs": [
    {
     "name": "stderr",
     "output_type": "stream",
     "text": [
      "/tmp/ipykernel_7347/945566527.py:5: RuntimeWarning: divide by zero encountered in divide\n",
      "  log_perc_p30 = np.log2((perc_clusters_rd_p30/perc_clusters_wt_p30))\n",
      "/tmp/ipykernel_7347/945566527.py:7: RuntimeWarning: divide by zero encountered in log2\n",
      "  log_perc_p90 = np.log2((perc_clusters_rd_p90/perc_clusters_wt_p90))\n"
     ]
    }
   ],
   "source": [
    "df_p30 = pd.DataFrame({'wt':perc_clusters_wt_p30[:32], 'rd10':perc_clusters_rd_p30[:32]},index=np.arange(1,33,1))\n",
    "df_p45 = pd.DataFrame({'wt':perc_clusters_wt_p45[:32], 'rd10':perc_clusters_rd_p45[:32]},index=np.arange(1,33,1))\n",
    "df_p90 = pd.DataFrame({'wt':perc_clusters_wt_p90[:32], 'rd10':perc_clusters_rd_p90[:32]},index=np.arange(1,33,1))\n",
    "\n",
    "log_perc_p30 = np.log2((perc_clusters_rd_p30/perc_clusters_wt_p30))\n",
    "log_perc_p45 = np.log2((perc_clusters_rd_p45/perc_clusters_wt_p45))\n",
    "log_perc_p90 = np.log2((perc_clusters_rd_p90/perc_clusters_wt_p90))\n",
    "\n",
    "log_perc_p90[np.isneginf(log_perc_p90)] = 0\n",
    "log_perc_p30[np.isinf(log_perc_p30)] = 0\n",
    "\n",
    "df_log_roc_p30 = pd.DataFrame({'RoC':log_perc_p30[:32]},index=np.arange(1,33,1))\n",
    "df_log_roc_p45 = pd.DataFrame({'RoC':log_perc_p45[:32]},index=np.arange(1,33,1))\n",
    "df_log_roc_p90 = pd.DataFrame({'RoC':log_perc_p90[:32]},index=np.arange(1,33,1))"
   ]
  },
  {
   "cell_type": "code",
   "execution_count": 30,
   "id": "a3926143-1079-4efa-b139-8a7e8d8cefd5",
   "metadata": {
    "tags": []
   },
   "outputs": [
    {
     "data": {
      "image/png": "[encoded data removed]",
      "text/plain": [
       "<Figure size 1500x400 with 6 Axes>"
      ]
     },
     "metadata": {},
     "output_type": "display_data"
    }
   ],
   "source": [
    "fig,ax=plt.subplots(2,3,figsize=(15,4))\n",
    "\n",
    "df_p30.plot(kind=\"bar\",alpha=0.7,edgecolor='black',color=['gray','magenta'],rot=0,width=0.8,ax=ax[0,0],legend=False)\n",
    "ax[0,0].set_ylabel('% of cells',fontsize=8)\n",
    "ax[0,0].set_xlabel('RGC type',fontsize=8)\n",
    "ax[0,0].tick_params(axis='both', which='major', labelsize=6)\n",
    "#ax[0,0].spines['left'].set_position(('outward', 10))\n",
    "for axis in ['left']:\n",
    "    ax[0,0].spines[axis].set_linewidth(1.)\n",
    "ax[0,0].spines['bottom'].set_visible(False)  \n",
    "\n",
    "axes = df_log_roc_p30.plot(kind=\"bar\",alpha=0.7,edgecolor='black',rot=0,width=0.8,ax=ax[1,0],legend=False)\n",
    "ax[1,0].set_ylabel('log2(%rd10/%WT)',fontsize=8)\n",
    "ax[1,0].set_xlabel('RGC type',fontsize=8)\n",
    "ax[1,0].tick_params(axis='both', which='major', labelsize=6)\n",
    "#ax[1,0].spines['left'].set_position(('outward', 10))\n",
    "#ax[1,0].spines['bottom'].set_position(('outward', 10))\n",
    "for axis in ['bottom','left']:\n",
    "    ax[1,0].spines[axis].set_linewidth(1.)\n",
    "ax[1,0].set_ylim(-5,4)    \n",
    "\n",
    "\n",
    "for i, bar in enumerate(axes.patches):  # ax.patches contains all the bars\n",
    "    if 1 <= i+1 <= 9:\n",
    "        bar.set_color('tab:red')  # 1-9 in blue\n",
    "    elif 10 <= i+1 <= 14:\n",
    "        bar.set_color('gold')  # 10-14 in green\n",
    "    elif 15 <= i+1 <= 20:\n",
    "        bar.set_color('tab:green')  # 10-14 in green\n",
    "    elif 21 <= i+1 <= 28:\n",
    "        bar.set_color('tab:blue')  # 10-14 in green\n",
    "    elif 29 <= i+1 <= 32:\n",
    "        bar.set_color('purple')  # 10-14 in green    \n",
    "\n",
    "        \n",
    "# P45\n",
    "df_p45.plot(kind=\"bar\",alpha=0.7,edgecolor='black',color=['gray','magenta'],rot=0,width=0.8,ax=ax[0,1],legend=False)\n",
    "ax[0,1].set_ylabel('% of cells',fontsize=8)\n",
    "ax[0,1].set_xlabel('RGC type',fontsize=8)\n",
    "ax[0,1].tick_params(axis='both', which='major', labelsize=6)\n",
    "#ax[0,1].spines['left'].set_position(('outward', 10))\n",
    "for axis in ['left']:\n",
    "    ax[0,1].spines[axis].set_linewidth(1.)\n",
    "ax[0,1].spines['bottom'].set_visible(False)  \n",
    "\n",
    "axes2 = df_log_roc_p45.plot(kind=\"bar\",alpha=0.7,edgecolor='black',rot=0,width=0.8,ax=ax[1,1],legend=False)\n",
    "ax[1,1].set_ylabel('log2(%rd10/%WT)',fontsize=8)\n",
    "ax[1,1].set_xlabel('RGC type',fontsize=8)\n",
    "ax[1,1].tick_params(axis='both', which='major', labelsize=6)\n",
    "#ax[1,1].spines['left'].set_position(('outward', 10))\n",
    "#ax[1,1].spines['bottom'].set_position(('outward', 10))\n",
    "for axis in ['bottom','left']:\n",
    "    ax[1,1].spines[axis].set_linewidth(1.)\n",
    "ax[1,1].set_ylim(-5,4)    \n",
    "        \n",
    "        \n",
    "for i, bar in enumerate(axes2.patches):  # ax.patches contains all the bars\n",
    "    if 1 <= i+1 <= 9:\n",
    "        bar.set_color('tab:red')  # 1-9 in blue\n",
    "    elif 10 <= i+1 <= 14:\n",
    "        bar.set_color('gold')  # 10-14 in green\n",
    "    elif 15 <= i+1 <= 20:\n",
    "        bar.set_color('tab:green')  # 10-14 in green\n",
    "    elif 21 <= i+1 <= 28:\n",
    "        bar.set_color('tab:blue')  # 10-14 in green\n",
    "    elif 29 <= i+1 <= 32:\n",
    "        bar.set_color('purple')  # 10-14 in green            \n",
    "        \n",
    "        \n",
    "# P90\n",
    "df_p90.plot(kind=\"bar\",alpha=0.7,edgecolor='black',color=['gray','magenta'],rot=0,width=0.8,ax=ax[0,2],legend=False)\n",
    "ax[0,2].set_ylabel('% of cells',fontsize=8)\n",
    "ax[0,2].set_xlabel('RGC type',fontsize=8)\n",
    "ax[0,2].tick_params(axis='both', which='major', labelsize=6)\n",
    "#ax[0,2].spines['left'].set_position(('outward', 10))\n",
    "for axis in ['left']:\n",
    "    ax[0,2].spines[axis].set_linewidth(1.)\n",
    "ax[0,2].spines['bottom'].set_visible(False)  \n",
    "\n",
    "axes3 = df_log_roc_p90.plot(kind=\"bar\",alpha=0.7,edgecolor='black',rot=0,width=0.8,ax=ax[1,2],legend=False)\n",
    "ax[1,2].set_ylabel('log2(%rd10/%WT)',fontsize=8)\n",
    "ax[1,2].set_xlabel('RGC type',fontsize=8)\n",
    "ax[1,2].tick_params(axis='both', which='major', labelsize=6)\n",
    "#ax[1,2].spines['left'].set_position(('outward', 10))\n",
    "#ax[1,2].spines['bottom'].set_position(('outward', 10))\n",
    "for axis in ['bottom','left']:\n",
    "    ax[1,2].spines[axis].set_linewidth(1.)\n",
    "ax[1,2].set_ylim(-5,4)    \n",
    "\n",
    "ax[0,0].set_ylim(0,9.5)    \n",
    "ax[0,1].set_ylim(0,9.5)    \n",
    "ax[0,2].set_ylim(0,9.5)    \n",
    "\n",
    "        \n",
    "for i, bar in enumerate(axes3.patches):  # ax.patches contains all the bars\n",
    "    if 1 <= i+1 <= 9:\n",
    "        bar.set_color('tab:red')  # 1-9 in blue\n",
    "    elif 10 <= i+1 <= 14:\n",
    "        bar.set_color('gold')  # 10-14 in green\n",
    "    elif 15 <= i+1 <= 20:\n",
    "        bar.set_color('tab:green')  # 10-14 in green\n",
    "    elif 21 <= i+1 <= 28:\n",
    "        bar.set_color('tab:blue')  # 10-14 in green\n",
    "    elif 29 <= i+1 <= 32:\n",
    "        bar.set_color('purple')  # 10-14 in green           \n",
    "        \n",
    "ax[0,0].set_title('P30',fontsize=8)        \n",
    "ax[0,1].set_title('P45',fontsize=8)        \n",
    "ax[0,2].set_title('P90',fontsize=8)        \n",
    " \n",
    "sns.despine()\n",
    "fig.tight_layout()"
   ]
  },
  {
   "cell_type": "code",
   "execution_count": 31,
   "id": "323a454a-9c07-4484-ae84-d6ea0920f4a3",
   "metadata": {},
   "outputs": [],
   "source": [
    "df_roc_all = pd.DataFrame({'RoC_P30':log_perc_p30[:32],\n",
    "                           'RoC_P45':log_perc_p45[:32],\n",
    "                           'RoC_P90':log_perc_p90[:32],\n",
    "                           'celltype':np.arange(1,33,1),\n",
    "                           'color':colors},index=np.arange(1,33,1))"
   ]
  },
  {
   "cell_type": "code",
   "execution_count": 32,
   "id": "80bff47d-2a33-4b66-b37c-b9cb2e71ee55",
   "metadata": {},
   "outputs": [],
   "source": [
    "roc_all = np.zeros((32,3))\n",
    "for i in range(32):\n",
    "    roc_all[i,:] = df_roc_all[df_roc_all['celltype']==i+1].values[0][:3]\n",
    "    \n",
    "roc_all[np.isinf(roc_all)] = 0"
   ]
  },
  {
   "cell_type": "code",
   "execution_count": 33,
   "id": "eb74b568-829f-4162-80bc-05ce67fa1873",
   "metadata": {},
   "outputs": [],
   "source": [
    "std_off = np.zeros(3)\n",
    "std_off[0] = np.std(roc_all[0:9,0],axis=0)\n",
    "std_off[1] = np.std(roc_all[0:9,1],axis=0)\n",
    "std_off[2] = np.std(roc_all[0:9,2][roc_all[0:9,2]!=0],axis=0)\n",
    "\n",
    "std_slow_on = np.zeros(3)\n",
    "std_slow_on[0] = np.std(roc_all[20:28,0][roc_all[20:28,2]!=0],axis=0)\n",
    "std_slow_on[1] = np.std(roc_all[20:28,1],axis=0)\n",
    "std_slow_on[2] = np.std(roc_all[20:28,2],axis=0)\n",
    "\n",
    "\n",
    "mean_off = np.zeros(3)\n",
    "mean_off[0] = np.mean(roc_all[0:9,0],axis=0)\n",
    "mean_off[1] = np.mean(roc_all[0:9,1],axis=0)\n",
    "mean_off[2] = np.mean(roc_all[0:9,2][roc_all[0:9,2]!=0],axis=0)\n",
    "\n",
    "mean_slow_on = np.zeros(3)\n",
    "mean_slow_on[0] = np.mean(roc_all[20:28,0][roc_all[20:28,2]!=0],axis=0)\n",
    "mean_slow_on[1] = np.mean(roc_all[20:28,1],axis=0)\n",
    "mean_slow_on[2] = np.mean(roc_all[20:28,2],axis=0)"
   ]
  },
  {
   "cell_type": "code",
   "execution_count": 34,
   "id": "52c30996-8c94-46f9-bafe-b65c182954dd",
   "metadata": {
    "tags": []
   },
   "outputs": [
    {
     "data": {
      "image/png": "[encoded data removed]",
      "text/plain": [
       "<Figure size 1000x200 with 5 Axes>"
      ]
     },
     "metadata": {},
     "output_type": "display_data"
    }
   ],
   "source": [
    "fig,ax=plt.subplots(1,5,figsize=(10,2),sharey=True)\n",
    "\n",
    "for i in np.arange(0,9,1):\n",
    "#for i in np.where(roc_all[0:9,2]!=0)[0]:  \n",
    "    ax[0].plot(roc_all[i,:],color='gray',alpha=0.3)\n",
    "\n",
    "for i in np.arange(9,14,1):\n",
    "    ax[1].plot(roc_all[i,:],color='gray',alpha=0.3)    \n",
    "\n",
    "for i in np.arange(14,20,1):\n",
    "    ax[2].plot(roc_all[i,:],color='gray',alpha=0.3) \n",
    "\n",
    "for i in np.arange(20,28,1):\n",
    "    ax[3].plot(roc_all[i,:],color='gray',alpha=0.3) \n",
    "    \n",
    "for i in np.arange(28,32,1):\n",
    "    ax[4].plot(roc_all[i,:],color='gray',alpha=0.3) \n",
    "    \n",
    "ax[0].errorbar(np.arange(0,3,1),mean_off,yerr=std_off,color='tab:red',lw=2)\n",
    "ax[1].errorbar(np.arange(0,3,1),np.mean(roc_all[9:14,:],axis=0),yerr=np.std(roc_all[9:14,:],axis=0),color='gold',lw=2)\n",
    "ax[2].errorbar(np.arange(0,3,1),np.mean(roc_all[14:20,:],axis=0),yerr=np.std(roc_all[14:20,:],axis=0),color='tab:green',lw=2)\n",
    "#ax[3].errorbar(np.arange(0,3,1),np.mean(roc_all[20:28,:],axis=0),yerr=np.std(roc_all[20:28,:],axis=0),color='tab:blue',lw=2)\n",
    "ax[3].errorbar(np.arange(0,3,1),mean_slow_on,yerr=std_slow_on,color='tab:blue',lw=2)\n",
    "ax[4].errorbar(np.arange(0,3,1),np.mean(roc_all[28:,:],axis=0),yerr=np.std(roc_all[28:,:],axis=0),color='purple',lw=2)\n",
    "\n",
    "\n",
    "ax[0].set_title('Off',fontsize=8)\n",
    "ax[1].set_title('On-Off',fontsize=8)\n",
    "ax[2].set_title('Fast On',fontsize=8)\n",
    "ax[3].set_title('Slow On',fontsize=8)\n",
    "ax[4].set_title('Uncertain RGCs',fontsize=8)\n",
    "\n",
    "\n",
    "xticks = [0,1,2]  # Set your x-ticks positions here\n",
    "xtick_labels = ['P30', 'P45', 'P90']  # Set your custom labels here\n",
    "\n",
    "for i in range(5):\n",
    "    ax[i].set_xticks(ticks=xticks, labels=xtick_labels,fontsize=8)\n",
    "    ax[i].tick_params(axis='both', which='major', labelsize=10)  # Adjust 'labelsize' as needed\n",
    "    ax[i].axhline(0,ls='--',lw=0.75,color='k')\n",
    "\n",
    "sns.despine()\n",
    "fig.tight_layout()"
   ]
  },
  {
   "cell_type": "markdown",
   "id": "3491864c-5456-4938-9c0e-1e2f16640237",
   "metadata": {},
   "source": [
    "## Statistics"
   ]
  },
  {
   "cell_type": "markdown",
   "id": "8e9892cc-4a27-4e3f-89ef-a10588a0f419",
   "metadata": {},
   "source": [
    "### OFF"
   ]
  },
  {
   "cell_type": "code",
   "execution_count": 35,
   "id": "12b0dc22-4f11-4669-904c-be53a806a801",
   "metadata": {},
   "outputs": [],
   "source": [
    "off_p30 = roc_all[0:9,0]\n",
    "off_p45 = roc_all[0:9,1]\n",
    "off_p90 = roc_all[0:9,2]"
   ]
  },
  {
   "cell_type": "code",
   "execution_count": 36,
   "id": "522dc68e-5a86-4af9-97a3-b5b2a62afff6",
   "metadata": {},
   "outputs": [
    {
     "name": "stdout",
     "output_type": "stream",
     "text": [
      "ANOVA F-value: 2.0006515724547644, p-value: 0.1571795281365119\n"
     ]
    }
   ],
   "source": [
    "f_value, p_value = stats.f_oneway(off_p30, off_p45, off_p90)\n",
    "print(f'ANOVA F-value: {f_value}, p-value: {p_value}')"
   ]
  },
  {
   "cell_type": "code",
   "execution_count": 37,
   "id": "0f4d99f5-6568-40cf-97b8-d521545c3f31",
   "metadata": {},
   "outputs": [
    {
     "name": "stdout",
     "output_type": "stream",
     "text": [
      "No significant differences found among the groups.\n"
     ]
    }
   ],
   "source": [
    "if p_value < 0.05:\n",
    "    print(\"Significant differences found, proceeding with Tukey's HSD test.\")\n",
    "\n",
    "    # Combine the groups into a single data array and corresponding labels\n",
    "    data = np.concatenate([off_p30, off_p45, off_p90])\n",
    "    labels = ['Group 1'] * len(off_p30) + ['Group 2'] * len(off_p45) + ['Group 3'] * len(off_p90)\n",
    "\n",
    "    # Perform Tukey's HSD test\n",
    "    tukey_result = pairwise_tukeyhsd(endog=data, groups=labels, alpha=0.05)\n",
    "    print(tukey_result)\n",
    "else:\n",
    "    print(\"No significant differences found among the groups.\")"
   ]
  },
  {
   "cell_type": "markdown",
   "id": "058bdeee-5ee5-446a-a13b-0b41aa068c0b",
   "metadata": {},
   "source": [
    "### ON-OFF"
   ]
  },
  {
   "cell_type": "code",
   "execution_count": 38,
   "id": "46fe6709-104a-46b7-938d-91f80b102db4",
   "metadata": {},
   "outputs": [],
   "source": [
    "on_off_p30 = roc_all[9:14,0]\n",
    "on_off_p45 = roc_all[9:14,1]\n",
    "on_off_p90 = roc_all[9:14,2]"
   ]
  },
  {
   "cell_type": "code",
   "execution_count": 39,
   "id": "74a85cfa-4dbb-4a59-b3a7-bc5e50abf51e",
   "metadata": {},
   "outputs": [
    {
     "name": "stdout",
     "output_type": "stream",
     "text": [
      "ANOVA F-value: 7.187702536812987, p-value: 0.008869367430730055\n"
     ]
    }
   ],
   "source": [
    "f_value, p_value = stats.f_oneway(on_off_p30, on_off_p45, on_off_p90)\n",
    "print(f'ANOVA F-value: {f_value}, p-value: {p_value}')"
   ]
  },
  {
   "cell_type": "code",
   "execution_count": 40,
   "id": "b4da1a81-c598-4594-b401-48f765956258",
   "metadata": {},
   "outputs": [
    {
     "name": "stdout",
     "output_type": "stream",
     "text": [
      "Significant differences found, proceeding with Tukey's HSD test.\n",
      " Multiple Comparison of Means - Tukey HSD, FWER=0.05  \n",
      "======================================================\n",
      " group1  group2 meandiff p-adj   lower   upper  reject\n",
      "------------------------------------------------------\n",
      "Group 1 Group 2  -1.1322  0.191 -2.7516  0.4872  False\n",
      "Group 1 Group 3  -2.3014 0.0067 -3.9208 -0.6819   True\n",
      "Group 2 Group 3  -1.1692 0.1738 -2.7886  0.4502  False\n",
      "------------------------------------------------------\n"
     ]
    }
   ],
   "source": [
    "if p_value < 0.05:\n",
    "    print(\"Significant differences found, proceeding with Tukey's HSD test.\")\n",
    "\n",
    "    # Combine the groups into a single data array and corresponding labels\n",
    "    data = np.concatenate([on_off_p30, on_off_p45, on_off_p90])\n",
    "    labels = ['Group 1'] * len(on_off_p30) + ['Group 2'] * len(on_off_p45) + ['Group 3'] * len(on_off_p90)\n",
    "\n",
    "    # Perform Tukey's HSD test\n",
    "    tukey_result = pairwise_tukeyhsd(endog=data, groups=labels, alpha=0.05)\n",
    "    print(tukey_result)\n",
    "else:\n",
    "    print(\"No significant differences found among the groups.\")"
   ]
  },
  {
   "cell_type": "markdown",
   "id": "7c580471-82f3-4c51-8512-4c01654ac1ee",
   "metadata": {},
   "source": [
    "### FAST ON"
   ]
  },
  {
   "cell_type": "code",
   "execution_count": 41,
   "id": "432c774c-7185-4552-9be7-633226f26d87",
   "metadata": {},
   "outputs": [],
   "source": [
    "fast_on_p30 = roc_all[14:20,0]\n",
    "fast_on_p45 = roc_all[14:20,1]\n",
    "fast_on_p90 = roc_all[14:20,2]"
   ]
  },
  {
   "cell_type": "code",
   "execution_count": 42,
   "id": "d472482d-c979-4c0f-a64d-f9318c456c71",
   "metadata": {},
   "outputs": [
    {
     "name": "stdout",
     "output_type": "stream",
     "text": [
      "ANOVA F-value: 4.699681689556895, p-value: 0.026022303057256297\n"
     ]
    }
   ],
   "source": [
    "f_value, p_value = stats.f_oneway(fast_on_p30, fast_on_p45, fast_on_p90)\n",
    "print(f'ANOVA F-value: {f_value}, p-value: {p_value}')"
   ]
  },
  {
   "cell_type": "code",
   "execution_count": 43,
   "id": "832e3328-0241-4319-888b-cf0b332845c0",
   "metadata": {},
   "outputs": [
    {
     "name": "stdout",
     "output_type": "stream",
     "text": [
      "Significant differences found, proceeding with Tukey's HSD test.\n",
      " Multiple Comparison of Means - Tukey HSD, FWER=0.05  \n",
      "======================================================\n",
      " group1  group2 meandiff p-adj   lower   upper  reject\n",
      "------------------------------------------------------\n",
      "Group 1 Group 2   0.0297 0.9989 -1.6644  1.7238  False\n",
      "Group 1 Group 3  -1.7166 0.0468 -3.4107 -0.0225   True\n",
      "Group 2 Group 3  -1.7463 0.0429 -3.4404 -0.0523   True\n",
      "------------------------------------------------------\n"
     ]
    }
   ],
   "source": [
    "if p_value < 0.05:\n",
    "    print(\"Significant differences found, proceeding with Tukey's HSD test.\")\n",
    "\n",
    "    # Combine the groups into a single data array and corresponding labels\n",
    "    data = np.concatenate([fast_on_p30, fast_on_p45, fast_on_p90])\n",
    "    labels = ['Group 1'] * len(fast_on_p30) + ['Group 2'] * len(fast_on_p45) + ['Group 3'] * len(fast_on_p90)\n",
    "\n",
    "    # Perform Tukey's HSD test\n",
    "    tukey_result = pairwise_tukeyhsd(endog=data, groups=labels, alpha=0.05)\n",
    "    print(tukey_result)\n",
    "else:\n",
    "    print(\"No significant differences found among the groups.\")"
   ]
  },
  {
   "cell_type": "markdown",
   "id": "5654b5f1-aa9c-4f1d-b4d7-1ad0e9b9ae16",
   "metadata": {},
   "source": [
    "### SLOW ON"
   ]
  },
  {
   "cell_type": "code",
   "execution_count": 44,
   "id": "d91311c3-7b99-457e-96e0-5fc003825108",
   "metadata": {},
   "outputs": [],
   "source": [
    "slow_on_p30 = roc_all[20:28,0]\n",
    "slow_on_p45 = roc_all[20:28,1]\n",
    "slow_on_p90 = roc_all[20:28,2]"
   ]
  },
  {
   "cell_type": "code",
   "execution_count": 45,
   "id": "b5d32fbb-d425-403c-8d32-a496586c8d5e",
   "metadata": {},
   "outputs": [
    {
     "name": "stdout",
     "output_type": "stream",
     "text": [
      "ANOVA F-value: 8.105007143246247, p-value: 0.0024624890538576145\n"
     ]
    }
   ],
   "source": [
    "f_value, p_value = stats.f_oneway(slow_on_p30, slow_on_p45, slow_on_p90)\n",
    "print(f'ANOVA F-value: {f_value}, p-value: {p_value}')"
   ]
  },
  {
   "cell_type": "code",
   "execution_count": 46,
   "id": "cfd73676-2563-4677-ae26-54b96d92abc2",
   "metadata": {},
   "outputs": [
    {
     "name": "stdout",
     "output_type": "stream",
     "text": [
      "Significant differences found, proceeding with Tukey's HSD test.\n",
      " Multiple Comparison of Means - Tukey HSD, FWER=0.05  \n",
      "======================================================\n",
      " group1  group2 meandiff p-adj   lower   upper  reject\n",
      "------------------------------------------------------\n",
      "Group 1 Group 2  -1.4461 0.0924 -3.0943  0.2021  False\n",
      "Group 1 Group 3  -2.6283 0.0017 -4.2765 -0.9801   True\n",
      "Group 2 Group 3  -1.1822 0.1914 -2.8304   0.466  False\n",
      "------------------------------------------------------\n"
     ]
    }
   ],
   "source": [
    "if p_value < 0.05:\n",
    "    print(\"Significant differences found, proceeding with Tukey's HSD test.\")\n",
    "\n",
    "    # Combine the groups into a single data array and corresponding labels\n",
    "    data = np.concatenate([slow_on_p30, slow_on_p45, slow_on_p90])\n",
    "    labels = ['Group 1'] * len(slow_on_p30) + ['Group 2'] * len(slow_on_p45) + ['Group 3'] * len(slow_on_p90)\n",
    "\n",
    "    # Perform Tukey's HSD test\n",
    "    tukey_result = pairwise_tukeyhsd(endog=data, groups=labels, alpha=0.05)\n",
    "    print(tukey_result)\n",
    "else:\n",
    "    print(\"No significant differences found among the groups.\")"
   ]
  },
  {
   "cell_type": "markdown",
   "id": "049c1494-7acd-4f19-ae70-f5af27bafcc6",
   "metadata": {},
   "source": [
    "### UNC. RGCs"
   ]
  },
  {
   "cell_type": "code",
   "execution_count": 47,
   "id": "b9f62167-15d7-4347-9a01-ffcba8adfa2a",
   "metadata": {},
   "outputs": [],
   "source": [
    "urgc_p30 = roc_all[28:,0]\n",
    "urgc_p45 = roc_all[28:,1]\n",
    "urgc_p90 = roc_all[28:,2]"
   ]
  },
  {
   "cell_type": "code",
   "execution_count": 48,
   "id": "4dffeef6-5b12-4e24-b32f-ae38556ae5a8",
   "metadata": {},
   "outputs": [
    {
     "name": "stdout",
     "output_type": "stream",
     "text": [
      "ANOVA F-value: 1.250930542370909, p-value: 0.33161545389589936\n"
     ]
    }
   ],
   "source": [
    "f_value, p_value = stats.f_oneway(urgc_p30, urgc_p45, urgc_p90)\n",
    "print(f'ANOVA F-value: {f_value}, p-value: {p_value}')"
   ]
  },
  {
   "cell_type": "code",
   "execution_count": 49,
   "id": "2b83c3cd-63d2-4a0f-bca0-432a3c46af74",
   "metadata": {},
   "outputs": [
    {
     "name": "stdout",
     "output_type": "stream",
     "text": [
      "No significant differences found among the groups.\n"
     ]
    }
   ],
   "source": [
    "if p_value < 0.05:\n",
    "    print(\"Significant differences found, proceeding with Tukey's HSD test.\")\n",
    "\n",
    "    # Combine the groups into a single data array and corresponding labels\n",
    "    data = np.concatenate([urgc_p30, urgc_p45, urgc_p90])\n",
    "    labels = ['Group 1'] * len(urgc_p30) + ['Group 2'] * len(urgc_p45) + ['Group 3'] * len(urgc_p90)\n",
    "\n",
    "    # Perform Tukey's HSD test\n",
    "    tukey_result = pairwise_tukeyhsd(endog=data, groups=labels, alpha=0.05)\n",
    "    print(tukey_result)\n",
    "else:\n",
    "    print(\"No significant differences found among the groups.\")"
   ]
  },
  {
   "cell_type": "markdown",
   "id": "fbc118b5-781e-4f15-b706-0c32b2d30d35",
   "metadata": {},
   "source": [
    "## DS/Non-DS cells"
   ]
  },
  {
   "cell_type": "code",
   "execution_count": 50,
   "id": "c1451670-2a7b-4a5a-91dd-b894b174f8c7",
   "metadata": {},
   "outputs": [
    {
     "name": "stderr",
     "output_type": "stream",
     "text": [
      "/tmp/ipykernel_7347/3147320123.py:10: SettingWithCopyWarning: \n",
      "A value is trying to be set on a copy of a slice from a DataFrame\n",
      "\n",
      "See the caveats in the documentation: https://pandas.pydata.org/pandas-docs/stable/user_guide/indexing.html#returning-a-view-versus-a-copy\n",
      "  rd10_df['genline'][missing_genline_idx]='rd10'\n"
     ]
    }
   ],
   "source": [
    "file_path = 'ADD_YOUR_PATH_TO_DATA_HERE-filtered-cells'\n",
    "\n",
    "rd10_df = pd.read_pickle(file_path)  \n",
    "# multiindex df to single index df\n",
    "rd10_df = rd10_df.reset_index(level=[0,1,2,3,4,5,6,7,8,9,10,11])\n",
    "# drop unnecessary keys\n",
    "rd10_df = rd10_df.drop(columns=['training_data_hash','classifier_params_hash','preprocess_id','condition','raw_id','gchirp','bar'])\n",
    "missing_genline_idx = np.where(rd10_df['genline']=='')[0]\n",
    "rd10_df['genline'][missing_genline_idx]='rd10'\n",
    "idx_p60 = np.where(rd10_df['animrem'].values=='P60')[0]\n",
    "rd10_df = rd10_df.drop(idx_p60)\n",
    "rd10_df = rd10_df.reset_index(drop=True)"
   ]
  },
  {
   "cell_type": "code",
   "execution_count": 51,
   "id": "31b919b0-d1e7-43d2-80c1-087d1586a56d",
   "metadata": {},
   "outputs": [],
   "source": [
    "rd10_df_non_ds = rd10_df[rd10_df['bar_ds_pvalue']>=0.05]\n",
    "rd10_df_ds = rd10_df[rd10_df['bar_ds_pvalue']<0.05]"
   ]
  },
  {
   "cell_type": "code",
   "execution_count": 52,
   "id": "3c91454f-9b90-433c-ab10-db6dfddd8f68",
   "metadata": {},
   "outputs": [],
   "source": [
    "perc_ds_wt_p30 = round((rd10_df[(rd10_df['bar_ds_pvalue']<0.05)&(rd10_df['animrem']=='P30')&(rd10_df['genline']=='Bl6')]['preproc_chirp'].values.shape[0]) / num_cells_wt_p30 * 100,2)\n",
    "perc_ds_wt_p45 = round((rd10_df[(rd10_df['bar_ds_pvalue']<0.05)&(rd10_df['animrem']=='P45')&(rd10_df['genline']=='Bl6')]['preproc_chirp'].values.shape[0]) / num_cells_wt_p45 * 100,2)\n",
    "perc_ds_wt_p90 = round((rd10_df[(rd10_df['bar_ds_pvalue']<0.05)&(rd10_df['animrem']=='P90')&(rd10_df['genline']=='Bl6')]['preproc_chirp'].values.shape[0]) / num_cells_wt_p90 * 100,2)\n",
    "\n",
    "perc_ds_rd_p30 = round((rd10_df[(rd10_df['bar_ds_pvalue']<0.05)&(rd10_df['animrem']=='P30')&(rd10_df['genline']=='rd10')]['preproc_chirp'].values.shape[0]) / num_cells_rd_p30 * 100,2)\n",
    "perc_ds_rd_p45 = round((rd10_df[(rd10_df['bar_ds_pvalue']<0.05)&(rd10_df['animrem']=='P45')&(rd10_df['genline']=='rd10')]['preproc_chirp'].values.shape[0]) / num_cells_rd_p45 * 100,2)\n",
    "perc_ds_rd_p90 = round((rd10_df[(rd10_df['bar_ds_pvalue']<0.05)&(rd10_df['animrem']=='P90')&(rd10_df['genline']=='rd10')]['preproc_chirp'].values.shape[0]) / num_cells_rd_p90 * 100,2)"
   ]
  },
  {
   "cell_type": "code",
   "execution_count": 53,
   "id": "b6f6a1af-829e-45ea-a9e3-6e3788f95835",
   "metadata": {},
   "outputs": [],
   "source": [
    "perc_non_ds_wt_p30 = round((rd10_df[(rd10_df['bar_ds_pvalue']>=0.05)&(rd10_df['animrem']=='P30')&(rd10_df['genline']=='Bl6')]['preproc_chirp'].values.shape[0]) / num_cells_wt_p30 * 100,2)\n",
    "perc_non_ds_wt_p45 = round((rd10_df[(rd10_df['bar_ds_pvalue']>=0.05)&(rd10_df['animrem']=='P45')&(rd10_df['genline']=='Bl6')]['preproc_chirp'].values.shape[0]) / num_cells_wt_p45 * 100,2)\n",
    "perc_non_ds_wt_p90 = round((rd10_df[(rd10_df['bar_ds_pvalue']>=0.05)&(rd10_df['animrem']=='P90')&(rd10_df['genline']=='Bl6')]['preproc_chirp'].values.shape[0]) / num_cells_wt_p90 * 100,2)\n",
    "\n",
    "perc_non_ds_rd_p30 = round((rd10_df[(rd10_df['bar_ds_pvalue']>=0.05)&(rd10_df['animrem']=='P30')&(rd10_df['genline']=='rd10')]['preproc_chirp'].values.shape[0]) / num_cells_rd_p30 * 100,2)\n",
    "perc_non_ds_rd_p45 = round((rd10_df[(rd10_df['bar_ds_pvalue']>=0.05)&(rd10_df['animrem']=='P45')&(rd10_df['genline']=='rd10')]['preproc_chirp'].values.shape[0]) / num_cells_rd_p45 * 100,2)\n",
    "perc_non_ds_rd_p90 = round((rd10_df[(rd10_df['bar_ds_pvalue']>=0.05)&(rd10_df['animrem']=='P90')&(rd10_df['genline']=='rd10')]['preproc_chirp'].values.shape[0]) / num_cells_rd_p90 * 100,2)"
   ]
  },
  {
   "cell_type": "code",
   "execution_count": 54,
   "id": "c196da0e-9883-400d-bf92-dd514f270cfb",
   "metadata": {},
   "outputs": [],
   "source": [
    "log_perc_ds_p30 = np.log2((perc_ds_rd_p30/perc_ds_wt_p30))\n",
    "log_perc_ds_p45 = np.log2((perc_ds_rd_p45/perc_ds_wt_p45))\n",
    "log_perc_ds_p90 = np.log2((perc_ds_rd_p90/perc_ds_wt_p90))\n",
    "\n",
    "log_perc_non_ds_p30 = np.log2((perc_non_ds_rd_p30/perc_non_ds_wt_p30))\n",
    "log_perc_non_ds_p45 = np.log2((perc_non_ds_rd_p45/perc_non_ds_wt_p45))\n",
    "log_perc_non_ds_p90 = np.log2((perc_non_ds_rd_p90/perc_non_ds_wt_p90))"
   ]
  },
  {
   "cell_type": "code",
   "execution_count": 55,
   "id": "53856534-2f8f-4a93-8dca-c2c9f7260e14",
   "metadata": {},
   "outputs": [
    {
     "data": {
      "image/png": "[encoded data removed]",
      "text/plain": [
       "<Figure size 200x200 with 1 Axes>"
      ]
     },
     "metadata": {},
     "output_type": "display_data"
    }
   ],
   "source": [
    "fig,ax=plt.subplots(1,1,figsize=(2,2))\n",
    "ax.errorbar(np.arange(0,3,1),[log_perc_ds_p30,log_perc_ds_p45,log_perc_ds_p90],color='k',lw=2,label='DS')\n",
    "ax.errorbar(np.arange(0,3,1),[log_perc_non_ds_p30,log_perc_non_ds_p45,log_perc_non_ds_p90],color='tab:red',lw=2,label='Non-DS')\n",
    "ax.set_ylim(-2,2)\n",
    "ax.legend(frameon=False,loc=2)\n",
    "xticks = [0,1,2]  # Set your x-ticks positions here\n",
    "xtick_labels = ['P30', 'P45', 'P90']  # Set your custom labels here\n",
    "\n",
    "ax.set_xticks(ticks=xticks, labels=xtick_labels,fontsize=8)\n",
    "ax.tick_params(axis='both', which='major', labelsize=10)  # Adjust 'labelsize' as needed\n",
    "ax.axhline(0,ls='--',lw=0.75,color='k')\n",
    "\n",
    "sns.despine()\n",
    "fig.tight_layout()"
   ]
  },
  {
   "cell_type": "markdown",
   "id": "1f7c83ff-7b11-440b-acf4-d7e0e14a2937",
   "metadata": {},
   "source": [
    "## OS/Non-OS cells"
   ]
  },
  {
   "cell_type": "code",
   "execution_count": 56,
   "id": "49dee976-9a84-4ee3-aef3-b91e33ceaa84",
   "metadata": {},
   "outputs": [],
   "source": [
    "rd10_df_non_ds = rd10_df[rd10_df['bar_os_pvalue']>=0.05]\n",
    "rd10_df_ds = rd10_df[rd10_df['bar_os_pvalue']<0.05]"
   ]
  },
  {
   "cell_type": "code",
   "execution_count": 57,
   "id": "ca7a5856-b9ba-479d-9ed9-0de8020f6e7b",
   "metadata": {},
   "outputs": [],
   "source": [
    "perc_ds_wt_p30 = round((rd10_df[(rd10_df['bar_os_pvalue']<0.05)&(rd10_df['animrem']=='P30')&(rd10_df['genline']=='Bl6')]['preproc_chirp'].values.shape[0]) / num_cells_wt_p30 * 100,2)\n",
    "perc_ds_wt_p45 = round((rd10_df[(rd10_df['bar_os_pvalue']<0.05)&(rd10_df['animrem']=='P45')&(rd10_df['genline']=='Bl6')]['preproc_chirp'].values.shape[0]) / num_cells_wt_p45 * 100,2)\n",
    "perc_ds_wt_p90 = round((rd10_df[(rd10_df['bar_os_pvalue']<0.05)&(rd10_df['animrem']=='P90')&(rd10_df['genline']=='Bl6')]['preproc_chirp'].values.shape[0]) / num_cells_wt_p90 * 100,2)\n",
    "\n",
    "perc_ds_rd_p30 = round((rd10_df[(rd10_df['bar_os_pvalue']<0.05)&(rd10_df['animrem']=='P30')&(rd10_df['genline']=='rd10')]['preproc_chirp'].values.shape[0]) / num_cells_rd_p30 * 100,2)\n",
    "perc_ds_rd_p45 = round((rd10_df[(rd10_df['bar_os_pvalue']<0.05)&(rd10_df['animrem']=='P45')&(rd10_df['genline']=='rd10')]['preproc_chirp'].values.shape[0]) / num_cells_rd_p45 * 100,2)\n",
    "perc_ds_rd_p90 = round((rd10_df[(rd10_df['bar_os_pvalue']<0.05)&(rd10_df['animrem']=='P90')&(rd10_df['genline']=='rd10')]['preproc_chirp'].values.shape[0]) / num_cells_rd_p90 * 100,2)"
   ]
  },
  {
   "cell_type": "code",
   "execution_count": 58,
   "id": "a670289a-50c7-43ef-93b9-d33b0312d984",
   "metadata": {},
   "outputs": [],
   "source": [
    "perc_non_ds_wt_p30 = round((rd10_df[(rd10_df['bar_os_pvalue']>=0.05)&(rd10_df['animrem']=='P30')&(rd10_df['genline']=='Bl6')]['preproc_chirp'].values.shape[0]) / num_cells_wt_p30 * 100,2)\n",
    "perc_non_ds_wt_p45 = round((rd10_df[(rd10_df['bar_os_pvalue']>=0.05)&(rd10_df['animrem']=='P45')&(rd10_df['genline']=='Bl6')]['preproc_chirp'].values.shape[0]) / num_cells_wt_p45 * 100,2)\n",
    "perc_non_ds_wt_p90 = round((rd10_df[(rd10_df['bar_os_pvalue']>=0.05)&(rd10_df['animrem']=='P90')&(rd10_df['genline']=='Bl6')]['preproc_chirp'].values.shape[0]) / num_cells_wt_p90 * 100,2)\n",
    "\n",
    "perc_non_ds_rd_p30 = round((rd10_df[(rd10_df['bar_os_pvalue']>=0.05)&(rd10_df['animrem']=='P30')&(rd10_df['genline']=='rd10')]['preproc_chirp'].values.shape[0]) / num_cells_rd_p30 * 100,2)\n",
    "perc_non_ds_rd_p45 = round((rd10_df[(rd10_df['bar_os_pvalue']>=0.05)&(rd10_df['animrem']=='P45')&(rd10_df['genline']=='rd10')]['preproc_chirp'].values.shape[0]) / num_cells_rd_p45 * 100,2)\n",
    "perc_non_ds_rd_p90 = round((rd10_df[(rd10_df['bar_os_pvalue']>=0.05)&(rd10_df['animrem']=='P90')&(rd10_df['genline']=='rd10')]['preproc_chirp'].values.shape[0]) / num_cells_rd_p90 * 100,2)"
   ]
  },
  {
   "cell_type": "code",
   "execution_count": 59,
   "id": "3802107b-0981-41c1-9e8d-783dd0c4a8e6",
   "metadata": {},
   "outputs": [],
   "source": [
    "log_perc_ds_p30 = np.log2((perc_ds_rd_p30/perc_ds_wt_p30))\n",
    "log_perc_ds_p45 = np.log2((perc_ds_rd_p45/perc_ds_wt_p45))\n",
    "log_perc_ds_p90 = np.log2((perc_ds_rd_p90/perc_ds_wt_p90))\n",
    "\n",
    "log_perc_non_ds_p30 = np.log2((perc_non_ds_rd_p30/perc_non_ds_wt_p30))\n",
    "log_perc_non_ds_p45 = np.log2((perc_non_ds_rd_p45/perc_non_ds_wt_p45))\n",
    "log_perc_non_ds_p90 = np.log2((perc_non_ds_rd_p90/perc_non_ds_wt_p90))"
   ]
  },
  {
   "cell_type": "code",
   "execution_count": 60,
   "id": "dbf09100-7412-41c2-afaf-d897d4e2ed22",
   "metadata": {},
   "outputs": [
    {
     "data": {
      "image/png": "[encoded data removed]",
      "text/plain": [
       "<Figure size 200x200 with 1 Axes>"
      ]
     },
     "metadata": {},
     "output_type": "display_data"
    }
   ],
   "source": [
    "fig,ax=plt.subplots(1,1,figsize=(2,2))\n",
    "ax.errorbar(np.arange(0,3,1),[log_perc_ds_p30,log_perc_ds_p45,log_perc_ds_p90],color='k',lw=2,label='OS')\n",
    "ax.errorbar(np.arange(0,3,1),[log_perc_non_ds_p30,log_perc_non_ds_p45,log_perc_non_ds_p90],color='tab:red',lw=2,label='Non-OS')\n",
    "ax.set_ylim(-2,2)\n",
    "ax.legend(frameon=False,loc=2)\n",
    "xticks = [0,1,2]  # Set your x-ticks positions here\n",
    "xtick_labels = ['P30', 'P45', 'P90']  # Set your custom labels here\n",
    "\n",
    "ax.set_xticks(ticks=xticks, labels=xtick_labels,fontsize=8)\n",
    "ax.tick_params(axis='both', which='major', labelsize=10)  # Adjust 'labelsize' as needed\n",
    "ax.axhline(0,ls='--',lw=0.75,color='k')\n",
    "\n",
    "sns.despine()\n",
    "fig.tight_layout()"
   ]
  }
 ],
 "metadata": {
  "kernelspec": {
   "display_name": "Python 3 (ipykernel)",
   "language": "python",
   "name": "python3"
  },
  "language_info": {
   "codemirror_mode": {
    "name": "ipython",
    "version": 3
   },
   "file_extension": ".py",
   "mimetype": "text/x-python",
   "name": "python",
   "nbconvert_exporter": "python",
   "pygments_lexer": "ipython3",
   "version": "3.8.10"
  }
 },
 "nbformat": 4,
 "nbformat_minor": 5
}
