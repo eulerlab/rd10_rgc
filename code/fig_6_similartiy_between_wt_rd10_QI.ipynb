{
 "cells": [
  {
   "cell_type": "markdown",
   "id": "942cc793-0169-4152-a54e-6b569e2788c5",
   "metadata": {},
   "source": [
    "# Figure 6: Similarity between *wild-type* and *rd10* quality index (QI)"
   ]
  },
  {
   "cell_type": "markdown",
   "id": "915d3deb-d458-474e-8d35-ea184a22a80a",
   "metadata": {},
   "source": [
    "## Imports"
   ]
  },
  {
   "cell_type": "code",
   "execution_count": 5,
   "id": "b4db3a82-4274-4aa9-af02-5feea2c268bc",
   "metadata": {
    "ExecuteTime": {
     "end_time": "2025-01-30T14:35:44.914072Z",
     "start_time": "2025-01-30T14:35:44.898465Z"
    }
   },
   "outputs": [],
   "source": [
    "import os\n",
    "import matplotlib.pyplot as plt\n",
    "import numpy as np\n",
    "import pandas as pd\n",
    "import seaborn as sns\n",
    "from scipy.spatial.distance import jensenshannon\n",
    "from scipy.stats import gaussian_kde"
   ]
  },
  {
   "cell_type": "markdown",
   "id": "0179ae68-e36b-432d-8749-e1881424d4c3",
   "metadata": {},
   "source": [
    "# ------------------------------------------------------------------------------------------------------------"
   ]
  },
  {
   "cell_type": "markdown",
   "id": "d9d7c0e6-8dca-40e8-b1a5-66c6f68daec8",
   "metadata": {},
   "source": [
    "# load and clean dataset"
   ]
  },
  {
   "cell_type": "code",
   "execution_count": 6,
   "id": "899307b2f101722b",
   "metadata": {
    "ExecuteTime": {
     "end_time": "2025-01-30T14:35:47.351805Z",
     "start_time": "2025-01-30T14:35:44.926081Z"
    }
   },
   "outputs": [],
   "source": [
    "file_path = '../data'  # Adjust path to file if necessary\n",
    "file_name = 'rd10_filtered_data.h5'\n",
    "joined_path = os.path.join(file_path, file_name)\n",
    "rd10_df = pd.read_hdf(joined_path, key='df')"
   ]
  },
  {
   "cell_type": "code",
   "execution_count": 7,
   "id": "beb999949ef0a05e",
   "metadata": {
    "ExecuteTime": {
     "end_time": "2025-01-30T14:35:47.383076Z",
     "start_time": "2025-01-30T14:35:47.367451Z"
    }
   },
   "outputs": [],
   "source": [
    "# exclude classified cells below threshold\n",
    "confidence_score = 0.25\n",
    "rd10_df = rd10_df[rd10_df['max_confidence'] >= confidence_score]"
   ]
  },
  {
   "cell_type": "markdown",
   "id": "f58d1b1a-ff3a-4599-bd36-fb0145567d64",
   "metadata": {},
   "source": [
    "# ------------------------------------------------------------------------------------------------------------"
   ]
  },
  {
   "cell_type": "markdown",
   "id": "17af7558-f882-4b65-922c-e819b8f921f8",
   "metadata": {},
   "source": [
    "# Compute JSD of the QI's per stimulus"
   ]
  },
  {
   "cell_type": "code",
   "execution_count": null,
   "id": "b42eaeb7d565b5f2",
   "metadata": {},
   "outputs": [],
   "source": [
    "def compute_kde(data, bw_method=None):\n",
    "    # Add a small amount of noise to avoid singular matrix errors\n",
    "    data += np.random.normal(0, 1e-9, data.shape)\n",
    "    kde = gaussian_kde(data, bw_method=bw_method)\n",
    "    return kde\n",
    "\n",
    "\n",
    "def compute_jsd(p, q):\n",
    "    if (p.shape[0] <= 2) or (q.shape[0] <= 2):\n",
    "        jsd = 0\n",
    "\n",
    "    else:\n",
    "\n",
    "        # Compute the KDE for both distributions\n",
    "        kde_p = compute_kde(p)\n",
    "        kde_q = compute_kde(q)\n",
    "\n",
    "        # Define the support for the KDE\n",
    "        xmin = min(np.min(p), np.min(q))\n",
    "        xmax = max(np.max(p), np.max(q))\n",
    "        support = np.linspace(xmin, xmax, 1000)\n",
    "\n",
    "        # Evaluate the KDE on the support\n",
    "        pdf_p = kde_p(support)\n",
    "        pdf_q = kde_q(support)\n",
    "\n",
    "        # Compute the average PDF\n",
    "        avg_pdf = 0.5 * (pdf_p + pdf_q)\n",
    "\n",
    "        # Compute the JSD\n",
    "        jsd = np.sqrt(0.5 * (jensenshannon(pdf_p, avg_pdf) + jensenshannon(pdf_q, avg_pdf)))\n",
    "\n",
    "    return jsd"
   ]
  },
  {
   "cell_type": "code",
   "execution_count": null,
   "id": "1ae7447cd7f32cbe",
   "metadata": {},
   "outputs": [],
   "source": [
    "type_id = np.hstack((np.arange(1, 33, 1), np.arange(1, 33, 1), np.arange(1, 33, 1)))\n",
    "jsd_qi_chirp = np.zeros((3, 32))\n",
    "jsd_qi_bar = np.zeros((3, 32))\n",
    "\n",
    "for i in range(0, 32):\n",
    "    qi_chirp_wt_p30 = \\\n",
    "        rd10_df[(rd10_df['celltype'] == i + 1) & (rd10_df['genline'] == 'Bl6') & (rd10_df['animrem'] == 'P30')][\n",
    "            'gchirp_qidx'].values\n",
    "    qi_chirp_rd_p30 = \\\n",
    "        rd10_df[(rd10_df['celltype'] == i + 1) & (rd10_df['genline'] == 'rd10') & (rd10_df['animrem'] == 'P30')][\n",
    "            'gchirp_qidx'].values\n",
    "    qi_chirp_wt_p45 = \\\n",
    "        rd10_df[(rd10_df['celltype'] == i + 1) & (rd10_df['genline'] == 'Bl6') & (rd10_df['animrem'] == 'P45')][\n",
    "            'gchirp_qidx'].values\n",
    "    qi_chirp_rd_p45 = \\\n",
    "        rd10_df[(rd10_df['celltype'] == i + 1) & (rd10_df['genline'] == 'rd10') & (rd10_df['animrem'] == 'P45')][\n",
    "            'gchirp_qidx'].values\n",
    "    qi_chirp_wt_p90 = \\\n",
    "        rd10_df[(rd10_df['celltype'] == i + 1) & (rd10_df['genline'] == 'Bl6') & (rd10_df['animrem'] == 'P90')][\n",
    "            'gchirp_qidx'].values\n",
    "    qi_chirp_rd_p90 = \\\n",
    "        rd10_df[(rd10_df['celltype'] == i + 1) & (rd10_df['genline'] == 'rd10') & (rd10_df['animrem'] == 'P90')][\n",
    "            'gchirp_qidx'].values\n",
    "    jsd_qi_chirp[0, i] = compute_jsd(qi_chirp_wt_p30, qi_chirp_rd_p30)\n",
    "    jsd_qi_chirp[1, i] = compute_jsd(qi_chirp_wt_p45, qi_chirp_rd_p45)\n",
    "    jsd_qi_chirp[2, i] = compute_jsd(qi_chirp_wt_p90, qi_chirp_rd_p90)\n",
    "\n",
    "    qi_bar_wt_p30 = \\\n",
    "        rd10_df[(rd10_df['celltype'] == i + 1) & (rd10_df['genline'] == 'Bl6') & (rd10_df['animrem'] == 'P30')][\n",
    "            'bar_d_qi'].values\n",
    "    qi_bar_rd_p30 = \\\n",
    "        rd10_df[(rd10_df['celltype'] == i + 1) & (rd10_df['genline'] == 'rd10') & (rd10_df['animrem'] == 'P30')][\n",
    "            'bar_d_qi'].values\n",
    "    qi_bar_wt_p45 = \\\n",
    "        rd10_df[(rd10_df['celltype'] == i + 1) & (rd10_df['genline'] == 'Bl6') & (rd10_df['animrem'] == 'P45')][\n",
    "            'bar_d_qi'].values\n",
    "    qi_bar_rd_p45 = \\\n",
    "        rd10_df[(rd10_df['celltype'] == i + 1) & (rd10_df['genline'] == 'rd10') & (rd10_df['animrem'] == 'P45')][\n",
    "            'bar_d_qi'].values\n",
    "    qi_bar_wt_p90 = \\\n",
    "        rd10_df[(rd10_df['celltype'] == i + 1) & (rd10_df['genline'] == 'Bl6') & (rd10_df['animrem'] == 'P90')][\n",
    "            'bar_d_qi'].values\n",
    "    qi_bar_rd_p90 = \\\n",
    "        rd10_df[(rd10_df['celltype'] == i + 1) & (rd10_df['genline'] == 'rd10') & (rd10_df['animrem'] == 'P90')][\n",
    "            'bar_d_qi'].values\n",
    "    jsd_qi_bar[0, i] = compute_jsd(qi_bar_wt_p30, qi_bar_rd_p30)\n",
    "    jsd_qi_bar[1, i] = compute_jsd(qi_bar_wt_p45, qi_bar_rd_p45)\n",
    "    jsd_qi_bar[2, i] = compute_jsd(qi_bar_wt_p90, qi_bar_rd_p90)"
   ]
  },
  {
   "cell_type": "code",
   "execution_count": null,
   "id": "4299c8a702d877a9",
   "metadata": {},
   "outputs": [],
   "source": [
    "jsd_qi_chirp_all = np.hstack((jsd_qi_chirp[0, :], jsd_qi_chirp[1, :], jsd_qi_chirp[2, :]))\n",
    "jsd_qi_bar_all = np.hstack((jsd_qi_bar[0, :], jsd_qi_bar[1, :], jsd_qi_bar[2, :]))\n",
    "\n",
    "d = {'JSD': jsd_qi_chirp_all, 'age': ['P30'] * 32 + ['P45'] * 32 + ['P90'] * 32, 'RGC type': type_id}\n",
    "df_jsd_qi_chirp_all = pd.DataFrame(data=d)\n",
    "\n",
    "d = {'JSD': jsd_qi_bar_all, 'age': ['P30'] * 32 + ['P45'] * 32 + ['P90'] * 32, 'RGC type': type_id}\n",
    "df_jsd_qi_bar_all = pd.DataFrame(data=d)"
   ]
  },
  {
   "cell_type": "code",
   "execution_count": null,
   "id": "85e27cb972eab3e0",
   "metadata": {},
   "outputs": [],
   "source": [
    "fig, ax = plt.subplots(2, 1, figsize=(7, 3))\n",
    "\n",
    "axes1 = sns.barplot(data=df_jsd_qi_chirp_all,\n",
    "                    x='RGC type',\n",
    "                    y='JSD',\n",
    "                    hue='age',\n",
    "                    ax=ax[0],\n",
    "                    edgecolor='k',\n",
    "                    palette=['gray', 'gray', 'gray'])\n",
    "\n",
    "axes2 = sns.barplot(data=df_jsd_qi_bar_all,\n",
    "                    x='RGC type',\n",
    "                    y='JSD',\n",
    "                    hue='age',\n",
    "                    ax=ax[1],\n",
    "                    edgecolor='k',\n",
    "                    palette=['gray', 'gray', 'gray'])\n",
    "\n",
    "for item in axes1.get_xticklabels():\n",
    "    item.set_rotation(90)\n",
    "for item in axes2.get_xticklabels():\n",
    "    item.set_rotation(90)\n",
    "\n",
    "ax[0].get_legend().set_visible(False)\n",
    "ax[1].get_legend().set_visible(False)\n",
    "\n",
    "ax[0].set_title('Qi chirp')\n",
    "ax[1].set_title('Qi bar')\n",
    "\n",
    "ax[0].set_ylim(0, 0.6)\n",
    "ax[1].set_ylim(0, 0.6)\n",
    "\n",
    "hatches = ['', '-', '\\\\']  # Hatching patterns for each age group\n",
    "for hatch_pattern, these_bars in zip(hatches, ax[0].containers):\n",
    "    for this_bar in these_bars:\n",
    "        this_bar.set_hatch(3 * hatch_pattern)\n",
    "for hatch_pattern, these_bars in zip(hatches, ax[1].containers):\n",
    "    for this_bar in these_bars:\n",
    "        this_bar.set_hatch(3 * hatch_pattern)\n",
    "\n",
    "sns.despine()\n",
    "fig.tight_layout()"
   ]
  },
  {
   "cell_type": "code",
   "execution_count": null,
   "id": "8638f56c4e566ad7",
   "metadata": {},
   "outputs": [],
   "source": []
  }
 ],
 "metadata": {
  "kernelspec": {
   "display_name": "Python 3 (ipykernel)",
   "language": "python",
   "name": "python3"
  },
  "language_info": {
   "codemirror_mode": {
    "name": "ipython",
    "version": 3
   },
   "file_extension": ".py",
   "mimetype": "text/x-python",
   "name": "python",
   "nbconvert_exporter": "python",
   "pygments_lexer": "ipython3",
   "version": "3.8.10"
  }
 },
 "nbformat": 4,
 "nbformat_minor": 5
}
